{
 "cells": [
  {
   "cell_type": "code",
   "execution_count": 4,
   "metadata": {},
   "outputs": [],
   "source": [
    "from SetTopol import TopolSettings\n",
    "import numpy as np"
   ]
  },
  {
   "cell_type": "code",
   "execution_count": 2,
   "metadata": {},
   "outputs": [],
   "source": [
    "top = TopolSettings(nx = 50, ny = 50, vol = 0.5, rmin = 5.4, penalinit = 3.0, penalmed = 3.0, filt = 0, nu=0.3)"
   ]
  },
  {
   "cell_type": "code",
   "execution_count": 5,
   "metadata": {},
   "outputs": [],
   "source": [
    "# fixed on the left side + load on upper right downward\n",
    "top.setf(value=1, node=51*50, teta=270)\n",
    "top.setfixed(list_nodes=np.arange(0,51))\n",
    "top.optimize(store=True)\n",
    "top.plot()"
   ]
  },
  {
   "cell_type": "code",
   "execution_count": null,
   "metadata": {},
   "outputs": [],
   "source": [
    "# fixed on the left side + load on bottom right downward\n",
    "top.setf(value=1, node=51*51-1, teta=270)\n",
    "top.setfixed(list_nodes=np.arange(0,51))\n",
    "top.optimize(store=True)\n",
    "top.plot()"
   ]
  },
  {
   "cell_type": "code",
   "execution_count": null,
   "metadata": {},
   "outputs": [],
   "source": [
    "# fixed on the left side + load on bottom right with 45 degrees of inclination\n",
    "top.setf(value=1, node=51*51-1, teta=45+180)\n",
    "top.setfixed(list_nodes=np.arange(0,51))\n",
    "top.optimize(store=True)\n",
    "top.plot()"
   ]
  },
  {
   "cell_type": "code",
   "execution_count": null,
   "metadata": {},
   "outputs": [],
   "source": [
    "# the plots are saved in the folder"
   ]
  }
 ],
 "metadata": {
  "kernelspec": {
   "display_name": "Python 3",
   "language": "python",
   "name": "python3"
  },
  "language_info": {
   "codemirror_mode": {
    "name": "ipython",
    "version": 3
   },
   "file_extension": ".py",
   "mimetype": "text/x-python",
   "name": "python",
   "nbconvert_exporter": "python",
   "pygments_lexer": "ipython3",
   "version": "3.7.1"
  }
 },
 "nbformat": 4,
 "nbformat_minor": 2
}
