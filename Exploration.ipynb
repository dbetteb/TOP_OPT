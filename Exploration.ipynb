{
 "cells": [
  {
   "cell_type": "markdown",
   "metadata": {},
   "source": [
    "# Example 1: Design Generation with one load"
   ]
  },
  {
   "cell_type": "code",
   "execution_count": 1,
   "metadata": {},
   "outputs": [],
   "source": [
    "from SetTopol import TopolSettings\n",
    "import numpy as np"
   ]
  },
  {
   "cell_type": "code",
   "execution_count": 2,
   "metadata": {
    "scrolled": true
   },
   "outputs": [
    {
     "name": "stdout",
     "output_type": "stream",
     "text": [
      "it.: 1 , obj.: 59.825 Vol.: 0.500, ch.: 0.200\n",
      "it.: 2 , obj.: 24.137 Vol.: 0.500, ch.: 0.200\n",
      "it.: 3 , obj.: 12.411 Vol.: 0.500, ch.: 0.200\n",
      "it.: 4 , obj.: 9.200 Vol.: 0.500, ch.: 0.200\n",
      "it.: 5 , obj.: 8.925 Vol.: 0.500, ch.: 0.172\n",
      "it.: 6 , obj.: 8.781 Vol.: 0.500, ch.: 0.152\n",
      "it.: 7 , obj.: 8.687 Vol.: 0.500, ch.: 0.136\n",
      "it.: 8 , obj.: 8.625 Vol.: 0.500, ch.: 0.103\n",
      "it.: 9 , obj.: 8.583 Vol.: 0.500, ch.: 0.087\n",
      "it.: 10 , obj.: 8.556 Vol.: 0.500, ch.: 0.071\n",
      "it.: 11 , obj.: 8.537 Vol.: 0.500, ch.: 0.056\n",
      "it.: 12 , obj.: 8.525 Vol.: 0.500, ch.: 0.055\n",
      "it.: 13 , obj.: 8.515 Vol.: 0.500, ch.: 0.045\n",
      "it.: 14 , obj.: 8.509 Vol.: 0.500, ch.: 0.044\n",
      "it.: 15 , obj.: 8.504 Vol.: 0.500, ch.: 0.037\n",
      "it.: 16 , obj.: 8.500 Vol.: 0.500, ch.: 0.037\n",
      "it.: 17 , obj.: 8.497 Vol.: 0.500, ch.: 0.031\n",
      "it.: 18 , obj.: 8.494 Vol.: 0.500, ch.: 0.031\n",
      "it.: 19 , obj.: 8.492 Vol.: 0.500, ch.: 0.026\n",
      "it.: 20 , obj.: 8.490 Vol.: 0.500, ch.: 0.027\n",
      "it.: 21 , obj.: 8.488 Vol.: 0.500, ch.: 0.023\n",
      "it.: 22 , obj.: 8.487 Vol.: 0.500, ch.: 0.024\n",
      "it.: 23 , obj.: 8.485 Vol.: 0.500, ch.: 0.020\n",
      "it.: 24 , obj.: 8.484 Vol.: 0.500, ch.: 0.021\n",
      "it.: 25 , obj.: 8.483 Vol.: 0.500, ch.: 0.017\n",
      "it.: 26 , obj.: 8.482 Vol.: 0.500, ch.: 0.018\n",
      "it.: 27 , obj.: 8.481 Vol.: 0.500, ch.: 0.016\n",
      "it.: 28 , obj.: 8.480 Vol.: 0.500, ch.: 0.016\n",
      "it.: 29 , obj.: 8.479 Vol.: 0.500, ch.: 0.014\n",
      "it.: 30 , obj.: 8.478 Vol.: 0.500, ch.: 0.015\n",
      "it.: 31 , obj.: 8.477 Vol.: 0.500, ch.: 0.012\n",
      "it.: 32 , obj.: 8.477 Vol.: 0.500, ch.: 0.013\n",
      "it.: 33 , obj.: 8.476 Vol.: 0.500, ch.: 0.011\n",
      "it.: 34 , obj.: 8.475 Vol.: 0.500, ch.: 0.012\n",
      "it.: 35 , obj.: 8.475 Vol.: 0.500, ch.: 0.010\n",
      "it.: 36 , obj.: 8.474 Vol.: 0.500, ch.: 0.011\n",
      "it.: 37 , obj.: 8.474 Vol.: 0.500, ch.: 0.009\n",
      "it.: 38 , obj.: 8.473 Vol.: 0.500, ch.: 0.010\n",
      "it.: 39 , obj.: 8.473 Vol.: 0.500, ch.: 0.008\n",
      "it.: 40 , obj.: 8.472 Vol.: 0.500, ch.: 0.009\n",
      "it.: 41 , obj.: 8.472 Vol.: 0.500, ch.: 0.007\n",
      "it.: 42 , obj.: 8.471 Vol.: 0.500, ch.: 0.008\n",
      "it.: 43 , obj.: 8.471 Vol.: 0.500, ch.: 0.007\n",
      "it.: 44 , obj.: 8.471 Vol.: 0.500, ch.: 0.007\n",
      "it.: 45 , obj.: 8.470 Vol.: 0.500, ch.: 0.006\n",
      "it.: 46 , obj.: 8.470 Vol.: 0.500, ch.: 0.007\n",
      "it.: 47 , obj.: 8.469 Vol.: 0.500, ch.: 0.006\n",
      "it.: 48 , obj.: 8.469 Vol.: 0.500, ch.: 0.006\n",
      "it.: 49 , obj.: 8.469 Vol.: 0.500, ch.: 0.005\n",
      "it.: 50 , obj.: 8.469 Vol.: 0.500, ch.: 0.005\n",
      "it.: 51 , obj.: 8.468 Vol.: 0.500, ch.: 0.005\n",
      "it.: 52 , obj.: 8.468 Vol.: 0.500, ch.: 0.005\n",
      "it.: 53 , obj.: 8.468 Vol.: 0.500, ch.: 0.004\n",
      "it.: 54 , obj.: 8.468 Vol.: 0.500, ch.: 0.004\n",
      "it.: 55 , obj.: 8.467 Vol.: 0.500, ch.: 0.004\n",
      "it.: 56 , obj.: 8.467 Vol.: 0.500, ch.: 0.004\n",
      "it.: 57 , obj.: 8.467 Vol.: 0.500, ch.: 0.003\n",
      "it.: 58 , obj.: 8.467 Vol.: 0.500, ch.: 0.004\n",
      "it.: 59 , obj.: 8.467 Vol.: 0.500, ch.: 0.003\n",
      "it.: 60 , obj.: 8.466 Vol.: 0.500, ch.: 0.003\n",
      "it.: 61 , obj.: 8.466 Vol.: 0.500, ch.: 0.003\n",
      "it.: 62 , obj.: 8.466 Vol.: 0.500, ch.: 0.003\n",
      "it.: 63 , obj.: 8.466 Vol.: 0.500, ch.: 0.003\n",
      "it.: 64 , obj.: 8.466 Vol.: 0.500, ch.: 0.003\n",
      "it.: 65 , obj.: 8.466 Vol.: 0.500, ch.: 0.002\n",
      "it.: 66 , obj.: 8.466 Vol.: 0.500, ch.: 0.002\n",
      "it.: 67 , obj.: 8.465 Vol.: 0.500, ch.: 0.002\n",
      "it.: 68 , obj.: 8.465 Vol.: 0.500, ch.: 0.002\n",
      "it.: 69 , obj.: 8.465 Vol.: 0.500, ch.: 0.002\n",
      "it.: 70 , obj.: 8.465 Vol.: 0.500, ch.: 0.002\n",
      "it.: 71 , obj.: 8.465 Vol.: 0.500, ch.: 0.002\n",
      "it.: 72 , obj.: 8.465 Vol.: 0.500, ch.: 0.002\n",
      "it.: 73 , obj.: 8.465 Vol.: 0.500, ch.: 0.002\n",
      "it.: 74 , obj.: 8.465 Vol.: 0.500, ch.: 0.002\n",
      "it.: 75 , obj.: 8.465 Vol.: 0.500, ch.: 0.001\n",
      "it.: 76 , obj.: 8.465 Vol.: 0.500, ch.: 0.002\n",
      "it.: 77 , obj.: 8.465 Vol.: 0.500, ch.: 0.001\n",
      "it.: 78 , obj.: 8.464 Vol.: 0.500, ch.: 0.001\n",
      "it.: 79 , obj.: 8.464 Vol.: 0.500, ch.: 0.001\n",
      "it.: 80 , obj.: 8.464 Vol.: 0.500, ch.: 0.001\n",
      "it.: 81 , obj.: 8.464 Vol.: 0.500, ch.: 0.001\n",
      "it.: 82 , obj.: 8.464 Vol.: 0.500, ch.: 0.001\n",
      "it.: 83 , obj.: 8.464 Vol.: 0.500, ch.: 0.001\n",
      "it.: 84 , obj.: 8.464 Vol.: 0.500, ch.: 0.001\n",
      "it.: 85 , obj.: 8.464 Vol.: 0.500, ch.: 0.001\n",
      "Elapsed time : 9.011072158813477 s\n"
     ]
    }
   ],
   "source": [
    "top = TopolSettings()\n",
    "top.optimize(store=True)"
   ]
  },
  {
   "cell_type": "code",
   "execution_count": 3,
   "metadata": {},
   "outputs": [
    {
     "name": "stdout",
     "output_type": "stream",
     "text": [
      "Saving design ... \n"
     ]
    },
    {
     "data": {
      "text/plain": [
       "array([[  0.,   0.,   0., ...,   0.,   0.,   0.],\n",
       "       [  0.,   0.,   0., ...,   0.,   0.,   0.],\n",
       "       [  0.,   0.,   0., ...,   0.,   0.,   0.],\n",
       "       ...,\n",
       "       [  0.,   0.,   0., ..., 255., 255., 255.],\n",
       "       [  0.,   0.,   0., ..., 255., 255., 255.],\n",
       "       [  0.,   0.,   0., ..., 255., 255., 255.]])"
      ]
     },
     "execution_count": 3,
     "metadata": {},
     "output_type": "execute_result"
    }
   ],
   "source": [
    "top.save_design(name='example')"
   ]
  },
  {
   "cell_type": "code",
   "execution_count": 4,
   "metadata": {},
   "outputs": [
    {
     "name": "stdout",
     "output_type": "stream",
     "text": [
      "Saving Animation ... \n"
     ]
    },
    {
     "data": {
      "image/png": "[encoded data removed]",
      "text/plain": [
       "<Figure size 432x288 with 2 Axes>"
      ]
     },
     "metadata": {
      "needs_background": "light"
     },
     "output_type": "display_data"
    }
   ],
   "source": [
    "top.plot(name=\"example\")"
   ]
  },
  {
   "cell_type": "code",
   "execution_count": 5,
   "metadata": {},
   "outputs": [
    {
     "data": {
      "text/plain": [
       "Topology optimization \n",
       "   50 elements in x_direction, 50 elements in y direction \n",
       "   5202 total number of degrees of freedom   0.5 of total volume allowed\n",
       "   5.4 radius filter"
      ]
     },
     "execution_count": 5,
     "metadata": {},
     "output_type": "execute_result"
    }
   ],
   "source": [
    "top"
   ]
  },
  {
   "cell_type": "code",
   "execution_count": 6,
   "metadata": {},
   "outputs": [
    {
     "name": "stdout",
     "output_type": "stream",
     "text": [
      "Caution this will change number of dofs and hence \n",
      " the optimization problem\n"
     ]
    }
   ],
   "source": [
    "top.nx = 100"
   ]
  },
  {
   "cell_type": "code",
   "execution_count": 7,
   "metadata": {},
   "outputs": [
    {
     "name": "stdout",
     "output_type": "stream",
     "text": [
      "Caution this will change number of dofs and hence \n",
      " the optimization problem\n"
     ]
    }
   ],
   "source": [
    "# Reset nx to 50\n",
    "top.nx = 50\n",
    "# Change load to an upper right downward load\n",
    "top.setf(value=1, node=51*51-1, teta=270)"
   ]
  },
  {
   "cell_type": "code",
   "execution_count": 8,
   "metadata": {
    "scrolled": true
   },
   "outputs": [
    {
     "name": "stdout",
     "output_type": "stream",
     "text": [
      "it.: 1 , obj.: 122.849 Vol.: 0.500, ch.: 0.200\n",
      "it.: 2 , obj.: 67.225 Vol.: 0.500, ch.: 0.200\n",
      "it.: 3 , obj.: 44.583 Vol.: 0.500, ch.: 0.200\n",
      "it.: 4 , obj.: 34.375 Vol.: 0.500, ch.: 0.200\n",
      "it.: 5 , obj.: 29.718 Vol.: 0.500, ch.: 0.171\n",
      "it.: 6 , obj.: 27.110 Vol.: 0.500, ch.: 0.137\n",
      "it.: 7 , obj.: 25.887 Vol.: 0.500, ch.: 0.100\n",
      "it.: 8 , obj.: 25.250 Vol.: 0.500, ch.: 0.073\n",
      "it.: 9 , obj.: 24.872 Vol.: 0.500, ch.: 0.053\n",
      "it.: 10 , obj.: 24.617 Vol.: 0.500, ch.: 0.049\n",
      "it.: 11 , obj.: 24.430 Vol.: 0.500, ch.: 0.043\n",
      "it.: 12 , obj.: 24.290 Vol.: 0.500, ch.: 0.035\n",
      "it.: 13 , obj.: 24.186 Vol.: 0.500, ch.: 0.027\n",
      "it.: 14 , obj.: 24.113 Vol.: 0.500, ch.: 0.019\n",
      "it.: 15 , obj.: 24.062 Vol.: 0.500, ch.: 0.014\n",
      "it.: 16 , obj.: 24.026 Vol.: 0.500, ch.: 0.011\n",
      "it.: 17 , obj.: 24.001 Vol.: 0.500, ch.: 0.010\n",
      "it.: 18 , obj.: 23.982 Vol.: 0.500, ch.: 0.008\n",
      "it.: 19 , obj.: 23.968 Vol.: 0.500, ch.: 0.008\n",
      "it.: 20 , obj.: 23.958 Vol.: 0.500, ch.: 0.007\n",
      "it.: 21 , obj.: 23.949 Vol.: 0.500, ch.: 0.006\n",
      "it.: 22 , obj.: 23.943 Vol.: 0.500, ch.: 0.006\n",
      "it.: 23 , obj.: 23.937 Vol.: 0.500, ch.: 0.005\n",
      "it.: 24 , obj.: 23.933 Vol.: 0.500, ch.: 0.005\n",
      "it.: 25 , obj.: 23.930 Vol.: 0.500, ch.: 0.004\n",
      "it.: 26 , obj.: 23.927 Vol.: 0.500, ch.: 0.004\n",
      "it.: 27 , obj.: 23.924 Vol.: 0.500, ch.: 0.004\n",
      "it.: 28 , obj.: 23.922 Vol.: 0.500, ch.: 0.003\n",
      "it.: 29 , obj.: 23.921 Vol.: 0.500, ch.: 0.003\n",
      "it.: 30 , obj.: 23.919 Vol.: 0.500, ch.: 0.003\n",
      "it.: 31 , obj.: 23.918 Vol.: 0.500, ch.: 0.003\n",
      "it.: 32 , obj.: 23.917 Vol.: 0.500, ch.: 0.002\n",
      "it.: 33 , obj.: 23.916 Vol.: 0.500, ch.: 0.002\n",
      "it.: 34 , obj.: 23.915 Vol.: 0.500, ch.: 0.002\n",
      "it.: 35 , obj.: 23.914 Vol.: 0.500, ch.: 0.002\n",
      "it.: 36 , obj.: 23.913 Vol.: 0.500, ch.: 0.002\n",
      "it.: 37 , obj.: 23.913 Vol.: 0.500, ch.: 0.002\n",
      "it.: 38 , obj.: 23.912 Vol.: 0.500, ch.: 0.002\n",
      "it.: 39 , obj.: 23.912 Vol.: 0.500, ch.: 0.002\n",
      "it.: 40 , obj.: 23.911 Vol.: 0.500, ch.: 0.001\n",
      "it.: 41 , obj.: 23.911 Vol.: 0.500, ch.: 0.001\n",
      "it.: 42 , obj.: 23.911 Vol.: 0.500, ch.: 0.001\n",
      "it.: 43 , obj.: 23.911 Vol.: 0.500, ch.: 0.001\n",
      "it.: 44 , obj.: 23.911 Vol.: 0.500, ch.: 0.001\n",
      "it.: 45 , obj.: 23.911 Vol.: 0.500, ch.: 0.001\n",
      "it.: 46 , obj.: 23.910 Vol.: 0.500, ch.: 0.001\n",
      "it.: 47 , obj.: 23.910 Vol.: 0.500, ch.: 0.001\n",
      "it.: 48 , obj.: 23.910 Vol.: 0.500, ch.: 0.001\n",
      "it.: 49 , obj.: 23.910 Vol.: 0.500, ch.: 0.001\n",
      "it.: 50 , obj.: 23.910 Vol.: 0.500, ch.: 0.001\n",
      "it.: 51 , obj.: 23.910 Vol.: 0.500, ch.: 0.001\n",
      "it.: 52 , obj.: 23.910 Vol.: 0.500, ch.: 0.001\n",
      "it.: 53 , obj.: 23.910 Vol.: 0.500, ch.: 0.001\n",
      "it.: 54 , obj.: 23.910 Vol.: 0.500, ch.: 0.001\n",
      "it.: 55 , obj.: 23.910 Vol.: 0.500, ch.: 0.001\n",
      "it.: 56 , obj.: 23.910 Vol.: 0.500, ch.: 0.001\n",
      "it.: 57 , obj.: 23.910 Vol.: 0.500, ch.: 0.001\n",
      "it.: 58 , obj.: 23.910 Vol.: 0.500, ch.: 0.001\n",
      "it.: 59 , obj.: 23.910 Vol.: 0.500, ch.: 0.001\n",
      "it.: 60 , obj.: 23.910 Vol.: 0.500, ch.: 0.001\n",
      "Elapsed time : 5.132249116897583 s\n",
      "Saving Animation ... \n"
     ]
    },
    {
     "data": {
      "image/png": "[encoded data removed]",
      "text/plain": [
       "<Figure size 432x288 with 2 Axes>"
      ]
     },
     "metadata": {
      "needs_background": "light"
     },
     "output_type": "display_data"
    }
   ],
   "source": [
    "top.optimize(store=True)\n",
    "top.plot(name=\"example2\")"
   ]
  },
  {
   "cell_type": "markdown",
   "metadata": {},
   "source": [
    "# Example 2: Design Generation with multiple loads"
   ]
  },
  {
   "cell_type": "code",
   "execution_count": 9,
   "metadata": {},
   "outputs": [],
   "source": [
    "from SetTopol_multiple_loads import TopolSettings"
   ]
  },
  {
   "cell_type": "code",
   "execution_count": 10,
   "metadata": {
    "scrolled": true
   },
   "outputs": [
    {
     "name": "stdout",
     "output_type": "stream",
     "text": [
      "it.: 1 , obj.: 526.360 Vol.: 0.400, ch.: 0.200\n",
      "it.: 2 , obj.: 291.222 Vol.: 0.400, ch.: 0.200\n",
      "it.: 3 , obj.: 213.917 Vol.: 0.400, ch.: 0.200\n",
      "it.: 4 , obj.: 174.666 Vol.: 0.400, ch.: 0.200\n",
      "it.: 5 , obj.: 147.346 Vol.: 0.400, ch.: 0.200\n",
      "it.: 6 , obj.: 115.566 Vol.: 0.400, ch.: 0.200\n",
      "it.: 7 , obj.: 89.064 Vol.: 0.400, ch.: 0.200\n",
      "it.: 8 , obj.: 74.352 Vol.: 0.400, ch.: 0.200\n",
      "it.: 9 , obj.: 68.544 Vol.: 0.400, ch.: 0.200\n",
      "it.: 10 , obj.: 65.926 Vol.: 0.400, ch.: 0.200\n",
      "it.: 11 , obj.: 64.547 Vol.: 0.400, ch.: 0.200\n",
      "it.: 12 , obj.: 63.767 Vol.: 0.400, ch.: 0.200\n",
      "it.: 13 , obj.: 63.314 Vol.: 0.400, ch.: 0.200\n",
      "it.: 14 , obj.: 63.046 Vol.: 0.400, ch.: 0.200\n",
      "it.: 15 , obj.: 62.891 Vol.: 0.400, ch.: 0.200\n",
      "it.: 16 , obj.: 62.797 Vol.: 0.400, ch.: 0.200\n",
      "it.: 17 , obj.: 62.730 Vol.: 0.400, ch.: 0.195\n",
      "it.: 18 , obj.: 62.679 Vol.: 0.400, ch.: 0.195\n",
      "it.: 19 , obj.: 62.635 Vol.: 0.400, ch.: 0.157\n",
      "it.: 20 , obj.: 62.593 Vol.: 0.400, ch.: 0.167\n",
      "it.: 21 , obj.: 62.555 Vol.: 0.400, ch.: 0.140\n",
      "it.: 22 , obj.: 62.521 Vol.: 0.400, ch.: 0.145\n",
      "it.: 23 , obj.: 62.488 Vol.: 0.400, ch.: 0.141\n",
      "it.: 24 , obj.: 62.457 Vol.: 0.400, ch.: 0.132\n",
      "it.: 25 , obj.: 62.428 Vol.: 0.400, ch.: 0.122\n",
      "it.: 26 , obj.: 62.400 Vol.: 0.400, ch.: 0.112\n",
      "it.: 27 , obj.: 62.373 Vol.: 0.400, ch.: 0.112\n",
      "it.: 28 , obj.: 62.345 Vol.: 0.400, ch.: 0.107\n",
      "it.: 29 , obj.: 62.317 Vol.: 0.400, ch.: 0.101\n",
      "it.: 30 , obj.: 62.290 Vol.: 0.400, ch.: 0.098\n",
      "it.: 31 , obj.: 62.260 Vol.: 0.400, ch.: 0.089\n",
      "it.: 32 , obj.: 62.225 Vol.: 0.400, ch.: 0.086\n",
      "it.: 33 , obj.: 62.189 Vol.: 0.400, ch.: 0.086\n",
      "it.: 34 , obj.: 62.149 Vol.: 0.400, ch.: 0.088\n",
      "it.: 35 , obj.: 62.106 Vol.: 0.400, ch.: 0.086\n",
      "it.: 36 , obj.: 62.058 Vol.: 0.400, ch.: 0.081\n",
      "it.: 37 , obj.: 62.005 Vol.: 0.400, ch.: 0.088\n",
      "it.: 38 , obj.: 61.944 Vol.: 0.400, ch.: 0.090\n",
      "it.: 39 , obj.: 61.867 Vol.: 0.400, ch.: 0.088\n",
      "it.: 40 , obj.: 61.771 Vol.: 0.400, ch.: 0.100\n",
      "it.: 41 , obj.: 61.667 Vol.: 0.400, ch.: 0.102\n",
      "it.: 42 , obj.: 61.577 Vol.: 0.400, ch.: 0.086\n",
      "it.: 43 , obj.: 61.514 Vol.: 0.400, ch.: 0.108\n",
      "it.: 44 , obj.: 61.459 Vol.: 0.400, ch.: 0.125\n",
      "it.: 45 , obj.: 61.402 Vol.: 0.400, ch.: 0.113\n",
      "it.: 46 , obj.: 61.342 Vol.: 0.400, ch.: 0.101\n",
      "it.: 47 , obj.: 61.299 Vol.: 0.400, ch.: 0.118\n",
      "it.: 48 , obj.: 61.269 Vol.: 0.400, ch.: 0.120\n",
      "it.: 49 , obj.: 61.243 Vol.: 0.400, ch.: 0.109\n",
      "it.: 50 , obj.: 61.221 Vol.: 0.400, ch.: 0.076\n",
      "it.: 51 , obj.: 61.205 Vol.: 0.400, ch.: 0.082\n",
      "it.: 52 , obj.: 61.195 Vol.: 0.400, ch.: 0.076\n",
      "it.: 53 , obj.: 61.190 Vol.: 0.400, ch.: 0.063\n",
      "it.: 54 , obj.: 61.187 Vol.: 0.400, ch.: 0.054\n",
      "it.: 55 , obj.: 61.184 Vol.: 0.400, ch.: 0.055\n",
      "it.: 56 , obj.: 61.182 Vol.: 0.400, ch.: 0.057\n",
      "it.: 57 , obj.: 61.178 Vol.: 0.400, ch.: 0.046\n",
      "it.: 58 , obj.: 61.174 Vol.: 0.400, ch.: 0.038\n",
      "it.: 59 , obj.: 61.169 Vol.: 0.400, ch.: 0.034\n",
      "it.: 60 , obj.: 61.164 Vol.: 0.400, ch.: 0.047\n",
      "it.: 61 , obj.: 61.161 Vol.: 0.400, ch.: 0.076\n",
      "it.: 62 , obj.: 61.159 Vol.: 0.400, ch.: 0.074\n",
      "it.: 63 , obj.: 61.157 Vol.: 0.400, ch.: 0.059\n",
      "it.: 64 , obj.: 61.156 Vol.: 0.400, ch.: 0.059\n",
      "it.: 65 , obj.: 61.155 Vol.: 0.400, ch.: 0.074\n",
      "it.: 66 , obj.: 61.153 Vol.: 0.400, ch.: 0.094\n",
      "it.: 67 , obj.: 61.151 Vol.: 0.400, ch.: 0.116\n",
      "it.: 68 , obj.: 61.147 Vol.: 0.400, ch.: 0.133\n",
      "it.: 69 , obj.: 61.141 Vol.: 0.400, ch.: 0.120\n",
      "it.: 70 , obj.: 61.136 Vol.: 0.400, ch.: 0.116\n",
      "it.: 71 , obj.: 61.136 Vol.: 0.400, ch.: 0.118\n",
      "it.: 72 , obj.: 61.137 Vol.: 0.400, ch.: 0.110\n",
      "it.: 73 , obj.: 61.136 Vol.: 0.400, ch.: 0.104\n",
      "it.: 74 , obj.: 61.133 Vol.: 0.400, ch.: 0.090\n",
      "it.: 75 , obj.: 61.129 Vol.: 0.400, ch.: 0.065\n",
      "it.: 76 , obj.: 61.125 Vol.: 0.400, ch.: 0.040\n",
      "it.: 77 , obj.: 61.122 Vol.: 0.400, ch.: 0.035\n",
      "it.: 78 , obj.: 61.120 Vol.: 0.400, ch.: 0.049\n",
      "it.: 79 , obj.: 61.119 Vol.: 0.400, ch.: 0.073\n",
      "it.: 80 , obj.: 61.119 Vol.: 0.400, ch.: 0.067\n",
      "it.: 81 , obj.: 61.119 Vol.: 0.400, ch.: 0.050\n",
      "it.: 82 , obj.: 61.118 Vol.: 0.400, ch.: 0.037\n",
      "it.: 83 , obj.: 61.118 Vol.: 0.400, ch.: 0.032\n",
      "it.: 84 , obj.: 61.118 Vol.: 0.400, ch.: 0.036\n",
      "it.: 85 , obj.: 61.118 Vol.: 0.400, ch.: 0.035\n",
      "it.: 86 , obj.: 61.118 Vol.: 0.400, ch.: 0.027\n",
      "it.: 87 , obj.: 61.118 Vol.: 0.400, ch.: 0.020\n",
      "it.: 88 , obj.: 61.119 Vol.: 0.400, ch.: 0.073\n",
      "it.: 89 , obj.: 61.121 Vol.: 0.400, ch.: 0.107\n",
      "it.: 90 , obj.: 61.123 Vol.: 0.400, ch.: 0.101\n",
      "it.: 91 , obj.: 61.125 Vol.: 0.400, ch.: 0.088\n",
      "it.: 92 , obj.: 61.127 Vol.: 0.400, ch.: 0.079\n",
      "it.: 93 , obj.: 61.127 Vol.: 0.400, ch.: 0.069\n",
      "it.: 94 , obj.: 61.127 Vol.: 0.400, ch.: 0.055\n",
      "it.: 95 , obj.: 61.126 Vol.: 0.400, ch.: 0.039\n",
      "it.: 96 , obj.: 61.126 Vol.: 0.400, ch.: 0.045\n",
      "it.: 97 , obj.: 61.127 Vol.: 0.400, ch.: 0.038\n",
      "it.: 98 , obj.: 61.127 Vol.: 0.400, ch.: 0.026\n",
      "it.: 99 , obj.: 61.127 Vol.: 0.400, ch.: 0.016\n",
      "it.: 100 , obj.: 61.126 Vol.: 0.400, ch.: 0.013\n",
      "Elapsed time :' 110.68705654144287  s\n",
      "Saving Animation ... \n"
     ]
    },
    {
     "data": {
      "image/png": "[encoded data removed]",
      "text/plain": [
       "<Figure size 432x288 with 2 Axes>"
      ]
     },
     "execution_count": 10,
     "metadata": {},
     "output_type": "execute_result"
    },
    {
     "data": {
      "image/png": "[encoded data removed]",
      "text/plain": [
       "<Figure size 432x288 with 1 Axes>"
      ]
     },
     "metadata": {
      "needs_background": "light"
     },
     "output_type": "display_data"
    },
    {
     "data": {
      "image/png": "[encoded data removed]",
      "text/plain": [
       "<Figure size 432x288 with 2 Axes>"
      ]
     },
     "metadata": {
      "needs_background": "light"
     },
     "output_type": "display_data"
    }
   ],
   "source": [
    "# all left side fixed + 2 loads: one upward in the top-righ corner, one downward in the bottom-left corner \n",
    "\n",
    "top = TopolSettings(nx = 100, ny = 100, nbr_loads=2, vol = 0.4, rmin = 1.2, penalinit = 3.0, penalmed = 3.0, filt = 0, nu=0.3)\n",
    "\n",
    "# left side nodes fixed\n",
    "list_fixed_nodes =  np.arange(0, top.ny+1).tolist()\n",
    "top.fixed= np.arange(0, top.ny+1).tolist() #list_fixed_nodes\n",
    "\n",
    "# loads: \n",
    "## top-right corner : top.nx*(top.ny+1) + upward => 90\n",
    "## bottom-left corner : (top.nx+1)*(top.ny+1)-1 + downward => 180+90\n",
    "top.setf(values=[1,1], nodes=[(top.nx+1)*(top.ny+1)-1, top.nx*(top.ny+1) ], tetas=[180+90, 90])\n",
    "\n",
    "# Run Optimization\n",
    "top.optimize(store=True)\n",
    "\n",
    "# Plot Resulting 2D design\n",
    "top.plot(name=\"example3\")"
   ]
  },
  {
   "cell_type": "code",
   "execution_count": null,
   "metadata": {},
   "outputs": [],
   "source": []
  }
 ],
 "metadata": {
  "kernelspec": {
   "display_name": "Python 3",
   "language": "python",
   "name": "python3"
  },
  "language_info": {
   "codemirror_mode": {
    "name": "ipython",
    "version": 3
   },
   "file_extension": ".py",
   "mimetype": "text/x-python",
   "name": "python",
   "nbconvert_exporter": "python",
   "pygments_lexer": "ipython3",
   "version": "3.7.1"
  }
 },
 "nbformat": 4,
 "nbformat_minor": 4
}
