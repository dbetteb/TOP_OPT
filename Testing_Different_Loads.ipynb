{
 "cells": [
  {
   "cell_type": "code",
   "execution_count": 2,
   "metadata": {},
   "outputs": [],
   "source": [
    "from SetTopol import TopolSettings\n",
    "import numpy as np\n",
    "import random"
   ]
  },
  {
   "cell_type": "code",
   "execution_count": 3,
   "metadata": {},
   "outputs": [],
   "source": [
    "top = TopolSettings(nx = 50, ny = 50, vol = 0.5, rmin = 5.4, penalinit = 3.0, penalmed = 3.0, filt = 0, nu=0.3)"
   ]
  },
  {
   "cell_type": "code",
   "execution_count": 5,
   "metadata": {},
   "outputs": [],
   "source": [
    "# fixed on the left side + load on upper right downward\n",
    "top.setf(value=1, node=51*50, teta=270)\n",
    "top.setfixed(list_nodes=np.arange(0,51))\n",
    "top.optimize(store=True)\n",
    "top.plot()"
   ]
  },
  {
   "cell_type": "code",
   "execution_count": 13,
   "metadata": {
    "scrolled": true
   },
   "outputs": [
    {
     "name": "stdout",
     "output_type": "stream",
     "text": [
      "it.: 1 , obj.: 122.849 Vol.: 0.500, ch.: 0.200\n",
      "it.: 2 , obj.: 67.225 Vol.: 0.500, ch.: 0.200\n",
      "it.: 3 , obj.: 44.583 Vol.: 0.500, ch.: 0.200\n",
      "it.: 4 , obj.: 34.375 Vol.: 0.500, ch.: 0.200\n",
      "it.: 5 , obj.: 29.718 Vol.: 0.500, ch.: 0.171\n",
      "it.: 6 , obj.: 27.110 Vol.: 0.500, ch.: 0.137\n",
      "it.: 7 , obj.: 25.887 Vol.: 0.500, ch.: 0.100\n",
      "it.: 8 , obj.: 25.250 Vol.: 0.500, ch.: 0.073\n",
      "it.: 9 , obj.: 24.872 Vol.: 0.500, ch.: 0.053\n",
      "it.: 10 , obj.: 24.617 Vol.: 0.500, ch.: 0.049\n",
      "it.: 11 , obj.: 24.430 Vol.: 0.500, ch.: 0.043\n",
      "it.: 12 , obj.: 24.290 Vol.: 0.500, ch.: 0.035\n",
      "it.: 13 , obj.: 24.186 Vol.: 0.500, ch.: 0.027\n",
      "it.: 14 , obj.: 24.113 Vol.: 0.500, ch.: 0.019\n",
      "it.: 15 , obj.: 24.062 Vol.: 0.500, ch.: 0.014\n",
      "it.: 16 , obj.: 24.026 Vol.: 0.500, ch.: 0.011\n",
      "it.: 17 , obj.: 24.001 Vol.: 0.500, ch.: 0.010\n",
      "it.: 18 , obj.: 23.982 Vol.: 0.500, ch.: 0.008\n",
      "it.: 19 , obj.: 23.968 Vol.: 0.500, ch.: 0.008\n",
      "it.: 20 , obj.: 23.958 Vol.: 0.500, ch.: 0.007\n",
      "it.: 21 , obj.: 23.949 Vol.: 0.500, ch.: 0.006\n",
      "it.: 22 , obj.: 23.943 Vol.: 0.500, ch.: 0.006\n",
      "it.: 23 , obj.: 23.937 Vol.: 0.500, ch.: 0.005\n",
      "it.: 24 , obj.: 23.933 Vol.: 0.500, ch.: 0.005\n",
      "it.: 25 , obj.: 23.930 Vol.: 0.500, ch.: 0.004\n",
      "it.: 26 , obj.: 23.927 Vol.: 0.500, ch.: 0.004\n",
      "it.: 27 , obj.: 23.924 Vol.: 0.500, ch.: 0.004\n",
      "it.: 28 , obj.: 23.922 Vol.: 0.500, ch.: 0.003\n",
      "it.: 29 , obj.: 23.921 Vol.: 0.500, ch.: 0.003\n",
      "it.: 30 , obj.: 23.919 Vol.: 0.500, ch.: 0.003\n",
      "it.: 31 , obj.: 23.918 Vol.: 0.500, ch.: 0.003\n",
      "it.: 32 , obj.: 23.917 Vol.: 0.500, ch.: 0.002\n",
      "it.: 33 , obj.: 23.916 Vol.: 0.500, ch.: 0.002\n",
      "it.: 34 , obj.: 23.915 Vol.: 0.500, ch.: 0.002\n",
      "it.: 35 , obj.: 23.914 Vol.: 0.500, ch.: 0.002\n",
      "it.: 36 , obj.: 23.913 Vol.: 0.500, ch.: 0.002\n",
      "it.: 37 , obj.: 23.913 Vol.: 0.500, ch.: 0.002\n",
      "it.: 38 , obj.: 23.912 Vol.: 0.500, ch.: 0.002\n",
      "it.: 39 , obj.: 23.912 Vol.: 0.500, ch.: 0.002\n",
      "it.: 40 , obj.: 23.911 Vol.: 0.500, ch.: 0.001\n",
      "it.: 41 , obj.: 23.911 Vol.: 0.500, ch.: 0.001\n",
      "it.: 42 , obj.: 23.911 Vol.: 0.500, ch.: 0.001\n",
      "it.: 43 , obj.: 23.911 Vol.: 0.500, ch.: 0.001\n",
      "it.: 44 , obj.: 23.911 Vol.: 0.500, ch.: 0.001\n",
      "it.: 45 , obj.: 23.911 Vol.: 0.500, ch.: 0.001\n",
      "it.: 46 , obj.: 23.910 Vol.: 0.500, ch.: 0.001\n",
      "it.: 47 , obj.: 23.910 Vol.: 0.500, ch.: 0.001\n",
      "it.: 48 , obj.: 23.910 Vol.: 0.500, ch.: 0.001\n",
      "it.: 49 , obj.: 23.910 Vol.: 0.500, ch.: 0.001\n",
      "it.: 50 , obj.: 23.910 Vol.: 0.500, ch.: 0.001\n",
      "it.: 51 , obj.: 23.910 Vol.: 0.500, ch.: 0.001\n",
      "it.: 52 , obj.: 23.910 Vol.: 0.500, ch.: 0.001\n",
      "it.: 53 , obj.: 23.910 Vol.: 0.500, ch.: 0.001\n",
      "it.: 54 , obj.: 23.910 Vol.: 0.500, ch.: 0.001\n",
      "it.: 55 , obj.: 23.910 Vol.: 0.500, ch.: 0.001\n",
      "it.: 56 , obj.: 23.910 Vol.: 0.500, ch.: 0.001\n",
      "it.: 57 , obj.: 23.910 Vol.: 0.500, ch.: 0.001\n",
      "it.: 58 , obj.: 23.910 Vol.: 0.500, ch.: 0.001\n",
      "it.: 59 , obj.: 23.910 Vol.: 0.500, ch.: 0.001\n",
      "it.: 60 , obj.: 23.910 Vol.: 0.500, ch.: 0.001\n",
      "Elapsed time : 4.5069661140441895 s\n",
      "Saving plot ... \n"
     ]
    },
    {
     "data": {
      "image/png": "[encoded data removed]",
      "text/plain": [
       "<Figure size 432x288 with 2 Axes>"
      ]
     },
     "execution_count": 13,
     "metadata": {},
     "output_type": "execute_result"
    },
    {
     "data": {
      "image/png": "[encoded data removed]",
      "text/plain": [
       "<Figure size 432x288 with 2 Axes>"
      ]
     },
     "metadata": {
      "needs_background": "light"
     },
     "output_type": "display_data"
    }
   ],
   "source": [
    "# fixed on the left side + load on bottom right downward\n",
    "top.setf(value=1, node=51*51-1, teta=270)\n",
    "top.setfixed(list_nodes=np.arange(0,51))\n",
    "top.optimize(store=True)\n",
    "top.plot()"
   ]
  },
  {
   "cell_type": "code",
   "execution_count": 12,
   "metadata": {
    "scrolled": true
   },
   "outputs": [
    {
     "name": "stdout",
     "output_type": "stream",
     "text": [
      "it.: 1 , obj.: 168.767 Vol.: 0.500, ch.: 0.200\n",
      "it.: 2 , obj.: 80.664 Vol.: 0.500, ch.: 0.200\n",
      "it.: 3 , obj.: 48.506 Vol.: 0.500, ch.: 0.200\n",
      "it.: 4 , obj.: 36.776 Vol.: 0.500, ch.: 0.200\n",
      "it.: 5 , obj.: 33.039 Vol.: 0.500, ch.: 0.200\n",
      "it.: 6 , obj.: 30.736 Vol.: 0.500, ch.: 0.189\n",
      "it.: 7 , obj.: 29.655 Vol.: 0.500, ch.: 0.154\n",
      "it.: 8 , obj.: 29.149 Vol.: 0.500, ch.: 0.106\n",
      "it.: 9 , obj.: 28.878 Vol.: 0.500, ch.: 0.071\n",
      "it.: 10 , obj.: 28.715 Vol.: 0.500, ch.: 0.048\n",
      "it.: 11 , obj.: 28.607 Vol.: 0.500, ch.: 0.040\n",
      "it.: 12 , obj.: 28.532 Vol.: 0.500, ch.: 0.035\n",
      "it.: 13 , obj.: 28.477 Vol.: 0.500, ch.: 0.031\n",
      "it.: 14 , obj.: 28.436 Vol.: 0.500, ch.: 0.027\n",
      "it.: 15 , obj.: 28.403 Vol.: 0.500, ch.: 0.024\n",
      "it.: 16 , obj.: 28.377 Vol.: 0.500, ch.: 0.022\n",
      "it.: 17 , obj.: 28.355 Vol.: 0.500, ch.: 0.019\n",
      "it.: 18 , obj.: 28.336 Vol.: 0.500, ch.: 0.017\n",
      "it.: 19 , obj.: 28.320 Vol.: 0.500, ch.: 0.015\n",
      "it.: 20 , obj.: 28.306 Vol.: 0.500, ch.: 0.014\n",
      "it.: 21 , obj.: 28.294 Vol.: 0.500, ch.: 0.013\n",
      "it.: 22 , obj.: 28.283 Vol.: 0.500, ch.: 0.012\n",
      "it.: 23 , obj.: 28.274 Vol.: 0.500, ch.: 0.011\n",
      "it.: 24 , obj.: 28.265 Vol.: 0.500, ch.: 0.010\n",
      "it.: 25 , obj.: 28.258 Vol.: 0.500, ch.: 0.009\n",
      "it.: 26 , obj.: 28.252 Vol.: 0.500, ch.: 0.008\n",
      "it.: 27 , obj.: 28.246 Vol.: 0.500, ch.: 0.007\n",
      "it.: 28 , obj.: 28.241 Vol.: 0.500, ch.: 0.007\n",
      "it.: 29 , obj.: 28.237 Vol.: 0.500, ch.: 0.006\n",
      "it.: 30 , obj.: 28.233 Vol.: 0.500, ch.: 0.006\n",
      "it.: 31 , obj.: 28.229 Vol.: 0.500, ch.: 0.005\n",
      "it.: 32 , obj.: 28.226 Vol.: 0.500, ch.: 0.005\n",
      "it.: 33 , obj.: 28.223 Vol.: 0.500, ch.: 0.004\n",
      "it.: 34 , obj.: 28.221 Vol.: 0.500, ch.: 0.004\n",
      "it.: 35 , obj.: 28.219 Vol.: 0.500, ch.: 0.003\n",
      "it.: 36 , obj.: 28.217 Vol.: 0.500, ch.: 0.003\n",
      "it.: 37 , obj.: 28.215 Vol.: 0.500, ch.: 0.003\n",
      "it.: 38 , obj.: 28.213 Vol.: 0.500, ch.: 0.003\n",
      "it.: 39 , obj.: 28.212 Vol.: 0.500, ch.: 0.002\n",
      "it.: 40 , obj.: 28.211 Vol.: 0.500, ch.: 0.002\n",
      "it.: 41 , obj.: 28.210 Vol.: 0.500, ch.: 0.002\n",
      "it.: 42 , obj.: 28.209 Vol.: 0.500, ch.: 0.002\n",
      "it.: 43 , obj.: 28.208 Vol.: 0.500, ch.: 0.002\n",
      "it.: 44 , obj.: 28.207 Vol.: 0.500, ch.: 0.002\n",
      "it.: 45 , obj.: 28.206 Vol.: 0.500, ch.: 0.001\n",
      "it.: 46 , obj.: 28.206 Vol.: 0.500, ch.: 0.001\n",
      "it.: 47 , obj.: 28.205 Vol.: 0.500, ch.: 0.001\n",
      "it.: 48 , obj.: 28.205 Vol.: 0.500, ch.: 0.001\n",
      "it.: 49 , obj.: 28.204 Vol.: 0.500, ch.: 0.001\n",
      "Elapsed time : 4.465506553649902 s\n",
      "Saving plot ... \n"
     ]
    },
    {
     "data": {
      "image/png": "[encoded data removed]",
      "text/plain": [
       "<Figure size 432x288 with 2 Axes>"
      ]
     },
     "execution_count": 12,
     "metadata": {},
     "output_type": "execute_result"
    },
    {
     "data": {
      "image/png": "[encoded data removed]",
      "text/plain": [
       "<Figure size 432x288 with 2 Axes>"
      ]
     },
     "metadata": {
      "needs_background": "light"
     },
     "output_type": "display_data"
    }
   ],
   "source": [
    "# fixed on the left side + load on bottom right with 45 degrees of inclination\n",
    "top.setf(value=1, node=51*51-1, teta=45+180)\n",
    "top.setfixed(list_nodes=np.arange(0,51))\n",
    "top.optimize(store=True)\n",
    "top.plot()"
   ]
  },
  {
   "cell_type": "code",
   "execution_count": null,
   "metadata": {},
   "outputs": [],
   "source": [
    "# the plots are saved in the folder"
   ]
  },
  {
   "cell_type": "markdown",
   "metadata": {},
   "source": [
    "### Generating the Dataset"
   ]
  },
  {
   "cell_type": "markdown",
   "metadata": {},
   "source": [
    "#### Full Sides Fixed"
   ]
  },
  {
   "cell_type": "code",
   "execution_count": 27,
   "metadata": {},
   "outputs": [
    {
     "data": {
      "text/plain": [
       "596"
      ]
     },
     "execution_count": 27,
     "metadata": {},
     "output_type": "execute_result"
    }
   ],
   "source": [
    "top = TopolSettings(nx = 50, ny = 50, vol = 0.5, rmin = 5.4, penalinit = 3.0, penalmed = 3.0, filt = 0, nu=0.3)\n",
    "possible_fixed_nodes = np.arange(0, top.ny+1).tolist()+ [m*(top.ny +1)-1 for m in range(2,top.nx+1)] + np.sort(np.arange((top.ny+1)*top.nx, (top.nx+1)*(top.ny+1))).tolist()[::-1] + np.sort(np.asarray([m*(top.ny+1) for m in range(1,top.nx)])).tolist()[::-1]  \n",
    "count = 0\n",
    "for node in possible_fixed_nodes:\n",
    "    for list_nodes in [np.arange(0,top.ny+1).tolist(), [m*(top.ny+1) for m in range(0,top.nx+1)], [m*(top.ny +1)-1 for m in range(1,top.nx+2)], np.arange((top.ny+1)*top.nx, (top.nx+1)*(top.ny+1)).tolist()]:\n",
    "        for teta in [180+90]: # [45,90,180,180+45,180+90] with teta = 180+90 only we have 596 output_plot\n",
    "            if node not in list_nodes: # i do not want to put load on a fixed edge\n",
    "                count+=1\n",
    "                top.setf(value=1, node=node, teta=teta)\n",
    "                top.setfixed(list_nodes=list_nodes)\n",
    "                top.optimize(store=True)\n",
    "                top.plot()"
   ]
  },
  {
   "cell_type": "markdown",
   "metadata": {},
   "source": [
    "#### Random Edge Fixed"
   ]
  },
  {
   "cell_type": "markdown",
   "metadata": {},
   "source": [
    "##### Test"
   ]
  },
  {
   "cell_type": "code",
   "execution_count": 81,
   "metadata": {},
   "outputs": [],
   "source": [
    "top = TopolSettings(nx = 3, ny = 3, vol = 0.5, rmin = 5.4, penalinit = 3.0, penalmed = 3.0, filt = 0, nu=0.3)\n",
    "possible_fixed_nodes = np.arange(0, top.ny+1).tolist()+ [m*(top.ny +1)-1 for m in range(2,top.nx+1)] + np.sort(np.arange((top.ny+1)*top.nx, (top.nx+1)*(top.ny+1))).tolist()[::-1] + np.sort(np.asarray([m*(top.ny+1) for m in range(1,top.nx)])).tolist()[::-1]  "
   ]
  },
  {
   "cell_type": "code",
   "execution_count": 82,
   "metadata": {},
   "outputs": [
    {
     "name": "stdout",
     "output_type": "stream",
     "text": [
      "[0, 1, 2]\n",
      "[1, 2, 3]\n",
      "[2, 3, 7]\n",
      "[3, 7, 11]\n",
      "[7, 11, 15]\n",
      "[11, 15, 14]\n",
      "[15, 14, 13]\n",
      "[14, 13, 12]\n",
      "[13, 12, 8]\n",
      "[12, 8, 4]\n"
     ]
    }
   ],
   "source": [
    "window = 3 # number of the fixed nodes \n",
    "# if we want to have different fixed nodes like corner fixed nodes etc. we will navigate the fixed edges in an anti-clockwise way\n",
    "# for n fixed nodes (n=window), we have (top.ny +1 )*top.nx - window +1 navigations to be done to visit all the edges of the\n",
    "# full area \n",
    "for i in range(0, (top.ny +1 )*top.nx - window +1):\n",
    "    print(possible_fixed_nodes[i:i+window])"
   ]
  },
  {
   "cell_type": "code",
   "execution_count": null,
   "metadata": {},
   "outputs": [],
   "source": [
    "window = 51\n",
    "top = TopolSettings(nx = 50, ny = 50, vol = 0.3, rmin = 5.4, penalinit = 3.0, penalmed = 3.0, filt = 0, nu=0.3)\n",
    "possible_fixed_nodes = np.arange(0, top.ny+1).tolist()+ [m*(top.ny +1)-1 for m in range(2,top.nx+1)] + np.sort(np.arange((top.ny+1)*top.nx, (top.nx+1)*(top.ny+1))).tolist()[::-1] + np.sort(np.asarray([m*(top.ny+1) for m in range(1,top.nx)])).tolist()[::-1]  \n",
    "top.setf(value=1, node=51*2+1, teta=180+90)\n",
    "# list_fixed_nodes = possible_fixed_nodes[:25+window] # bottom left corner\n",
    "list_fixed_nodes = possible_fixed_nodes[len(possible_fixed_nodes)-1 - (top.nx+1+window):len(possible_fixed_nodes)-1 - window] #  upper right corner\n",
    "top.setfixed(list_nodes=list_fixed_nodes)\n",
    "top.optimize(store=True)\n",
    "top.plot()"
   ]
  },
  {
   "cell_type": "code",
   "execution_count": 103,
   "metadata": {},
   "outputs": [
    {
     "data": {
      "text/plain": [
       "51"
      ]
     },
     "execution_count": 103,
     "metadata": {},
     "output_type": "execute_result"
    }
   ],
   "source": [
    "len(possible_fixed_nodes[len(possible_fixed_nodes)-1 - (top.nx+1+window):len(possible_fixed_nodes)-1 - window])"
   ]
  },
  {
   "cell_type": "code",
   "execution_count": 98,
   "metadata": {},
   "outputs": [
    {
     "data": {
      "text/plain": [
       "2600"
      ]
     },
     "execution_count": 98,
     "metadata": {},
     "output_type": "execute_result"
    }
   ],
   "source": [
    "possible_fixed_nodes[len(possible_fixed_nodes)-1]"
   ]
  },
  {
   "cell_type": "markdown",
   "metadata": {},
   "source": [
    "##### Generation of Data with Random Fixed Edges"
   ]
  },
  {
   "cell_type": "code",
   "execution_count": 133,
   "metadata": {},
   "outputs": [],
   "source": [
    "window = 51\n",
    "top = TopolSettings(nx = 50, ny = 50, vol = 0.5, rmin = 5.4, penalinit = 3.0, penalmed = 3.0, filt = 0, nu=0.3)\n",
    "possible_fixed_nodes = np.arange(0, top.ny+1).tolist()+ [m*(top.ny +1)-1 for m in range(2,top.nx+1)] + np.sort(np.arange((top.ny+1)*top.nx, (top.nx+1)*(top.ny+1))).tolist()[::-1] + np.sort(np.asarray([m*(top.ny+1) for m in range(1,top.nx)])).tolist()[::-1]  \n",
    "count = 0\n",
    "for node in random.sample(possible_fixed_nodes,10):\n",
    "#     for i in range(0, (top.ny +1 )*top.nx - window +1): # 2500 possibilities i.e. too much\n",
    "#     for i in random.sample(np.arange(0,(top.ny +1 )*top.nx - window +1).tolist(), 100)\n",
    "    for i in range(0, (top.ny +1 )*top.nx - window +1, int(top.nx/2)):\n",
    "        if i<len(possible_fixed_nodes):\n",
    "            list_fixed_nodes = possible_fixed_nodes[i:i+window]\n",
    "            for teta in [180+45]: # [45,90,180,180+45,180+90] with teta = 180+90 only we have 596 output_plot\n",
    "                if node not in list_fixed_nodes: # i do not want to put load on a fixed edge\n",
    "                    count+=1\n",
    "                    top.setf(value=1, node=node, teta=teta)\n",
    "                    top.setfixed(list_nodes=list_fixed_nodes)\n",
    "                    top.optimize(store=True)\n",
    "                    top.plot()"
   ]
  },
  {
   "cell_type": "code",
   "execution_count": 134,
   "metadata": {},
   "outputs": [
    {
     "data": {
      "text/plain": [
       "72"
      ]
     },
     "execution_count": 134,
     "metadata": {},
     "output_type": "execute_result"
    }
   ],
   "source": [
    "count"
   ]
  },
  {
   "cell_type": "markdown",
   "metadata": {},
   "source": [
    "## Multiple Loads\n",
    "### Code Test"
   ]
  },
  {
   "cell_type": "code",
   "execution_count": 1,
   "metadata": {},
   "outputs": [],
   "source": [
    "from SetTopol_multiple_loads import TopolSettings\n",
    "import numpy as np\n",
    "import random"
   ]
  },
  {
   "cell_type": "code",
   "execution_count": 2,
   "metadata": {},
   "outputs": [],
   "source": [
    "# import torch\n",
    "# torch.tensor([1,2,3])\n",
    "# torch.from_numpy(np.arange(0,10))"
   ]
  },
  {
   "cell_type": "code",
   "execution_count": 3,
   "metadata": {
    "scrolled": true
   },
   "outputs": [
    {
     "name": "stderr",
     "output_type": "stream",
     "text": [
      "C:\\Users\\walmasri\\AppData\\Local\\Continuum\\anaconda3\\lib\\site-packages\\torch\\nn\\modules\\loss.py:88: UserWarning: Using a target size (torch.Size([100, 100])) that is different to the input size (torch.Size([1, 1, 100, 100])). This will likely lead to incorrect results due to broadcasting. Please ensure they have the same size.\n",
      "  return F.l1_loss(input, target, reduction=self.reduction)\n"
     ]
    },
    {
     "name": "stdout",
     "output_type": "stream",
     "text": [
      "loss: 0.39839258790016174\n",
      "loss: 0.39962509274482727\n",
      "it.: 1 , obj.: 526.360 Vol.: 0.400, ch.: 0.200\n"
     ]
    },
    {
     "name": "stderr",
     "output_type": "stream",
     "text": [
      "C:\\Users\\walmasri\\AppData\\Local\\Continuum\\anaconda3\\lib\\site-packages\\torch\\nn\\modules\\loss.py:88: UserWarning: Using a target size (torch.Size([100, 100])) that is different to the input size (torch.Size([1, 1, 100, 100])). This will likely lead to incorrect results due to broadcasting. Please ensure they have the same size.\n",
      "  return F.l1_loss(input, target, reduction=self.reduction)\n"
     ]
    },
    {
     "name": "stdout",
     "output_type": "stream",
     "text": [
      "loss: 0.22221235930919647\n",
      "loss: 0.22208422422409058\n",
      "it.: 2 , obj.: 291.222 Vol.: 0.400, ch.: 0.200\n"
     ]
    },
    {
     "name": "stderr",
     "output_type": "stream",
     "text": [
      "C:\\Users\\walmasri\\AppData\\Local\\Continuum\\anaconda3\\lib\\site-packages\\torch\\nn\\modules\\loss.py:88: UserWarning: Using a target size (torch.Size([100, 100])) that is different to the input size (torch.Size([1, 1, 100, 100])). This will likely lead to incorrect results due to broadcasting. Please ensure they have the same size.\n",
      "  return F.l1_loss(input, target, reduction=self.reduction)\n"
     ]
    },
    {
     "name": "stdout",
     "output_type": "stream",
     "text": [
      "loss: 0.16077271103858948\n",
      "loss: 0.16061115264892578\n",
      "it.: 3 , obj.: 213.917 Vol.: 0.400, ch.: 0.200\n",
      "loss: 0.16261442005634308\n",
      "loss: 0.16243842244148254\n",
      "it.: 4 , obj.: 174.666 Vol.: 0.400, ch.: 0.200\n",
      "loss: 0.11547272652387619\n",
      "loss: 0.11510931700468063\n",
      "it.: 5 , obj.: 147.346 Vol.: 0.400, ch.: 0.200\n",
      "loss: 0.07315696030855179\n",
      "loss: 0.0728522539138794\n",
      "it.: 6 , obj.: 115.566 Vol.: 0.400, ch.: 0.200\n",
      "loss: 0.04442615807056427\n",
      "loss: 0.04431841894984245\n",
      "it.: 7 , obj.: 89.064 Vol.: 0.400, ch.: 0.200\n",
      "loss: 0.05738215893507004\n",
      "loss: 0.057742536067962646\n",
      "it.: 8 , obj.: 74.352 Vol.: 0.400, ch.: 0.200\n",
      "loss: 0.03550529479980469\n",
      "loss: 0.03600116819143295\n",
      "it.: 9 , obj.: 68.544 Vol.: 0.400, ch.: 0.200\n",
      "loss: 0.021972157061100006\n",
      "loss: 0.022556114941835403\n",
      "it.: 10 , obj.: 65.926 Vol.: 0.400, ch.: 0.200\n",
      "loss: 0.016641288995742798\n",
      "loss: 0.017311137169599533\n",
      "it.: 11 , obj.: 64.547 Vol.: 0.400, ch.: 0.200\n",
      "loss: 0.014351902529597282\n",
      "loss: 0.015076788142323494\n",
      "it.: 12 , obj.: 63.767 Vol.: 0.400, ch.: 0.200\n",
      "loss: 0.013188056647777557\n",
      "loss: 0.013757623732089996\n",
      "it.: 13 , obj.: 63.314 Vol.: 0.400, ch.: 0.200\n",
      "loss: 0.012998468242585659\n",
      "loss: 0.013822558335959911\n",
      "it.: 14 , obj.: 63.046 Vol.: 0.400, ch.: 0.200\n",
      "loss: 0.01283529493957758\n",
      "loss: 0.013869959861040115\n",
      "it.: 15 , obj.: 62.891 Vol.: 0.400, ch.: 0.200\n",
      "loss: 0.013774104416370392\n",
      "loss: 0.014733346179127693\n",
      "it.: 16 , obj.: 62.797 Vol.: 0.400, ch.: 0.200\n",
      "loss: 0.014919746667146683\n",
      "loss: 0.015776723623275757\n",
      "it.: 17 , obj.: 62.730 Vol.: 0.400, ch.: 0.195\n",
      "loss: 0.01590876281261444\n",
      "loss: 0.01667601801455021\n",
      "it.: 18 , obj.: 62.679 Vol.: 0.400, ch.: 0.195\n",
      "loss: 0.016752509400248528\n",
      "loss: 0.01745825633406639\n",
      "it.: 19 , obj.: 62.635 Vol.: 0.400, ch.: 0.157\n",
      "loss: 0.017466042190790176\n",
      "loss: 0.018121270462870598\n",
      "it.: 20 , obj.: 62.593 Vol.: 0.400, ch.: 0.167\n",
      "loss: 0.01806890219449997\n",
      "loss: 0.018664827570319176\n",
      "it.: 21 , obj.: 62.555 Vol.: 0.400, ch.: 0.140\n",
      "loss: 0.01865241676568985\n",
      "loss: 0.0192040354013443\n",
      "it.: 22 , obj.: 62.521 Vol.: 0.400, ch.: 0.145\n",
      "loss: 0.01918843388557434\n",
      "loss: 0.019691655412316322\n",
      "it.: 23 , obj.: 62.488 Vol.: 0.400, ch.: 0.141\n",
      "loss: 0.01966765895485878\n",
      "loss: 0.020127475261688232\n",
      "it.: 24 , obj.: 62.457 Vol.: 0.400, ch.: 0.132\n",
      "loss: 0.02014935575425625\n",
      "loss: 0.020563757047057152\n",
      "it.: 25 , obj.: 62.428 Vol.: 0.400, ch.: 0.122\n",
      "loss: 0.020605463534593582\n",
      "loss: 0.02097892574965954\n",
      "it.: 26 , obj.: 62.400 Vol.: 0.400, ch.: 0.112\n",
      "loss: 0.021070348098874092\n",
      "loss: 0.021401025354862213\n",
      "it.: 27 , obj.: 62.373 Vol.: 0.400, ch.: 0.112\n",
      "loss: 0.021592894569039345\n",
      "loss: 0.021871276199817657\n",
      "it.: 28 , obj.: 62.345 Vol.: 0.400, ch.: 0.107\n",
      "loss: 0.022141914814710617\n",
      "loss: 0.02235833927989006\n",
      "it.: 29 , obj.: 62.317 Vol.: 0.400, ch.: 0.101\n",
      "loss: 0.02259882353246212\n",
      "loss: 0.022777443751692772\n",
      "it.: 30 , obj.: 62.290 Vol.: 0.400, ch.: 0.098\n",
      "loss: 0.02300821989774704\n",
      "loss: 0.023163894191384315\n",
      "it.: 31 , obj.: 62.260 Vol.: 0.400, ch.: 0.089\n",
      "loss: 0.02342418022453785\n",
      "loss: 0.02352960593998432\n",
      "it.: 32 , obj.: 62.225 Vol.: 0.400, ch.: 0.086\n",
      "loss: 0.023803984746336937\n",
      "loss: 0.023862378671765327\n",
      "it.: 33 , obj.: 62.189 Vol.: 0.400, ch.: 0.086\n",
      "loss: 0.02412288822233677\n",
      "loss: 0.02414398267865181\n",
      "it.: 34 , obj.: 62.149 Vol.: 0.400, ch.: 0.088\n",
      "loss: 0.024337338283658028\n",
      "loss: 0.02431640587747097\n",
      "it.: 35 , obj.: 62.106 Vol.: 0.400, ch.: 0.086\n",
      "loss: 0.02447061985731125\n",
      "loss: 0.024394875392317772\n",
      "it.: 36 , obj.: 62.058 Vol.: 0.400, ch.: 0.081\n",
      "loss: 0.024452660232782364\n",
      "loss: 0.02430890128016472\n",
      "it.: 37 , obj.: 62.005 Vol.: 0.400, ch.: 0.088\n",
      "loss: 0.024040421470999718\n",
      "loss: 0.0238137636333704\n",
      "it.: 38 , obj.: 61.944 Vol.: 0.400, ch.: 0.090\n",
      "loss: 0.023066073656082153\n",
      "loss: 0.022815881296992302\n",
      "it.: 39 , obj.: 61.867 Vol.: 0.400, ch.: 0.088\n",
      "loss: 0.021685855463147163\n",
      "loss: 0.021486565470695496\n",
      "it.: 40 , obj.: 61.771 Vol.: 0.400, ch.: 0.100\n",
      "loss: 0.020137056708335876\n",
      "loss: 0.020008640363812447\n",
      "it.: 41 , obj.: 61.667 Vol.: 0.400, ch.: 0.102\n",
      "loss: 0.01862586848437786\n",
      "loss: 0.018579654395580292\n",
      "it.: 42 , obj.: 61.577 Vol.: 0.400, ch.: 0.086\n",
      "loss: 0.017189955338835716\n",
      "loss: 0.017157990485429764\n",
      "it.: 43 , obj.: 61.514 Vol.: 0.400, ch.: 0.108\n",
      "loss: 0.016134265810251236\n",
      "loss: 0.016070259734988213\n",
      "it.: 44 , obj.: 61.459 Vol.: 0.400, ch.: 0.125\n",
      "loss: 0.01552483718842268\n",
      "loss: 0.015432178974151611\n",
      "it.: 45 , obj.: 61.402 Vol.: 0.400, ch.: 0.113\n",
      "loss: 0.015057682991027832\n",
      "loss: 0.014933837577700615\n",
      "it.: 46 , obj.: 61.342 Vol.: 0.400, ch.: 0.101\n",
      "loss: 0.014604730531573296\n",
      "loss: 0.014426405541598797\n",
      "it.: 47 , obj.: 61.299 Vol.: 0.400, ch.: 0.118\n",
      "loss: 0.014066627249121666\n",
      "loss: 0.013814877718687057\n",
      "it.: 48 , obj.: 61.269 Vol.: 0.400, ch.: 0.120\n",
      "loss: 0.013573101721704006\n",
      "loss: 0.013243359513580799\n",
      "it.: 49 , obj.: 61.243 Vol.: 0.400, ch.: 0.109\n",
      "loss: 0.013244763016700745\n",
      "loss: 0.012868107296526432\n",
      "it.: 50 , obj.: 61.221 Vol.: 0.400, ch.: 0.076\n",
      "loss: 0.013058997690677643\n",
      "loss: 0.01266995258629322\n",
      "it.: 51 , obj.: 61.205 Vol.: 0.400, ch.: 0.082\n",
      "loss: 0.012981677427887917\n",
      "loss: 0.01260815467685461\n",
      "it.: 52 , obj.: 61.195 Vol.: 0.400, ch.: 0.076\n",
      "loss: 0.012929179705679417\n",
      "loss: 0.012617100030183792\n",
      "it.: 53 , obj.: 61.190 Vol.: 0.400, ch.: 0.063\n",
      "loss: 0.012906832620501518\n",
      "loss: 0.01268693432211876\n",
      "it.: 54 , obj.: 61.187 Vol.: 0.400, ch.: 0.054\n",
      "loss: 0.012931163422763348\n",
      "loss: 0.012815376743674278\n",
      "it.: 55 , obj.: 61.184 Vol.: 0.400, ch.: 0.055\n",
      "loss: 0.013017073273658752\n",
      "loss: 0.013008346781134605\n",
      "it.: 56 , obj.: 61.182 Vol.: 0.400, ch.: 0.057\n",
      "loss: 0.013171941041946411\n",
      "loss: 0.013273458927869797\n",
      "it.: 57 , obj.: 61.178 Vol.: 0.400, ch.: 0.046\n",
      "loss: 0.013367477804422379\n",
      "loss: 0.013513569720089436\n",
      "it.: 58 , obj.: 61.174 Vol.: 0.400, ch.: 0.038\n",
      "loss: 0.013573297299444675\n",
      "loss: 0.013724180869758129\n",
      "it.: 59 , obj.: 61.169 Vol.: 0.400, ch.: 0.034\n",
      "loss: 0.013774831779301167\n",
      "loss: 0.013914789073169231\n",
      "it.: 60 , obj.: 61.164 Vol.: 0.400, ch.: 0.047\n",
      "loss: 0.013953316025435925\n",
      "loss: 0.01407900732010603\n",
      "it.: 61 , obj.: 61.161 Vol.: 0.400, ch.: 0.076\n",
      "loss: 0.014103210531175137\n",
      "loss: 0.014215117320418358\n",
      "it.: 62 , obj.: 61.159 Vol.: 0.400, ch.: 0.074\n",
      "loss: 0.014227391220629215\n",
      "loss: 0.014320763759315014\n",
      "it.: 63 , obj.: 61.157 Vol.: 0.400, ch.: 0.059\n",
      "loss: 0.014314123429358006\n",
      "loss: 0.014389369636774063\n",
      "it.: 64 , obj.: 61.156 Vol.: 0.400, ch.: 0.059\n",
      "loss: 0.014357763342559338\n",
      "loss: 0.014414765872061253\n",
      "it.: 65 , obj.: 61.155 Vol.: 0.400, ch.: 0.074\n",
      "loss: 0.014360478147864342\n",
      "loss: 0.014399183914065361\n",
      "it.: 66 , obj.: 61.153 Vol.: 0.400, ch.: 0.094\n",
      "loss: 0.014328996650874615\n",
      "loss: 0.014349357225000858\n",
      "it.: 67 , obj.: 61.151 Vol.: 0.400, ch.: 0.116\n",
      "loss: 0.014247268438339233\n",
      "loss: 0.014248719438910484\n",
      "it.: 68 , obj.: 61.147 Vol.: 0.400, ch.: 0.133\n",
      "loss: 0.014118409715592861\n",
      "loss: 0.014101901091635227\n",
      "it.: 69 , obj.: 61.141 Vol.: 0.400, ch.: 0.120\n",
      "loss: 0.013949374668300152\n",
      "loss: 0.013916617259383202\n",
      "it.: 70 , obj.: 61.136 Vol.: 0.400, ch.: 0.116\n",
      "loss: 0.013775739818811417\n",
      "loss: 0.013730185106396675\n",
      "it.: 71 , obj.: 61.136 Vol.: 0.400, ch.: 0.118\n",
      "loss: 0.013563847169280052\n",
      "loss: 0.01350963581353426\n",
      "it.: 72 , obj.: 61.137 Vol.: 0.400, ch.: 0.110\n",
      "loss: 0.013329381123185158\n",
      "loss: 0.013272300362586975\n",
      "it.: 73 , obj.: 61.136 Vol.: 0.400, ch.: 0.104\n",
      "loss: 0.013077329844236374\n",
      "loss: 0.01302504725754261\n",
      "it.: 74 , obj.: 61.133 Vol.: 0.400, ch.: 0.090\n",
      "loss: 0.012822235003113747\n",
      "loss: 0.012789051979780197\n",
      "it.: 75 , obj.: 61.129 Vol.: 0.400, ch.: 0.065\n",
      "loss: 0.012615169398486614\n",
      "loss: 0.012609951198101044\n",
      "it.: 76 , obj.: 61.125 Vol.: 0.400, ch.: 0.040\n",
      "loss: 0.012439442798495293\n",
      "loss: 0.012464211322367191\n",
      "it.: 77 , obj.: 61.122 Vol.: 0.400, ch.: 0.035\n",
      "loss: 0.012321220710873604\n",
      "loss: 0.012367305345833302\n",
      "it.: 78 , obj.: 61.120 Vol.: 0.400, ch.: 0.049\n",
      "loss: 0.012252937071025372\n",
      "loss: 0.012316973879933357\n",
      "it.: 79 , obj.: 61.119 Vol.: 0.400, ch.: 0.073\n",
      "loss: 0.01222921535372734\n",
      "loss: 0.012305962853133678\n",
      "it.: 80 , obj.: 61.119 Vol.: 0.400, ch.: 0.067\n",
      "loss: 0.012231077998876572\n",
      "loss: 0.012320447713136673\n",
      "it.: 81 , obj.: 61.119 Vol.: 0.400, ch.: 0.050\n",
      "loss: 0.012250573374330997\n",
      "loss: 0.012346664443612099\n",
      "it.: 82 , obj.: 61.118 Vol.: 0.400, ch.: 0.037\n",
      "loss: 0.01228311751037836\n",
      "loss: 0.01238297764211893\n",
      "it.: 83 , obj.: 61.118 Vol.: 0.400, ch.: 0.032\n",
      "loss: 0.012322582304477692\n",
      "loss: 0.01242904458194971\n",
      "it.: 84 , obj.: 61.118 Vol.: 0.400, ch.: 0.036\n"
     ]
    },
    {
     "name": "stdout",
     "output_type": "stream",
     "text": [
      "loss: 0.012373385950922966\n",
      "loss: 0.012485602870583534\n",
      "it.: 85 , obj.: 61.118 Vol.: 0.400, ch.: 0.035\n",
      "loss: 0.012429689057171345\n",
      "loss: 0.012545553967356682\n",
      "it.: 86 , obj.: 61.118 Vol.: 0.400, ch.: 0.027\n",
      "loss: 0.012486955150961876\n",
      "loss: 0.012606844305992126\n",
      "it.: 87 , obj.: 61.118 Vol.: 0.400, ch.: 0.020\n",
      "loss: 0.012556981295347214\n",
      "loss: 0.012679444625973701\n",
      "it.: 88 , obj.: 61.119 Vol.: 0.400, ch.: 0.073\n",
      "loss: 0.01262983400374651\n",
      "loss: 0.012753423303365707\n",
      "it.: 89 , obj.: 61.121 Vol.: 0.400, ch.: 0.107\n",
      "loss: 0.012703455053269863\n",
      "loss: 0.012825851328670979\n",
      "it.: 90 , obj.: 61.123 Vol.: 0.400, ch.: 0.101\n",
      "loss: 0.012780951336026192\n",
      "loss: 0.012897900305688381\n",
      "it.: 91 , obj.: 61.125 Vol.: 0.400, ch.: 0.088\n",
      "loss: 0.012862954288721085\n",
      "loss: 0.01297296304255724\n",
      "it.: 92 , obj.: 61.127 Vol.: 0.400, ch.: 0.079\n",
      "loss: 0.012947660870850086\n",
      "loss: 0.013051556423306465\n",
      "it.: 93 , obj.: 61.127 Vol.: 0.400, ch.: 0.069\n",
      "loss: 0.013033293187618256\n",
      "loss: 0.01313017774373293\n",
      "it.: 94 , obj.: 61.127 Vol.: 0.400, ch.: 0.055\n",
      "loss: 0.013115756213665009\n",
      "loss: 0.013207870535552502\n",
      "it.: 95 , obj.: 61.126 Vol.: 0.400, ch.: 0.039\n",
      "loss: 0.013201586902141571\n",
      "loss: 0.013289239257574081\n",
      "it.: 96 , obj.: 61.126 Vol.: 0.400, ch.: 0.045\n",
      "loss: 0.013285208493471146\n",
      "loss: 0.013368336483836174\n",
      "it.: 97 , obj.: 61.127 Vol.: 0.400, ch.: 0.038\n",
      "loss: 0.013364414684474468\n",
      "loss: 0.013443734496831894\n",
      "it.: 98 , obj.: 61.127 Vol.: 0.400, ch.: 0.026\n",
      "loss: 0.013438294641673565\n",
      "loss: 0.01351259183138609\n",
      "it.: 99 , obj.: 61.127 Vol.: 0.400, ch.: 0.016\n",
      "loss: 0.013505135662853718\n",
      "loss: 0.013575747609138489\n",
      "it.: 100 , obj.: 61.126 Vol.: 0.400, ch.: 0.013\n"
     ]
    },
    {
     "ename": "AttributeError",
     "evalue": "'compliance_predictor' object has no attribute 'module'",
     "output_type": "error",
     "traceback": [
      "\u001b[1;31m---------------------------------------------------------------------------\u001b[0m",
      "\u001b[1;31mAttributeError\u001b[0m                            Traceback (most recent call last)",
      "\u001b[1;32m<ipython-input-3-9578653c1a85>\u001b[0m in \u001b[0;36m<module>\u001b[1;34m\u001b[0m\n\u001b[0;32m     13\u001b[0m \u001b[1;33m\u001b[0m\u001b[0m\n\u001b[0;32m     14\u001b[0m \u001b[1;31m# Run Optimization\u001b[0m\u001b[1;33m\u001b[0m\u001b[1;33m\u001b[0m\u001b[1;33m\u001b[0m\u001b[0m\n\u001b[1;32m---> 15\u001b[1;33m \u001b[0mtop\u001b[0m\u001b[1;33m.\u001b[0m\u001b[0moptimize_with_DL_constraint\u001b[0m\u001b[1;33m(\u001b[0m\u001b[0mmaxiter\u001b[0m\u001b[1;33m=\u001b[0m\u001b[1;36m100\u001b[0m\u001b[1;33m)\u001b[0m\u001b[1;33m\u001b[0m\u001b[1;33m\u001b[0m\u001b[0m\n\u001b[0m\u001b[0;32m     16\u001b[0m \u001b[1;33m\u001b[0m\u001b[0m\n\u001b[0;32m     17\u001b[0m \u001b[1;31m# Plot Resulting 2D design\u001b[0m\u001b[1;33m\u001b[0m\u001b[1;33m\u001b[0m\u001b[1;33m\u001b[0m\u001b[0m\n",
      "\u001b[1;32m~\\Documents\\Thèse Cifre\\Optimisation_Topologique\\TOP_OPT\\SetTopol_multiple_loads.py\u001b[0m in \u001b[0;36moptimize_with_DL_constraint\u001b[1;34m(self, changecriteria, maxiter, store, cond, loop_switch)\u001b[0m\n\u001b[0;32m    662\u001b[0m                         \u001b[0mself\u001b[0m\u001b[1;33m.\u001b[0m\u001b[0mcond\u001b[0m \u001b[1;33m=\u001b[0m \u001b[0mcd\u001b[0m\u001b[1;33m\u001b[0m\u001b[1;33m\u001b[0m\u001b[0m\n\u001b[0;32m    663\u001b[0m \u001b[1;33m\u001b[0m\u001b[0m\n\u001b[1;32m--> 664\u001b[1;33m                 \u001b[0mtorch\u001b[0m\u001b[1;33m.\u001b[0m\u001b[0msave\u001b[0m\u001b[1;33m(\u001b[0m\u001b[0mself\u001b[0m\u001b[1;33m.\u001b[0m\u001b[0mCompliance_predictor\u001b[0m\u001b[1;33m.\u001b[0m\u001b[0mmodule\u001b[0m\u001b[1;33m.\u001b[0m\u001b[0mstate_dict\u001b[0m\u001b[1;33m(\u001b[0m\u001b[1;33m)\u001b[0m\u001b[1;33m,\u001b[0m \u001b[1;34m'./compliance_predictor/element_wise_compliance_predictor_on_cpu.ckpt'\u001b[0m\u001b[1;33m)\u001b[0m\u001b[1;33m\u001b[0m\u001b[1;33m\u001b[0m\u001b[0m\n\u001b[0m\u001b[0;32m    665\u001b[0m \u001b[1;33m\u001b[0m\u001b[0m\n\u001b[0;32m    666\u001b[0m         \u001b[1;32mdef\u001b[0m \u001b[0m__getcomphist\u001b[0m\u001b[1;33m(\u001b[0m\u001b[0mself\u001b[0m\u001b[1;33m)\u001b[0m\u001b[1;33m:\u001b[0m\u001b[1;33m\u001b[0m\u001b[1;33m\u001b[0m\u001b[0m\n",
      "\u001b[1;32m~\\AppData\\Local\\Continuum\\anaconda3\\lib\\site-packages\\torch\\nn\\modules\\module.py\u001b[0m in \u001b[0;36m__getattr__\u001b[1;34m(self, name)\u001b[0m\n\u001b[0;32m    574\u001b[0m                 \u001b[1;32mreturn\u001b[0m \u001b[0mmodules\u001b[0m\u001b[1;33m[\u001b[0m\u001b[0mname\u001b[0m\u001b[1;33m]\u001b[0m\u001b[1;33m\u001b[0m\u001b[1;33m\u001b[0m\u001b[0m\n\u001b[0;32m    575\u001b[0m         raise AttributeError(\"'{}' object has no attribute '{}'\".format(\n\u001b[1;32m--> 576\u001b[1;33m             type(self).__name__, name))\n\u001b[0m\u001b[0;32m    577\u001b[0m \u001b[1;33m\u001b[0m\u001b[0m\n\u001b[0;32m    578\u001b[0m     \u001b[1;32mdef\u001b[0m \u001b[0m__setattr__\u001b[0m\u001b[1;33m(\u001b[0m\u001b[0mself\u001b[0m\u001b[1;33m,\u001b[0m \u001b[0mname\u001b[0m\u001b[1;33m,\u001b[0m \u001b[0mvalue\u001b[0m\u001b[1;33m)\u001b[0m\u001b[1;33m:\u001b[0m\u001b[1;33m\u001b[0m\u001b[1;33m\u001b[0m\u001b[0m\n",
      "\u001b[1;31mAttributeError\u001b[0m: 'compliance_predictor' object has no attribute 'module'"
     ]
    }
   ],
   "source": [
    "# all left side fixed + 2 loads: one upward in the top-righ corner, one downward in the bottom-left corner \n",
    "\n",
    "top = TopolSettings(nx = 100, ny = 100, nbr_loads=2, vol = 0.4, rmin = 1.2, penalinit = 3.0, penalmed = 3.0, filt = 0, nu=0.3)\n",
    "\n",
    "# left side nodes fixed\n",
    "list_fixed_nodes =  np.arange(0, top.ny+1).tolist()\n",
    "top.fixed= np.arange(0, top.ny+1).tolist() #list_fixed_nodes\n",
    "\n",
    "# loads: \n",
    "## top-right corner : top.nx*(top.ny+1) + upward => 90\n",
    "## bottom-left corner : (top.nx+1)*(top.ny+1)-1 + downward => 180+90\n",
    "top.setf(values=[1,1], nodes=[(top.nx+1)*(top.ny+1)-1, top.nx*(top.ny+1) ], tetas=[180+90, 90])\n",
    "\n",
    "# Run Optimization\n",
    "top.optimize_with_DL_constraint(maxiter=100)\n",
    "\n",
    "# Plot Resulting 2D design\n",
    "# top.plot()"
   ]
  },
  {
   "cell_type": "code",
   "execution_count": 5,
   "metadata": {},
   "outputs": [],
   "source": [
    "import torch\n",
    "torch.save(top.Compliance_predictor.state_dict(), './compliance_predictor/element_wise_compliance_predictor_on_cpu_test.ckpt')"
   ]
  },
  {
   "cell_type": "code",
   "execution_count": 4,
   "metadata": {},
   "outputs": [
    {
     "name": "stdout",
     "output_type": "stream",
     "text": [
      "No stored data, please re run topology optimization with store=True\n"
     ]
    },
    {
     "ename": "UnboundLocalError",
     "evalue": "local variable 'fig' referenced before assignment",
     "output_type": "error",
     "traceback": [
      "\u001b[1;31m---------------------------------------------------------------------------\u001b[0m",
      "\u001b[1;31mUnboundLocalError\u001b[0m                         Traceback (most recent call last)",
      "\u001b[1;32m<ipython-input-4-2ac7da3baab1>\u001b[0m in \u001b[0;36m<module>\u001b[1;34m\u001b[0m\n\u001b[1;32m----> 1\u001b[1;33m \u001b[0mtop\u001b[0m\u001b[1;33m.\u001b[0m\u001b[0mplot_design_evolution\u001b[0m\u001b[1;33m(\u001b[0m\u001b[0mname\u001b[0m\u001b[1;33m=\u001b[0m\u001b[1;34m\"test_plot_31_01_2021\"\u001b[0m\u001b[1;33m)\u001b[0m\u001b[1;33m\u001b[0m\u001b[1;33m\u001b[0m\u001b[0m\n\u001b[0m",
      "\u001b[1;32m~\\Documents\\Thèse Cifre\\Optimisation_Topologique\\TOP_OPT\\SetTopol_multiple_loads.py\u001b[0m in \u001b[0;36mplot_design_evolution\u001b[1;34m(self, name)\u001b[0m\n\u001b[0;32m    702\u001b[0m \u001b[1;33m\u001b[0m\u001b[0m\n\u001b[0;32m    703\u001b[0m                 \u001b[1;32mreturn\u001b[0m \u001b[0mfig\u001b[0m\u001b[1;33m\u001b[0m\u001b[1;33m\u001b[0m\u001b[0m\n\u001b[1;32m--> 704\u001b[1;33m \u001b[1;33m\u001b[0m\u001b[0m\n\u001b[0m\u001b[0;32m    705\u001b[0m \u001b[1;33m\u001b[0m\u001b[0m\n\u001b[0;32m    706\u001b[0m \u001b[1;33m\u001b[0m\u001b[0m\n",
      "\u001b[1;31mUnboundLocalError\u001b[0m: local variable 'fig' referenced before assignment"
     ]
    }
   ],
   "source": [
    "top.plot_design_evolution(name=\"test_plot_31_01_2021\")"
   ]
  },
  {
   "cell_type": "code",
   "execution_count": 4,
   "metadata": {},
   "outputs": [
    {
     "data": {
      "image/png": "[encoded data removed]",
      "text/plain": [
       "<Figure size 432x288 with 2 Axes>"
      ]
     },
     "execution_count": 4,
     "metadata": {},
     "output_type": "execute_result"
    },
    {
     "data": {
      "image/png": "[encoded data removed]",
      "text/plain": [
       "<Figure size 432x288 with 1 Axes>"
      ]
     },
     "metadata": {
      "needs_background": "light"
     },
     "output_type": "display_data"
    },
    {
     "data": {
      "image/png": "[encoded data removed]",
      "text/plain": [
       "<Figure size 432x288 with 1 Axes>"
      ]
     },
     "metadata": {
      "needs_background": "light"
     },
     "output_type": "display_data"
    },
    {
     "data": {
      "image/png": "[encoded data removed]",
      "text/plain": [
       "<Figure size 432x288 with 2 Axes>"
      ]
     },
     "metadata": {
      "needs_background": "light"
     },
     "output_type": "display_data"
    }
   ],
   "source": [
    "top.plot_design_evolution(name=\"test_plot_31_01_2021\")"
   ]
  },
  {
   "cell_type": "code",
   "execution_count": 13,
   "metadata": {},
   "outputs": [
    {
     "data": {
      "text/plain": [
       "20.57447524828197"
      ]
     },
     "execution_count": 13,
     "metadata": {},
     "output_type": "execute_result"
    }
   ],
   "source": [
    "sum(top.hist[len(top.hist)-1].reshape(top.nx,top.ny).T[:,0])\n",
    "# (1.-top.hist[len(top.hist)-1].reshape(self.nx,self.ny).T)*255"
   ]
  },
  {
   "cell_type": "markdown",
   "metadata": {},
   "source": [
    "#### Generating dataset with multiple Loads"
   ]
  },
  {
   "cell_type": "code",
   "execution_count": 10,
   "metadata": {
    "scrolled": true
   },
   "outputs": [
    {
     "name": "stdout",
     "output_type": "stream",
     "text": [
      "0\n",
      "hello: 0\n",
      "1\n",
      "hello: 1\n",
      "2\n",
      "hello: 2\n",
      "3\n",
      "hello: 3\n",
      "4\n",
      "hello: 4\n",
      "5\n",
      "hello: 5\n",
      "6\n",
      "hello: 6\n",
      "7\n",
      "hello: 7\n",
      "8\n",
      "hello: 8\n",
      "9\n",
      "hello: 9\n",
      "0\n",
      "hello: 0\n",
      "1\n",
      "hello: 1\n",
      "2\n",
      "hello: 2\n",
      "3\n",
      "hello: 3\n",
      "4\n",
      "hello: 4\n",
      "5\n",
      "hello: 5\n",
      "6\n",
      "hello: 6\n",
      "7\n",
      "hello: 7\n",
      "8\n",
      "hello: 8\n",
      "9\n",
      "hello: 9\n",
      "0\n",
      "hello: 0\n",
      "1\n",
      "hello: 1\n",
      "2\n",
      "hello: 2\n",
      "3\n",
      "hello: 3\n",
      "4\n",
      "hello: 4\n",
      "5\n",
      "hello: 5\n",
      "6\n",
      "hello: 6\n",
      "7\n",
      "hello: 7\n",
      "8\n",
      "hello: 8\n",
      "9\n",
      "hello: 9\n",
      "0\n",
      "hello: 0\n",
      "1\n",
      "hello: 1\n",
      "2\n",
      "hello: 2\n",
      "3\n",
      "hello: 3\n",
      "4\n",
      "hello: 4\n",
      "5\n",
      "hello: 5\n",
      "6\n",
      "hello: 6\n",
      "7\n",
      "hello: 7\n",
      "8\n",
      "hello: 8\n",
      "9\n",
      "hello: 9\n",
      "0\n",
      "hello: 0\n",
      "1\n",
      "hello: 1\n",
      "2\n",
      "hello: 2\n",
      "3\n",
      "hello: 3\n",
      "4\n",
      "hello: 4\n",
      "5\n",
      "hello: 5\n",
      "6\n",
      "hello: 6\n",
      "7\n",
      "hello: 7\n",
      "8\n",
      "hello: 8\n",
      "9\n",
      "hello: 9\n",
      "0\n",
      "hello: 0\n",
      "1\n",
      "hello: 1\n",
      "2\n",
      "hello: 2\n",
      "3\n",
      "hello: 3\n",
      "4\n",
      "hello: 4\n",
      "5\n",
      "hello: 5\n",
      "6\n",
      "hello: 6\n",
      "7\n",
      "hello: 7\n",
      "8\n",
      "hello: 8\n",
      "9\n",
      "hello: 9\n",
      "0\n",
      "hello: 0\n",
      "1\n",
      "hello: 1\n",
      "2\n",
      "hello: 2\n",
      "3\n",
      "hello: 3\n",
      "4\n",
      "hello: 4\n",
      "5\n",
      "hello: 5\n",
      "6\n",
      "hello: 6\n",
      "7\n",
      "hello: 7\n",
      "8\n",
      "hello: 8\n",
      "9\n",
      "hello: 9\n",
      "0\n",
      "hello: 0\n",
      "1\n",
      "hello: 1\n",
      "2\n",
      "hello: 2\n",
      "3\n",
      "hello: 3\n",
      "4\n",
      "hello: 4\n",
      "5\n",
      "hello: 5\n",
      "6\n",
      "hello: 6\n",
      "7\n",
      "hello: 7\n",
      "8\n",
      "hello: 8\n",
      "9\n",
      "hello: 9\n",
      "0\n",
      "hello: 0\n",
      "1\n",
      "hello: 1\n",
      "2\n",
      "hello: 2\n",
      "3\n",
      "hello: 3\n",
      "4\n",
      "hello: 4\n",
      "5\n",
      "hello: 5\n",
      "6\n",
      "hello: 6\n",
      "7\n",
      "hello: 7\n",
      "8\n",
      "hello: 8\n",
      "9\n",
      "hello: 9\n",
      "0\n",
      "hello: 0\n",
      "1\n",
      "hello: 1\n",
      "2\n",
      "hello: 2\n",
      "3\n",
      "hello: 3\n",
      "4\n",
      "hello: 4\n",
      "5\n",
      "hello: 5\n",
      "6\n",
      "hello: 6\n",
      "7\n",
      "hello: 7\n",
      "8\n",
      "hello: 8\n",
      "9\n",
      "hello: 9\n"
     ]
    }
   ],
   "source": [
    "window = 100/#51\n",
    "top = TopolSettings(nx = 3, ny = 3,nbr_loads=2, vol = 0.4, rmin = 1.3, penalinit = 3.0, penalmed = 3.0, filt = 0, nu=0.3)\n",
    "possible_fixed_nodes = np.arange(0, top.ny+1).tolist()+ [m*(top.ny +1)-1 for m in range(2,top.nx+1)] + np.sort(np.arange((top.ny+1)*top.nx, (top.nx+1)*(top.ny+1))).tolist()[::-1] + np.sort(np.asarray([m*(top.ny+1) for m in range(1,top.nx)])).tolist()[::-1]  \n",
    "count = 0\n",
    "for node in random.sample(possible_fixed_nodes,10):\n",
    "    nodes = [node, node+1]\n",
    "#     for i in range(0, (top.ny +1 )*top.nx - window +1): # 2500 possibilities i.e. too much\n",
    "#     for i in random.sample(np.arange(0,(top.ny +1 )*top.nx - window +1).tolist(), 100)\n",
    "    for i in range(0, (top.ny +1 )*top.nx - window +1, int(top.nx/4)):\n",
    "        print(i)\n",
    "        if i<len(possible_fixed_nodes):\n",
    "            print(\"hello:\", str(i))\n",
    "#             list_fixed_nodes = possible_fixed_nodes[i:i+window]\n",
    "#             for teta in [90]: # [45,90,180,180+45,180+90] with teta = 180+90 only we have 596 output_plot\n",
    "#                 if len(set(nodes) - set(list_fixed_nodes)) == len(set(nodes)): # i do not want to put load on a fixed edge\n",
    "#                     count+=1\n",
    "#                     print(list_fixed_nodes)\n",
    "#                     print(nodes)\n",
    "#                     top.setf(values=[1,1], nodes=nodes, tetas=[180+teta, 180+teta])\n",
    "#                     top.setfixed(list_nodes=list_fixed_nodes)\n",
    "#                     top.optimize(store=True)\n",
    "#                     top.plot()"
   ]
  },
  {
   "cell_type": "code",
   "execution_count": 14,
   "metadata": {},
   "outputs": [
    {
     "data": {
      "text/plain": [
       "11"
      ]
     },
     "execution_count": 14,
     "metadata": {},
     "output_type": "execute_result"
    }
   ],
   "source": [
    "int(window/2)\n",
    "opposite_side_nodes[-1]"
   ]
  },
  {
   "cell_type": "code",
   "execution_count": 36,
   "metadata": {},
   "outputs": [
    {
     "name": "stdout",
     "output_type": "stream",
     "text": [
      "5184\n"
     ]
    }
   ],
   "source": [
    "window = int(100/2)#51\n",
    "count = 0\n",
    "for volfraction in [0.3, 0.5, 0.6]:\n",
    "    for rmin in [ 2.7, 3.5, 4.3]:\n",
    "        for filt in [0,1]:\n",
    "            top = TopolSettings(nx = 100, ny = 100,nbr_loads=1, vol = volfraction, rmin = rmin, penalinit = 3.0, penalmed = 3.0, filt = filt, nu=0.3)\n",
    "            possible_fixed_nodes = np.arange(0, top.ny+1).tolist()+ [m*(top.ny +1)-1 for m in range(2,top.nx+1)] + np.sort(np.arange((top.ny+1)*top.nx, (top.nx+1)*(top.ny+1))).tolist()[::-1] + np.sort(np.asarray([m*(top.ny+1) for m in range(1,top.nx)])).tolist()[::-1]  \n",
    "\n",
    "            for i in range(0, (top.ny +1 )*top.nx - window +1, int(top.nx/4)):#\n",
    "                # fixed nodes\n",
    "                fixed_nodes = possible_fixed_nodes[i:i+window]\n",
    "                if len(fixed_nodes)>0:\n",
    "                    # opposite side nodes (load nodes)\n",
    "                    element = fixed_nodes[(len(fixed_nodes) - 1 )]\n",
    "                    starting_index = (possible_fixed_nodes.index(element)+top.nx)%len(possible_fixed_nodes)\n",
    "                    ending_index = (possible_fixed_nodes.index(element)+2*top.nx)%len(possible_fixed_nodes)+1\n",
    "                    opposite_side_nodes = []\n",
    "                    if ending_index<starting_index:\n",
    "                        opposite_side_nodes = possible_fixed_nodes[starting_index: ] + possible_fixed_nodes[0:ending_index]\n",
    "                    else:\n",
    "                        opposite_side_nodes = possible_fixed_nodes[starting_index: ending_index]\n",
    "\n",
    "                    for load_node in [opposite_side_nodes[0],opposite_side_nodes[window],opposite_side_nodes[-1] ]:\n",
    "                        for teta in [0,45,90,180,180+45,180+90]:\n",
    "                            count+=1\n",
    "print(count)"
   ]
  },
  {
   "cell_type": "code",
   "execution_count": 27,
   "metadata": {},
   "outputs": [
    {
     "data": {
      "text/plain": [
       "400"
      ]
     },
     "execution_count": 27,
     "metadata": {},
     "output_type": "execute_result"
    }
   ],
   "source": [
    "len(possible_fixed_nodes)"
   ]
  },
  {
   "cell_type": "code",
   "execution_count": 201,
   "metadata": {},
   "outputs": [],
   "source": [
    "window = 51\n",
    "top = TopolSettings(nx = 50, ny = 50, nbr_loads=2, vol = 0.4, rmin = 1.3, penalinit = 3.0, penalmed = 3.0, filt = 0, nu=0.3)\n",
    "possible_fixed_nodes = np.arange(0, top.ny+1).tolist()+ [m*(top.ny +1)-1 for m in range(2,top.nx+1)] + np.sort(np.arange((top.ny+1)*top.nx, (top.nx+1)*(top.ny+1))).tolist()[::-1] + np.sort(np.asarray([m*(top.ny+1) for m in range(1,top.nx)])).tolist()[::-1]  \n",
    "count = 0\n",
    "\n",
    "for i in range(0, (top.ny +1 )*top.nx - window +1, int(top.nx/2)):\n",
    "    if i<len(possible_fixed_nodes):\n",
    "        list_fixed_nodes = possible_fixed_nodes[i:i+window]\n",
    "        element = list_fixed_nodes[(len(list_fixed_nodes) - 1 )] # the last fixed node\n",
    "        node = possible_fixed_nodes[(possible_fixed_nodes.index(element)+window)%len(possible_fixed_nodes)] # put load on edge nodes \"window\" away from the fixed nodes i.e. the distance (nbr of nodes) beween the last fixed node and the node where we put the charge is = window\n",
    "#         node = (list_fixed_nodes[len(list_fixed_nodes) - 1] + int(top.nx/2))%top.ndof\n",
    "        node2 = possible_fixed_nodes[(possible_fixed_nodes.index(element)+2*window)%len(possible_fixed_nodes)]\n",
    "        nodes = [node, node2]\n",
    "        for teta in [0,45,90]: # [45,90,180,180+45,180+90] with teta = 180+90 only we have 596 output_plot\n",
    "            if len(set(nodes) - set(list_fixed_nodes)) == len(set(nodes)): # i do not want to put load on a fixed edge\n",
    "                count+=1\n",
    "                top.setf(values=[1,1], nodes=nodes, tetas=[teta, 180+teta])\n",
    "                top.setfixed(list_nodes=list_fixed_nodes)\n",
    "                top.optimize(store=True)\n",
    "                top.plot()"
   ]
  },
  {
   "cell_type": "code",
   "execution_count": 203,
   "metadata": {},
   "outputs": [
    {
     "data": {
      "text/plain": [
       "24"
      ]
     },
     "execution_count": 203,
     "metadata": {},
     "output_type": "execute_result"
    }
   ],
   "source": [
    "count2"
   ]
  },
  {
   "cell_type": "code",
   "execution_count": 226,
   "metadata": {},
   "outputs": [
    {
     "data": {
      "text/plain": [
       "[0, 1, 2, 3, 7, 11, 15, 14, 13, 12, 8, 4]"
      ]
     },
     "execution_count": 226,
     "metadata": {},
     "output_type": "execute_result"
    }
   ],
   "source": [
    "possible_fixed_nodes"
   ]
  },
  {
   "cell_type": "code",
   "execution_count": 231,
   "metadata": {},
   "outputs": [
    {
     "name": "stdout",
     "output_type": "stream",
     "text": [
      "[0, 1, 2, 3]\n",
      "15\n",
      "12\n",
      "[3, 7, 11, 15]\n",
      "12\n",
      "0\n",
      "[15, 14, 13, 12]\n",
      "0\n",
      "3\n",
      "[12, 8, 4, 0]\n",
      "3\n",
      "15\n"
     ]
    }
   ],
   "source": [
    "# here we fix a side and we set 2 corner loads on the opposite side\n",
    "\n",
    "top = TopolSettings(nx = 50, ny = 50, nbr_loads=2, vol = 0.4, rmin = 5.4, penalinit = 3.0, penalmed = 3.0, filt = 0, nu=0.3)\n",
    "possible_fixed_nodes = np.arange(0, top.ny+1).tolist()+ [m*(top.ny +1)-1 for m in range(2,top.nx+1)] + np.sort(np.arange((top.ny+1)*top.nx, (top.nx+1)*(top.ny+1))).tolist()[::-1] + np.sort(np.asarray([m*(top.ny+1) for m in range(1,top.nx)])).tolist()[::-1]  \n",
    "count = 0\n",
    "for list_fixed_nodes in [np.arange(0, top.ny+1).tolist(), [m*(top.ny +1)-1 for m in range(1,top.nx+2)] , np.sort(np.arange((top.ny+1)*top.nx, (top.nx+1)*(top.ny+1))).tolist()[::-1] , np.sort(np.asarray([m*(top.ny+1) for m in range(0,top.nx+1)])).tolist()[::-1]  ]:\n",
    "    element = list_fixed_nodes[(len(list_fixed_nodes) - 1 )]\n",
    "    node = possible_fixed_nodes[(possible_fixed_nodes.index(element)+top.nx)%len(possible_fixed_nodes)]\n",
    "    node2 = possible_fixed_nodes[(possible_fixed_nodes.index(element)+2*top.nx)%len(possible_fixed_nodes)]\n",
    "    nodes = [node, node2]\n",
    "#     print(list_fixed_nodes)\n",
    "#     print(element)\n",
    "#     print(node)\n",
    "#     print(node2)\n",
    "    for teta in [0, 45, 90,180, 180+45,180+90]: # [45,90,180,180+45,180+90] with teta = 180+90 only we have 596 output_plot\n",
    "        count+=1\n",
    "        top.setf(values=[1,1], nodes=nodes, tetas=[teta, teta+180])# or with [teta, teta]\n",
    "        top.setfixed(list_nodes=list_fixed_nodes)\n",
    "        top.optimize(store=True)\n",
    "        top.plot()"
   ]
  },
  {
   "cell_type": "code",
   "execution_count": 222,
   "metadata": {},
   "outputs": [
    {
     "data": {
      "text/plain": [
       "24"
      ]
     },
     "execution_count": 222,
     "metadata": {},
     "output_type": "execute_result"
    }
   ],
   "source": [
    "count"
   ]
  },
  {
   "cell_type": "code",
   "execution_count": null,
   "metadata": {},
   "outputs": [],
   "source": [
    "# all left side fixed + 3 loads: one upward in the top-righ corner, one downward in the bottom-left corner , one horizontal in the middle of the right side\n",
    "\n",
    "top = TopolSettings(nx = 50, ny = 50, nbr_loads=3, vol = 0.4, rmin = 1.2, penalinit = 3.0, penalmed = 3.0, filt = 0, nu=0.3)\n",
    "\n",
    "# left side nodes fixed\n",
    "list_fixed_nodes =  np.arange(0, top.ny+1).tolist()\n",
    "top.setfixed(list_nodes=list_fixed_nodes)\n",
    "\n",
    "# loads: \n",
    "## top-right corner :  top.nx*(top.ny+1) + upward => 90\n",
    "## bottom-left corner : (top.nx+1)*(top.ny+1)-1 + downward => 180+90\n",
    "## middle-right    : (top.nx+1)*(top.ny+1)-1 + int(top.ny/2) + horizontal => 0\n",
    "top.setf(values=[0.5,0.5,1], nodes=[(top.nx+1)*(top.ny+1)-1, top.nx*(top.ny+1), (top.nx+1)*(top.ny+1)-1 + int(top.ny/2) ], tetas=[180+90, 90, 0])\n",
    "\n",
    "# Run Optimization\n",
    "top.optimize(store=True)\n",
    "\n",
    "# Plot Resulting 2D design\n",
    "top.plot()"
   ]
  },
  {
   "cell_type": "code",
   "execution_count": 242,
   "metadata": {},
   "outputs": [],
   "source": [
    "# here we fix a sliding side and we set 3 loads on the opposite side\n",
    "\n",
    "top = TopolSettings(nx = 50, ny = 50, nbr_loads=3, vol = 0.4, rmin = 5.4, penalinit = 3.0, penalmed = 3.0, filt = 0, nu=0.3)\n",
    "window = top.nx+1\n",
    "\n",
    "possible_fixed_nodes = np.arange(0, top.ny+1).tolist()+ [m*(top.ny +1)-1 for m in range(2,top.nx+1)] + np.sort(np.arange((top.ny+1)*top.nx, (top.nx+1)*(top.ny+1))).tolist()[::-1] + np.sort(np.asarray([m*(top.ny+1) for m in range(1,top.nx)])).tolist()[::-1]  \n",
    "count = 0\n",
    "for i in range(0, (top.ny +1 )*top.nx - window +1, int(top.nx/2)):\n",
    "    if i<len(possible_fixed_nodes):\n",
    "        list_fixed_nodes = possible_fixed_nodes[i:i+window]\n",
    "        element = list_fixed_nodes[(len(list_fixed_nodes) - 1 )]\n",
    "        node = possible_fixed_nodes[(possible_fixed_nodes.index(element)+top.nx)%len(possible_fixed_nodes)]\n",
    "        node2 = possible_fixed_nodes[(possible_fixed_nodes.index(element)+2*top.nx)%len(possible_fixed_nodes)]\n",
    "        node3 = possible_fixed_nodes[(possible_fixed_nodes.index(element)+int(1.5*top.nx))%len(possible_fixed_nodes)]\n",
    "        nodes = [node, node2, node3]\n",
    "#         print(list_fixed_nodes)\n",
    "#         print(element)\n",
    "#         print(node)\n",
    "#         print(node2)\n",
    "#         print(node3)\n",
    "        for teta in [0, 45, 90,180, 180+45,180+90]: # [45,90,180,180+45,180+90] with teta = 180+90 only we have 596 output_plot\n",
    "            count+=1\n",
    "            top.setf(values=[1,1,1], nodes=nodes, tetas=[0, teta, teta+180])# or with [teta, teta]\n",
    "            top.setfixed(list_nodes=list_fixed_nodes)\n",
    "            top.optimize(store=True)\n",
    "            top.plot()"
   ]
  },
  {
   "cell_type": "code",
   "execution_count": 243,
   "metadata": {},
   "outputs": [
    {
     "data": {
      "text/plain": [
       "48"
      ]
     },
     "execution_count": 243,
     "metadata": {},
     "output_type": "execute_result"
    }
   ],
   "source": [
    "count"
   ]
  },
  {
   "cell_type": "code",
   "execution_count": 4,
   "metadata": {},
   "outputs": [
    {
     "data": {
      "text/plain": [
       "[0, 1, 2, 3, 7, 11, 15, 14, 13, 12, 8, 4]"
      ]
     },
     "execution_count": 4,
     "metadata": {},
     "output_type": "execute_result"
    }
   ],
   "source": [
    "top = TopolSettings(nx = 3, ny = 3, nbr_loads=3, vol = 0.4, rmin = 5.4, penalinit = 3.0, penalmed = 3.0, filt = 0, nu=0.3)\n",
    "possible_fixed_nodes = np.arange(0, top.ny+1).tolist()+ [m*(top.ny +1)-1 for m in range(2,top.nx+1)] + np.sort(np.arange((top.ny+1)*top.nx, (top.nx+1)*(top.ny+1))).tolist()[::-1] + np.sort(np.asarray([m*(top.ny+1) for m in range(1,top.nx)])).tolist()[::-1]  \n",
    "possible_fixed_nodes"
   ]
  },
  {
   "cell_type": "code",
   "execution_count": 8,
   "metadata": {},
   "outputs": [
    {
     "data": {
      "text/plain": [
       "[0, 0, 0]"
      ]
     },
     "execution_count": 8,
     "metadata": {},
     "output_type": "execute_result"
    }
   ],
   "source": [
    "top.load_nodes"
   ]
  },
  {
   "cell_type": "code",
   "execution_count": 9,
   "metadata": {},
   "outputs": [
    {
     "name": "stdout",
     "output_type": "stream",
     "text": [
      "1 2\n"
     ]
    }
   ],
   "source": [
    "print(1,2)"
   ]
  },
  {
   "cell_type": "code",
   "execution_count": 274,
   "metadata": {},
   "outputs": [
    {
     "name": "stdout",
     "output_type": "stream",
     "text": [
      "[3, 7, 11, 15]\n"
     ]
    },
    {
     "data": {
      "text/plain": [
       "[12, 8, 4, 0]"
      ]
     },
     "execution_count": 274,
     "metadata": {},
     "output_type": "execute_result"
    }
   ],
   "source": [
    "list_fixed_nodes = [m*(top.ny +1)-1 for m in range(1,top.nx+2)] #np.arange(0, top.ny+1).tolist()\n",
    "print(list_fixed_nodes)\n",
    "element = list_fixed_nodes[(len(list_fixed_nodes) - 1 )]\n",
    "starting_index = (possible_fixed_nodes.index(element)+top.nx)%len(possible_fixed_nodes)\n",
    "ending_index = (possible_fixed_nodes.index(element)+2*top.nx)%len(possible_fixed_nodes)+1\n",
    "opposite_side_nodes = []\n",
    "if ending_index<starting_index:\n",
    "    opposite_side_nodes = possible_fixed_nodes[starting_index: ] + possible_fixed_nodes[0:ending_index]\n",
    "opposite_side_nodes"
   ]
  },
  {
   "cell_type": "code",
   "execution_count": 272,
   "metadata": {},
   "outputs": [
    {
     "data": {
      "text/plain": [
       "1"
      ]
     },
     "execution_count": 272,
     "metadata": {},
     "output_type": "execute_result"
    }
   ],
   "source": [
    "(possible_fixed_nodes.index(element)+2*top.nx)%len(possible_fixed_nodes)+1"
   ]
  },
  {
   "cell_type": "code",
   "execution_count": 270,
   "metadata": {},
   "outputs": [
    {
     "data": {
      "text/plain": [
       "1"
      ]
     },
     "execution_count": 270,
     "metadata": {},
     "output_type": "execute_result"
    }
   ],
   "source": [
    "element\n",
    "(possible_fixed_nodes.index(element)+top.nx +top.ny)%len(possible_fixed_nodes)+1"
   ]
  },
  {
   "cell_type": "code",
   "execution_count": 269,
   "metadata": {},
   "outputs": [
    {
     "data": {
      "text/plain": [
       "12"
      ]
     },
     "execution_count": 269,
     "metadata": {},
     "output_type": "execute_result"
    }
   ],
   "source": [
    "possible_fixed_nodes[(possible_fixed_nodes.index(element)+top.nx)%len(possible_fixed_nodes)]"
   ]
  },
  {
   "cell_type": "code",
   "execution_count": 258,
   "metadata": {},
   "outputs": [
    {
     "data": {
      "text/plain": [
       "[0, 1, 2, 3, 7, 11, 15, 14, 13, 12, 8, 4]"
      ]
     },
     "execution_count": 258,
     "metadata": {},
     "output_type": "execute_result"
    }
   ],
   "source": [
    "possible_fixed_nodes"
   ]
  },
  {
   "cell_type": "code",
   "execution_count": 257,
   "metadata": {},
   "outputs": [
    {
     "ename": "TypeError",
     "evalue": "list indices must be integers or slices, not tuple",
     "output_type": "error",
     "traceback": [
      "\u001b[1;31m---------------------------------------------------------------------------\u001b[0m",
      "\u001b[1;31mTypeError\u001b[0m                                 Traceback (most recent call last)",
      "\u001b[1;32m<ipython-input-257-e29260fabb89>\u001b[0m in \u001b[0;36m<module>\u001b[1;34m\u001b[0m\n\u001b[1;32m----> 1\u001b[1;33m \u001b[0mpossible_fixed_nodes\u001b[0m\u001b[1;33m[\u001b[0m\u001b[0mpossible_fixed_nodes\u001b[0m\u001b[1;33m.\u001b[0m\u001b[0mindex\u001b[0m\u001b[1;33m(\u001b[0m\u001b[0mend_node\u001b[0m\u001b[1;33m)\u001b[0m\u001b[1;33m,\u001b[0m \u001b[0mpossible_fixed_nodes\u001b[0m\u001b[1;33m.\u001b[0m\u001b[0mindex\u001b[0m\u001b[1;33m(\u001b[0m\u001b[0mstarting_node\u001b[0m\u001b[1;33m)\u001b[0m\u001b[1;33m]\u001b[0m\u001b[1;33m\u001b[0m\u001b[1;33m\u001b[0m\u001b[0m\n\u001b[0m",
      "\u001b[1;31mTypeError\u001b[0m: list indices must be integers or slices, not tuple"
     ]
    }
   ],
   "source": [
    "possible_fixed_nodes[possible_fixed_nodes.index(end_node), possible_fixed_nodes.index(starting_node)]"
   ]
  },
  {
   "cell_type": "code",
   "execution_count": 4,
   "metadata": {},
   "outputs": [
    {
     "data": {
      "text/plain": [
       "26"
      ]
     },
     "execution_count": 4,
     "metadata": {},
     "output_type": "execute_result"
    }
   ],
   "source": [
    "import datetime\n",
    "len(str(datetime.datetime.now()))"
   ]
  },
  {
   "cell_type": "code",
   "execution_count": 7,
   "metadata": {},
   "outputs": [
    {
     "data": {
      "text/plain": [
       "'2020-01-16 19_22_17'"
      ]
     },
     "execution_count": 7,
     "metadata": {},
     "output_type": "execute_result"
    }
   ],
   "source": [
    "str(datetime.datetime.now())[0:19]"
   ]
  },
  {
   "cell_type": "code",
   "execution_count": 1,
   "metadata": {},
   "outputs": [],
   "source": [
    "from data_generator import one_load_design_generator"
   ]
  },
  {
   "cell_type": "code",
   "execution_count": 2,
   "metadata": {},
   "outputs": [
    {
     "name": "stdout",
     "output_type": "stream",
     "text": [
      "initial list of fixe nodes: []\n",
      "Generating Designs ... \n",
      "before setting f, list of fixed nodes: [0, 1, 2, 3]\n",
      "list of fixed nodes are:  [0, 1, 2, 3]\n",
      "it.: 1 , obj.: 137.569 Vol.: 0.400, ch.: 0.193\n",
      "it.: 2 , obj.: 106.458 Vol.: 0.400, ch.: 0.095\n",
      "it.: 3 , obj.: 100.693 Vol.: 0.400, ch.: 0.073\n",
      "it.: 4 , obj.: 96.117 Vol.: 0.400, ch.: 0.045\n",
      "it.: 5 , obj.: 93.860 Vol.: 0.400, ch.: 0.040\n",
      "it.: 6 , obj.: 92.052 Vol.: 0.400, ch.: 0.027\n",
      "it.: 7 , obj.: 91.034 Vol.: 0.400, ch.: 0.025\n",
      "it.: 8 , obj.: 90.282 Vol.: 0.400, ch.: 0.018\n",
      "it.: 9 , obj.: 89.832 Vol.: 0.400, ch.: 0.016\n",
      "it.: 10 , obj.: 89.511 Vol.: 0.400, ch.: 0.012\n",
      "it.: 11 , obj.: 89.312 Vol.: 0.400, ch.: 0.010\n",
      "it.: 12 , obj.: 89.171 Vol.: 0.400, ch.: 0.008\n",
      "it.: 13 , obj.: 89.082 Vol.: 0.400, ch.: 0.007\n",
      "it.: 14 , obj.: 89.018 Vol.: 0.400, ch.: 0.005\n",
      "it.: 15 , obj.: 88.978 Vol.: 0.400, ch.: 0.004\n",
      "it.: 16 , obj.: 88.949 Vol.: 0.400, ch.: 0.003\n",
      "it.: 17 , obj.: 88.930 Vol.: 0.400, ch.: 0.003\n",
      "it.: 18 , obj.: 88.917 Vol.: 0.400, ch.: 0.002\n",
      "it.: 19 , obj.: 88.908 Vol.: 0.400, ch.: 0.002\n",
      "it.: 20 , obj.: 88.902 Vol.: 0.400, ch.: 0.001\n",
      "it.: 21 , obj.: 88.898 Vol.: 0.400, ch.: 0.001\n",
      "it.: 22 , obj.: 88.895 Vol.: 0.400, ch.: 0.001\n",
      "Elapsed time : 1.0183043479919434 s\n",
      "Saving plot ... \n",
      "in data generator code the list of fixed nodes are :  [0, 1, 2, 3]\n",
      "before setting f, list of fixed nodes: [0, 1, 2, 3]\n",
      "list of fixed nodes are:  [0, 1, 2, 3]\n",
      "it.: 1 , obj.: 109.314 Vol.: 0.400, ch.: 0.141\n",
      "it.: 2 , obj.: 89.949 Vol.: 0.400, ch.: 0.094\n",
      "it.: 3 , obj.: 84.229 Vol.: 0.400, ch.: 0.051\n",
      "it.: 4 , obj.: 80.852 Vol.: 0.400, ch.: 0.039\n",
      "it.: 5 , obj.: 79.047 Vol.: 0.400, ch.: 0.025\n",
      "it.: 6 , obj.: 77.753 Vol.: 0.400, ch.: 0.024\n",
      "it.: 7 , obj.: 77.047 Vol.: 0.400, ch.: 0.014\n",
      "it.: 8 , obj.: 76.507 Vol.: 0.400, ch.: 0.014\n",
      "it.: 9 , obj.: 76.220 Vol.: 0.400, ch.: 0.009\n",
      "it.: 10 , obj.: 75.983 Vol.: 0.400, ch.: 0.009\n",
      "it.: 11 , obj.: 75.863 Vol.: 0.400, ch.: 0.006\n",
      "it.: 12 , obj.: 75.754 Vol.: 0.400, ch.: 0.005\n",
      "it.: 13 , obj.: 75.702 Vol.: 0.400, ch.: 0.004\n",
      "it.: 14 , obj.: 75.649 Vol.: 0.400, ch.: 0.003\n",
      "it.: 15 , obj.: 75.626 Vol.: 0.400, ch.: 0.002\n",
      "it.: 16 , obj.: 75.600 Vol.: 0.400, ch.: 0.002\n",
      "it.: 17 , obj.: 75.589 Vol.: 0.400, ch.: 0.001\n",
      "it.: 18 , obj.: 75.575 Vol.: 0.400, ch.: 0.001\n",
      "it.: 19 , obj.: 75.570 Vol.: 0.400, ch.: 0.001\n",
      "Elapsed time : 0.03790020942687988 s\n",
      "Saving plot ... \n",
      "in data generator code the list of fixed nodes are :  [0, 1, 2, 3]\n",
      "before setting f, list of fixed nodes: [0, 1, 2, 3]\n",
      "list of fixed nodes are:  [0, 1, 2, 3]\n",
      "it.: 1 , obj.: 109.314 Vol.: 0.400, ch.: 0.141\n",
      "it.: 2 , obj.: 89.949 Vol.: 0.400, ch.: 0.094\n",
      "it.: 3 , obj.: 84.229 Vol.: 0.400, ch.: 0.051\n",
      "it.: 4 , obj.: 80.852 Vol.: 0.400, ch.: 0.039\n",
      "it.: 5 , obj.: 79.047 Vol.: 0.400, ch.: 0.025\n",
      "it.: 6 , obj.: 77.753 Vol.: 0.400, ch.: 0.024\n",
      "it.: 7 , obj.: 77.047 Vol.: 0.400, ch.: 0.014\n",
      "it.: 8 , obj.: 76.507 Vol.: 0.400, ch.: 0.014\n",
      "it.: 9 , obj.: 76.220 Vol.: 0.400, ch.: 0.009\n",
      "it.: 10 , obj.: 75.983 Vol.: 0.400, ch.: 0.009\n",
      "it.: 11 , obj.: 75.863 Vol.: 0.400, ch.: 0.006\n",
      "it.: 12 , obj.: 75.754 Vol.: 0.400, ch.: 0.005\n",
      "it.: 13 , obj.: 75.702 Vol.: 0.400, ch.: 0.004\n",
      "it.: 14 , obj.: 75.649 Vol.: 0.400, ch.: 0.003\n",
      "it.: 15 , obj.: 75.626 Vol.: 0.400, ch.: 0.002\n",
      "it.: 16 , obj.: 75.600 Vol.: 0.400, ch.: 0.002\n",
      "it.: 17 , obj.: 75.589 Vol.: 0.400, ch.: 0.001\n",
      "it.: 18 , obj.: 75.575 Vol.: 0.400, ch.: 0.001\n",
      "it.: 19 , obj.: 75.570 Vol.: 0.400, ch.: 0.001\n",
      "Elapsed time : 0.03790020942687988 s\n",
      "Saving plot ... \n",
      "in data generator code the list of fixed nodes are :  [0, 1, 2, 3]\n",
      "before setting f, list of fixed nodes: [0, 1, 2, 3]\n",
      "list of fixed nodes are:  [0, 1, 2, 3]\n",
      "it.: 1 , obj.: 137.569 Vol.: 0.400, ch.: 0.193\n",
      "it.: 2 , obj.: 106.458 Vol.: 0.400, ch.: 0.095\n",
      "it.: 3 , obj.: 100.693 Vol.: 0.400, ch.: 0.073\n",
      "it.: 4 , obj.: 96.117 Vol.: 0.400, ch.: 0.045\n",
      "it.: 5 , obj.: 93.860 Vol.: 0.400, ch.: 0.040\n",
      "it.: 6 , obj.: 92.052 Vol.: 0.400, ch.: 0.027\n",
      "it.: 7 , obj.: 91.034 Vol.: 0.400, ch.: 0.025\n",
      "it.: 8 , obj.: 90.282 Vol.: 0.400, ch.: 0.018\n",
      "it.: 9 , obj.: 89.832 Vol.: 0.400, ch.: 0.016\n",
      "it.: 10 , obj.: 89.511 Vol.: 0.400, ch.: 0.012\n",
      "it.: 11 , obj.: 89.312 Vol.: 0.400, ch.: 0.010\n",
      "it.: 12 , obj.: 89.171 Vol.: 0.400, ch.: 0.008\n",
      "it.: 13 , obj.: 89.082 Vol.: 0.400, ch.: 0.007\n",
      "it.: 14 , obj.: 89.018 Vol.: 0.400, ch.: 0.005\n",
      "it.: 15 , obj.: 88.978 Vol.: 0.400, ch.: 0.004\n",
      "it.: 16 , obj.: 88.949 Vol.: 0.400, ch.: 0.003\n",
      "it.: 17 , obj.: 88.930 Vol.: 0.400, ch.: 0.003\n",
      "it.: 18 , obj.: 88.917 Vol.: 0.400, ch.: 0.002\n",
      "it.: 19 , obj.: 88.908 Vol.: 0.400, ch.: 0.002\n",
      "it.: 20 , obj.: 88.902 Vol.: 0.400, ch.: 0.001\n",
      "it.: 21 , obj.: 88.898 Vol.: 0.400, ch.: 0.001\n",
      "it.: 22 , obj.: 88.895 Vol.: 0.400, ch.: 0.001\n",
      "Elapsed time : 0.043883323669433594 s\n",
      "Saving plot ... \n",
      "in data generator code the list of fixed nodes are :  [0, 1, 2, 3]\n",
      "4 4 4 4 4 4 4 4 4 4\n",
      "4 4 4 4 4 4 4 4\n",
      "Saving Parameters ... \n"
     ]
    },
    {
     "data": {
      "image/png": "[encoded data removed]",
      "text/plain": [
       "<Figure size 432x288 with 2 Axes>"
      ]
     },
     "metadata": {
      "needs_background": "light"
     },
     "output_type": "display_data"
    },
    {
     "data": {
      "image/png": "[encoded data removed]",
      "text/plain": [
       "<Figure size 432x288 with 2 Axes>"
      ]
     },
     "metadata": {
      "needs_background": "light"
     },
     "output_type": "display_data"
    },
    {
     "data": {
      "image/png": "[encoded data removed]",
      "text/plain": [
       "<Figure size 432x288 with 2 Axes>"
      ]
     },
     "metadata": {
      "needs_background": "light"
     },
     "output_type": "display_data"
    },
    {
     "data": {
      "image/png": "[encoded data removed]",
      "text/plain": [
       "<Figure size 432x288 with 2 Axes>"
      ]
     },
     "metadata": {
      "needs_background": "light"
     },
     "output_type": "display_data"
    }
   ],
   "source": [
    "two_load_design_generator(nx = 100, ny = 100, volfraction = 0.4, nbr_loads = 2, rmin = 1.2, penalinit = 3.0, penalmed = 3.0, filt = 0, nu=0.3 )"
   ]
  },
  {
   "cell_type": "code",
   "execution_count": null,
   "metadata": {},
   "outputs": [],
   "source": [
    "from data_generator import one_load_design_generator_v2\n"
   ]
  },
  {
   "cell_type": "code",
   "execution_count": 38,
   "metadata": {},
   "outputs": [],
   "source": [
    "from firebase_admin import db"
   ]
  },
  {
   "cell_type": "code",
   "execution_count": 6,
   "metadata": {},
   "outputs": [
    {
     "name": "stdout",
     "output_type": "stream",
     "text": [
      "4\n"
     ]
    }
   ],
   "source": [
    "from SetTopol_multiple_loads import TopolSettings\n",
    "import numpy as np\n",
    "import random\n",
    "from multiprocessing import Pool\n",
    "import pandas as pd\n",
    "import datetime\n",
    "import os\n",
    "print(os.cpu_count())"
   ]
  },
  {
   "cell_type": "code",
   "execution_count": null,
   "metadata": {},
   "outputs": [
    {
     "name": "stdout",
     "output_type": "stream",
     "text": [
      "4\n"
     ]
    }
   ],
   "source": [
    "from SetTopol_multiple_loads import TopolSettings\n",
    "import numpy as np\n",
    "import random\n",
    "from multiprocessing import Pool\n",
    "import pandas as pd\n",
    "import datetime\n",
    "import os\n",
    "print(os.cpu_count())\n",
    "\n",
    "\n",
    "def one_load_generate_design(params):\n",
    "    print(\"inside f\")\n",
    "\n",
    "    list_nx   = []\n",
    "    list_ny    = []\n",
    "    list_vol   = []\n",
    "    list_rmin  = [] \n",
    "    list_penalinit = []\n",
    "    list_penalmed  = [] \n",
    "    list_filt  = [] \n",
    "    list_nu    = [] \n",
    "    list_ndof = [] \n",
    "    list_Emin = [] \n",
    "    list_Emax = [] \n",
    "    list_f = [] \n",
    "    list_node_f = [] \n",
    "    list_teta_f = [] \n",
    "    list_valuef = [] \n",
    "    list_fixed_nodes = []\n",
    "    list_type_fixed_nodes = []\n",
    "    list_final_objective_function_value = []\n",
    "    list_all_objective_function_values = []\n",
    "    list_design_references = []\n",
    "    \n",
    "    count = 0\n",
    "    top = TopolSettings(nx = params['nx'], ny = params['ny'], nbr_loads = 1, vol = params['volfraction'], rmin = params['rmin'], penalinit = 3.0, penalmed = 3.0, filt = params['filt'], nu = 0.3)\n",
    "    fixed_nodes = params['fixed_nodes']\n",
    "    if len(fixed_nodes)>0:\n",
    "        # opposite side nodes (load nodes)\n",
    "        element = fixed_nodes[(len(fixed_nodes) - 1 )]\n",
    "        starting_index = (possible_fixed_nodes.index(element)+top.nx)%len(possible_fixed_nodes)\n",
    "        ending_index = (possible_fixed_nodes.index(element)+2*top.nx)%len(possible_fixed_nodes)+1\n",
    "        opposite_side_nodes = []\n",
    "        if ending_index<starting_index:\n",
    "            opposite_side_nodes = possible_fixed_nodes[starting_index: ] + possible_fixed_nodes[0:ending_index]\n",
    "        else:\n",
    "            opposite_side_nodes = possible_fixed_nodes[starting_index: ending_index]\n",
    "\n",
    "        for load_node in [opposite_side_nodes[0],opposite_side_nodes[window],opposite_side_nodes[-1] ]:\n",
    "            nodes = [load_node]\n",
    "            if (len(set(nodes) - set(fixed_nodes)) == len(set(nodes))) : # i do not want to put load on a fixed edge    \n",
    "                top.setf(values=[1], nodes=nodes, tetas=[params['teta']])\n",
    "                top.fixed = fixed_nodes\n",
    "#                 top.optimize(store=True)\n",
    "                # Plot and Save only and only if the OBJECTIVE FUNCTION VALUE decreased i.e. the optimization problem converged\n",
    "                if (top.comphist[0]> top.comphist[-1]): #(top.comphist[0]/ top.comphist[-1] >= 5):\n",
    "                    datetime_info = str(datetime.datetime.now())[0:19].replace(':', '_')\n",
    "                    \n",
    "                    top.plot(name =  datetime_info+'_'+str(count+1))\n",
    "                    list_nx.append(top.nx)\n",
    "                    list_ny.append(top.ny)\n",
    "                    list_vol.append(top.vol)\n",
    "                    list_rmin.append(top.rmin) \n",
    "                    list_penalinit.append(top.penalinit) \n",
    "                    list_penalmed.append(top.penalmed) \n",
    "                    list_filt.append(top.filt) \n",
    "                    list_nu.append(top.nu) \n",
    "                    list_ndof.append(top.ndof) \n",
    "                    list_Emin.append(top.Emin) \n",
    "                    list_Emax.append(top.Emax) \n",
    "                    list_node_f.append(top.load_nodes) \n",
    "                    list_teta_f.append(top.tetas) \n",
    "                    list_valuef.append(top.valuefs) \n",
    "                    list_fixed_nodes.append(top.list_fixed_nodes)\n",
    "                    list_type_fixed_nodes.append(top.fixed_part)\n",
    "                    list_final_objective_function_value.append(top.comphist[-1])\n",
    "                    list_all_objective_function_values.append(top.comphist)\n",
    "                    list_design_references.append(datetime_info+'_'+str(count+1))\n",
    "                    count +=1\n",
    "                    print(\"name:\",datetime_info+'_'+str(count+1))\n",
    "                    \n",
    "        return pd.DataFrame(data = {'nx':list_nx, 'ny':list_ny, 'volume_fraction':list_vol, 'filter_rmin': list_rmin, \n",
    "                                        'initial_penalty':list_penalinit, 'med_penalty': list_penalmed, \n",
    "                                        'mesh_independency_filter':list_filt,'poisson_ratio_nu':list_nu, \n",
    "                                        'number_of_nodes':list_ndof, 'Young_modulus_Emin':list_Emin, \n",
    "                                        'Young_modulus_Emax':list_Emax, 'load_nodes':list_node_f, \n",
    "                                        'load_orientations':list_teta_f, 'load_intensities':list_valuef,\n",
    "                                        'fixed_nodes':list_fixed_nodes, 'type_fixed_nodes':list_type_fixed_nodes, \n",
    "                                        'final_objective_function_value':list_final_objective_function_value, \n",
    "                                        'all_objective_function_values':list_all_objective_function_values, \n",
    "                                        'design_reference':list_design_references})\n",
    "                    \n",
    "\n",
    "df = pd.DataFrame(data = {'nx':[], 'ny':[], 'volume_fraction':[], 'filter_rmin': [], 'initial_penalty':[], 'med_penalty': [], \n",
    "                          'mesh_independency_filter':[], 'poisson_ratio_nu':[], 'number_of_nodes':[], 'Young_modulus_Emin':[],\n",
    "                          'Young_modulus_Emax':[], 'load_nodes':[], 'load_orientations':[], 'load_intensities':[],\n",
    "                          'fixed_nodes':[], 'type_fixed_nodes':[], 'final_objective_function_value':[], \n",
    "                          'all_objective_function_values':[], 'design_reference':[]})\n",
    " \n",
    "volfractions = [0.3]\n",
    "rmins = [1.2]\n",
    "filters = [0]\n",
    "tetas = [0,45]\n",
    "nx = 3\n",
    "ny = 3\n",
    "window = int(nx/2)\n",
    "possible_fixed_nodes = np.arange(0, ny+1).tolist()+ [m*(ny +1)-1 for m in range(2,nx+1)] + np.sort(np.arange((ny+1)*nx, (nx+1)*(ny+1))).tolist()[::-1] + np.sort(np.asarray([m*(ny+1) for m in range(1,nx)])).tolist()[::-1]  \n",
    "pool = Pool(processes = os.cpu_count()-2) \n",
    "result_df = pool.map(one_load_generate_design, [{'nx':nx, 'ny':ny, 'volfraction':volfraction, 'rmin':rmin, 'filt':filt, 'fixed_nodes':possible_fixed_nodes[i:i+window], 'teta':teta} for volfraction in volfractions for rmin in rmins for filt in filters for i in  range(0, (ny +1 )*nx - window +1, int(nx/2)) for teta in tetas])\n",
    "\n",
    "if len(result_df)>0:\n",
    "    df.append(result_df, ignore_index = True) \n",
    "\n",
    "df.to_csv('./parameters/test_one_load_design_generation_'+str(datetime.datetime.now())[0:19].replace(':', '_')+'.csv')"
   ]
  },
  {
   "cell_type": "code",
   "execution_count": 45,
   "metadata": {},
   "outputs": [
    {
     "data": {
      "text/plain": [
       "1728"
      ]
     },
     "execution_count": 45,
     "metadata": {},
     "output_type": "execute_result"
    }
   ],
   "source": [
    "volfractions = [0.3, 0.5, 0.6]\n",
    "rmins = [1.2,2.7,3.5,4.3]\n",
    "filters = [0,1]\n",
    "tetas = [0,45,90,180,180+45,180+90]\n",
    "nx = 3\n",
    "ny = 3\n",
    "window = int(nx/2)\n",
    "len([{'nx':nx, 'ny':ny, 'volfraction':volfraction, 'rmin':rmin, 'filt':filt, 'fixed_nodes':possible_fixed_nodes[i:i+window], 'teta':teta} for volfraction in volfractions for rmin in rmins for filt in filters for i in range(0, (ny +1 )*nx - window +1, int(nx/2)) for teta in tetas])"
   ]
  },
  {
   "cell_type": "code",
   "execution_count": 4,
   "metadata": {},
   "outputs": [
    {
     "data": {
      "text/plain": [
       "'2020-01-20 15_28_28_3'"
      ]
     },
     "execution_count": 4,
     "metadata": {},
     "output_type": "execute_result"
    }
   ],
   "source": [
    "import datetime\n",
    "str(datetime.datetime.now())[0:21].replace(':', '_').replace('.','_')"
   ]
  },
  {
   "cell_type": "code",
   "execution_count": 7,
   "metadata": {},
   "outputs": [
    {
     "data": {
      "text/plain": [
       "24"
      ]
     },
     "execution_count": 7,
     "metadata": {},
     "output_type": "execute_result"
    }
   ],
   "source": [
    "volfractions = [0.3]\n",
    "rmins = [1.2]\n",
    "filters = [0]\n",
    "tetas = [0,45]\n",
    "nx = 3\n",
    "ny = 3\n",
    "window = int(nx/2)\n",
    "possible_fixed_nodes = np.arange(0, ny+1).tolist()+ [m*(ny +1)-1 for m in range(2,nx+1)] + np.sort(np.arange((ny+1)*nx, (nx+1)*(ny+1))).tolist()[::-1] + np.sort(np.asarray([m*(ny+1) for m in range(1,nx)])).tolist()[::-1]  \n",
    "\n",
    "sum([1 for volfraction in volfractions for rmin in rmins for filt in filters for i in  range(0, (ny +1 )*nx - window +1, int(nx/2)) for teta in tetas])"
   ]
  },
  {
   "cell_type": "code",
   "execution_count": 57,
   "metadata": {},
   "outputs": [
    {
     "data": {
      "text/plain": [
       "1.6448536269514722"
      ]
     },
     "execution_count": 57,
     "metadata": {},
     "output_type": "execute_result"
    }
   ],
   "source": [
    "norm.ppf(0.95, loc =0, scale = 1)"
   ]
  },
  {
   "cell_type": "code",
   "execution_count": 104,
   "metadata": {},
   "outputs": [],
   "source": [
    "Latin-hypercube designs can be created using the following simple syntax:\n",
    "lhs(n, [samples, criterion, iterations])\n",
    "where\n",
    "n: an integer that designates the number of factors (required) i.e. n=1 => every sample is a one element list, n=2 => every sample is a 2 elements list , etc.\n",
    "samples: an integer that designates the number of sample points to generate for each factor (default: n)\n",
    "criterion: a string that tells lhs how to sample the points (default: None, which simply randomizes the points within the intervals):\n",
    "“center” or “c”: center the points within the sampling intervals\n",
    "“maximin” or “m”: maximize the minimum distance between points, but place the point in a randomized location within its interval\n",
    "“centermaximin” or “cm”: same as “maximin”, but centered within the intervals\n",
    "“correlation” or “corr”: minimize the maximum correlation coefficient"
   ]
  },
  {
   "cell_type": "code",
   "execution_count": 48,
   "metadata": {},
   "outputs": [],
   "source": [
    "from scipy.stats.distributions import norm, uniform, bernoulli, poisson, binom\n",
    "from pyDOE import *\n",
    "volume_fraction = norm(loc=0.3, scale=0.1).ppf(lhs(50, samples=1)).reshape(50,)  # this gives the x values having y-values equal to volume_fraction"
   ]
  },
  {
   "cell_type": "code",
   "execution_count": 152,
   "metadata": {},
   "outputs": [],
   "source": [
    "rmin = uniform(1.1, 6).ppf(lhs(50, samples=1)).reshape(50,)  # this gives the x values having y-values equal to volume_fraction"
   ]
  },
  {
   "cell_type": "code",
   "execution_count": 168,
   "metadata": {},
   "outputs": [
    {
     "data": {
      "text/plain": [
       "27.0"
      ]
     },
     "execution_count": 168,
     "metadata": {},
     "output_type": "execute_result"
    }
   ],
   "source": [
    "filt = bernoulli(0.5).ppf(lhs(50, samples=1)).reshape(50,)\n",
    "sum(filt)"
   ]
  },
  {
   "cell_type": "code",
   "execution_count": 154,
   "metadata": {},
   "outputs": [],
   "source": [
    "teta = uniform(0, 359).ppf(lhs(50, samples=1)).reshape(50,)  # this gives the x values having y-values equal to volume_fraction"
   ]
  },
  {
   "cell_type": "code",
   "execution_count": 171,
   "metadata": {},
   "outputs": [
    {
     "data": {
      "text/plain": [
       "[<matplotlib.lines.Line2D at 0x23f9f9b0e80>]"
      ]
     },
     "execution_count": 171,
     "metadata": {},
     "output_type": "execute_result"
    },
    {
     "data": {
      "image/png": "[encoded data removed]",
      "text/plain": [
       "<Figure size 432x288 with 1 Axes>"
      ]
     },
     "metadata": {
      "needs_background": "light"
     },
     "output_type": "display_data"
    }
   ],
   "source": [
    "plt.plot(np.arange(len(teta)), teta)"
   ]
  },
  {
   "cell_type": "code",
   "execution_count": 189,
   "metadata": {},
   "outputs": [],
   "source": [
    "nbr_loads = poisson(50).ppf(lhs(50, samples=1)).reshape(50,)"
   ]
  },
  {
   "cell_type": "code",
   "execution_count": 84,
   "metadata": {
    "scrolled": true
   },
   "outputs": [
    {
     "data": {
      "text/plain": [
       "[0,\n",
       " 1,\n",
       " 2,\n",
       " 3,\n",
       " 4,\n",
       " 5,\n",
       " 6,\n",
       " 7,\n",
       " 8,\n",
       " 9,\n",
       " 10,\n",
       " 21,\n",
       " 32,\n",
       " 43,\n",
       " 54,\n",
       " 65,\n",
       " 76,\n",
       " 87,\n",
       " 98,\n",
       " 109,\n",
       " 120,\n",
       " 119,\n",
       " 118,\n",
       " 117,\n",
       " 116,\n",
       " 115,\n",
       " 114,\n",
       " 113,\n",
       " 112,\n",
       " 111,\n",
       " 110,\n",
       " 99,\n",
       " 88,\n",
       " 77,\n",
       " 66,\n",
       " 55,\n",
       " 44,\n",
       " 33,\n",
       " 22,\n",
       " 11]"
      ]
     },
     "execution_count": 84,
     "metadata": {},
     "output_type": "execute_result"
    }
   ],
   "source": [
    "possible_fixed_nodes"
   ]
  },
  {
   "cell_type": "code",
   "execution_count": 83,
   "metadata": {},
   "outputs": [
    {
     "data": {
      "text/plain": [
       "array([ 0,  5, 10, 15, 20, 25, 30, 35])"
      ]
     },
     "execution_count": 83,
     "metadata": {},
     "output_type": "execute_result"
    }
   ],
   "source": [
    "nx = 10\n",
    "ny = 10\n",
    "possible_fixed_nodes = np.arange(0, ny+1).tolist()+ [m*(ny +1)-1 for m in range(2,nx+1)] + np.sort(np.arange((ny+1)*nx, (nx+1)*(ny+1))).tolist()[::-1] + np.sort(np.asarray([m*(ny+1) for m in range(1,nx)])).tolist()[::-1]  \n",
    "\n",
    "window = 2\n",
    "np.arange(0, len(possible_fixed_nodes), int(nx/2))"
   ]
  },
  {
   "cell_type": "code",
   "execution_count": 72,
   "metadata": {},
   "outputs": [
    {
     "data": {
      "text/plain": [
       "array([ 61.18143889,  44.68089761,  82.59657885,  73.06282903,\n",
       "        54.30989965, -17.24880615,  59.31587077,  53.900857  ,\n",
       "        35.52970497,  56.69617678,  43.34910443,  69.16690853,\n",
       "       -13.93083716,  21.53715713,  59.28599564,  36.11438955,\n",
       "        61.51956771, 100.58583727,  33.29007376,  83.37553503,\n",
       "       -30.53731304,  34.10311533,  35.88301791,  22.33644874,\n",
       "        19.10886945,  25.87876195,  -7.36319741,   8.27418026,\n",
       "        86.83402535,  36.38815936,  22.75590836,  84.71046137,\n",
       "        80.83410518,  66.57254125,  96.23550373,  -8.58159184,\n",
       "        61.31781197,  35.74549155,  -0.4739877 ,  53.54448966,\n",
       "         4.03757275,  50.22000103,  47.05809602,  21.05877781,\n",
       "       106.84343471,  29.66710144,  46.87879555,  84.57605548,\n",
       "        92.22012228,  55.66335303])"
      ]
     },
     "execution_count": 72,
     "metadata": {},
     "output_type": "execute_result"
    }
   ],
   "source": [
    "norm(50,30).ppf(lhs(50, samples=1)).reshape(50,)"
   ]
  },
  {
   "cell_type": "code",
   "execution_count": 96,
   "metadata": {},
   "outputs": [
    {
     "data": {
      "text/plain": [
       "4.290393488036574"
      ]
     },
     "execution_count": 96,
     "metadata": {},
     "output_type": "execute_result"
    }
   ],
   "source": [
    "import random\n",
    "rmins_1 = uniform(1.1, 3).ppf(lhs(50, samples=1)).reshape(50,) #  0.1 < volume fraction < 0.4 => 1.1 < Rmin < 3 ; Rmin suit la loi uniforme (1.1, 3 )\n",
    "rmins_2 = uniform(2, 3).ppf(lhs(50, samples=1)).reshape(50,) #  0.4 < volume fraction < 0.6 => 2 < Rmin < 3 ; Rmin suit la loi uniforme (2, 3 )\n",
    "rmins_3 = uniform(3, 4).ppf(lhs(50, samples=1)).reshape(50,) \n",
    "volfraction = 0.7\n",
    "random.choice(rmins_1) if volfraction<0.4  else  random.choice(rmins_3)"
   ]
  },
  {
   "cell_type": "code",
   "execution_count": 69,
   "metadata": {},
   "outputs": [
    {
     "data": {
      "text/plain": [
       "[<matplotlib.lines.Line2D at 0x1f126dac7f0>]"
      ]
     },
     "execution_count": 69,
     "metadata": {},
     "output_type": "execute_result"
    },
    {
     "data": {
      "image/png": "[encoded data removed]",
      "text/plain": [
       "<Figure size 432x288 with 1 Axes>"
      ]
     },
     "metadata": {
      "needs_background": "light"
     },
     "output_type": "display_data"
    }
   ],
   "source": [
    "import matplotlib.pyplot as plt\n",
    "plt.plot(x.tolist(),y.reshape(50,).tolist())"
   ]
  },
  {
   "cell_type": "code",
   "execution_count": 54,
   "metadata": {},
   "outputs": [
    {
     "name": "stderr",
     "output_type": "stream",
     "text": [
      "C:\\Users\\walmasri\\AppData\\Local\\Continuum\\anaconda3\\lib\\site-packages\\scipy\\stats\\stats.py:1713: FutureWarning: Using a non-tuple sequence for multidimensional indexing is deprecated; use `arr[tuple(seq)]` instead of `arr[seq]`. In the future this will be interpreted as an array index, `arr[np.array(seq)]`, which will result either in an error or a different result.\n",
      "  return np.add.reduce(sorted[indexer] * weights, axis=axis) / sumval\n"
     ]
    },
    {
     "data": {
      "text/plain": [
       "<matplotlib.axes._subplots.AxesSubplot at 0x1f123a1e668>"
      ]
     },
     "execution_count": 54,
     "metadata": {},
     "output_type": "execute_result"
    },
    {
     "data": {
      "image/png": "[encoded data removed]",
      "text/plain": [
       "<Figure size 432x288 with 1 Axes>"
      ]
     },
     "metadata": {
      "needs_background": "light"
     },
     "output_type": "display_data"
    }
   ],
   "source": [
    "import seaborn as sns\n",
    "sns.countplot(nbr_loads)"
   ]
  },
  {
   "cell_type": "code",
   "execution_count": 208,
   "metadata": {},
   "outputs": [],
   "source": [
    "volfractions = norm(loc=0.3, scale=0.1).ppf(lhs(50, samples=1)).reshape(50,)  # this gives the x values having y-values equal to volume_fraction\n",
    "rmins = uniform(1.1, 6).ppf(lhs(50, samples=1)).reshape(50,) # rmin lower\n",
    "filters = bernoulli(0.5).ppf(lhs(50, samples=1)).reshape(50,) # either present (1) or absent (0)\n",
    "tetas = uniform(0, 359).ppf(lhs(50, samples=1)).reshape(50,)\n",
    "nbr_loads = poisson(2).ppf(lhs(50, samples=1)).reshape(50,) # most probable nbr_loads is 2\n",
    "\n",
    "nx = 100\n",
    "ny = 100\n",
    "window = int(nx/2)\n",
    "possible_fixed_nodes = np.arange(0, ny+1).tolist()+ [m*(ny +1)-1 for m in range(2,nx+1)] + np.sort(np.arange((ny+1)*nx, (nx+1)*(ny+1))).tolist()[::-1] + np.sort(np.asarray([m*(ny+1) for m in range(1,nx)])).tolist()[::-1]  \n",
    "\n",
    "total_nbr_samples = 10\n",
    "params_list = []\n",
    "for cnt in range((total_nbr_samples)):\n",
    "    volfraction = random.choice(volfractions)\n",
    "    rmin = random.choice(rmins)\n",
    "    filt = random.choice(filters)\n",
    "    the_nbr_loads = random.choice(nbr_loads)\n",
    "    teta = random.sample(tetas.tolist(), int(the_nbr_loads))\n",
    "#     for i in  range(0, (ny +1 )*nx - window +1, int(nx/2)):\n",
    "    params_list.append( {'nx':nx, 'ny':ny, 'volfraction':volfraction, 'rmin':rmin, 'filt':filt, 'nbr_loads':the_nbr_loads, 'teta':teta, 'window': window} )\n"
   ]
  },
  {
   "cell_type": "code",
   "execution_count": 209,
   "metadata": {},
   "outputs": [
    {
     "data": {
      "text/plain": [
       "10"
      ]
     },
     "execution_count": 209,
     "metadata": {},
     "output_type": "execute_result"
    }
   ],
   "source": [
    "len(params_list)"
   ]
  },
  {
   "cell_type": "code",
   "execution_count": 210,
   "metadata": {},
   "outputs": [
    {
     "data": {
      "text/plain": [
       "[{'nx': 100,\n",
       "  'ny': 100,\n",
       "  'volfraction': 0.09236602107038935,\n",
       "  'rmin': 6.845600671447828,\n",
       "  'filt': 1.0,\n",
       "  'nbr_loads': 3.0,\n",
       "  'teta': [262.32261399415717, 323.5367983535159, 133.64011665028352],\n",
       "  'window': 50},\n",
       " {'nx': 100,\n",
       "  'ny': 100,\n",
       "  'volfraction': 0.31776779669536037,\n",
       "  'rmin': 4.695351101132511,\n",
       "  'filt': 0.0,\n",
       "  'nbr_loads': 2.0,\n",
       "  'teta': [107.35306751645678, 323.211253828342],\n",
       "  'window': 50},\n",
       " {'nx': 100,\n",
       "  'ny': 100,\n",
       "  'volfraction': 0.193798424833599,\n",
       "  'rmin': 7.015067054480147,\n",
       "  'filt': 1.0,\n",
       "  'nbr_loads': 1.0,\n",
       "  'teta': [323.211253828342],\n",
       "  'window': 50},\n",
       " {'nx': 100,\n",
       "  'ny': 100,\n",
       "  'volfraction': 0.28088681421676975,\n",
       "  'rmin': 2.1232638480850983,\n",
       "  'filt': 0.0,\n",
       "  'nbr_loads': 1.0,\n",
       "  'teta': [344.6299318976133],\n",
       "  'window': 50},\n",
       " {'nx': 100,\n",
       "  'ny': 100,\n",
       "  'volfraction': 0.298781079669805,\n",
       "  'rmin': 2.762828445359554,\n",
       "  'filt': 1.0,\n",
       "  'nbr_loads': 3.0,\n",
       "  'teta': [219.08775158509818, 60.580608304996204, 69.6084793049712],\n",
       "  'window': 50},\n",
       " {'nx': 100,\n",
       "  'ny': 100,\n",
       "  'volfraction': 0.2184244010376833,\n",
       "  'rmin': 2.757111368465799,\n",
       "  'filt': 0.0,\n",
       "  'nbr_loads': 1.0,\n",
       "  'teta': [133.64011665028352],\n",
       "  'window': 50},\n",
       " {'nx': 100,\n",
       "  'ny': 100,\n",
       "  'volfraction': 0.12286410999225827,\n",
       "  'rmin': 2.751859226385287,\n",
       "  'filt': 0.0,\n",
       "  'nbr_loads': 1.0,\n",
       "  'teta': [86.1524045695373],\n",
       "  'window': 50},\n",
       " {'nx': 100,\n",
       "  'ny': 100,\n",
       "  'volfraction': 0.34387366271166125,\n",
       "  'rmin': 3.6982874843965337,\n",
       "  'filt': 0.0,\n",
       "  'nbr_loads': 1.0,\n",
       "  'teta': [231.64393379080158],\n",
       "  'window': 50},\n",
       " {'nx': 100,\n",
       "  'ny': 100,\n",
       "  'volfraction': 0.3983279158022327,\n",
       "  'rmin': 2.301283737132043,\n",
       "  'filt': 0.0,\n",
       "  'nbr_loads': 0.0,\n",
       "  'teta': [],\n",
       "  'window': 50},\n",
       " {'nx': 100,\n",
       "  'ny': 100,\n",
       "  'volfraction': 0.298781079669805,\n",
       "  'rmin': 1.2745841577327974,\n",
       "  'filt': 1.0,\n",
       "  'nbr_loads': 0.0,\n",
       "  'teta': [],\n",
       "  'window': 50}]"
      ]
     },
     "execution_count": 210,
     "metadata": {},
     "output_type": "execute_result"
    }
   ],
   "source": [
    "(params_list)"
   ]
  },
  {
   "cell_type": "code",
   "execution_count": 43,
   "metadata": {},
   "outputs": [],
   "source": [
    "import numba\n",
    "from numba import float32, float64, int16"
   ]
  },
  {
   "cell_type": "code",
   "execution_count": 39,
   "metadata": {},
   "outputs": [
    {
     "data": {
      "text/plain": [
       "array([1.])"
      ]
     },
     "execution_count": 39,
     "metadata": {},
     "output_type": "execute_result"
    }
   ],
   "source": [
    "# numba.float64[:]\n",
    "# np.array(dtype='f')\n",
    "np.empty(1)"
   ]
  },
  {
   "cell_type": "code",
   "execution_count": 46,
   "metadata": {},
   "outputs": [
    {
     "ename": "TypeError",
     "evalue": "data type not understood",
     "output_type": "error",
     "traceback": [
      "\u001b[1;31m---------------------------------------------------------------------------\u001b[0m",
      "\u001b[1;31mTypeError\u001b[0m                                 Traceback (most recent call last)",
      "\u001b[1;32m<ipython-input-46-14a7a48c77bf>\u001b[0m in \u001b[0;36m<module>\u001b[1;34m\u001b[0m\n\u001b[0;32m      5\u001b[0m                         \u001b[1;33m(\u001b[0m\u001b[1;34m'Young_modulus_Emin'\u001b[0m\u001b[1;33m,\u001b[0m \u001b[0mnp\u001b[0m\u001b[1;33m.\u001b[0m\u001b[0mfloat32\u001b[0m\u001b[1;33m)\u001b[0m\u001b[1;33m,\u001b[0m \u001b[1;33m(\u001b[0m\u001b[1;34m'Young_modulus_Emax'\u001b[0m\u001b[1;33m,\u001b[0m \u001b[0mnp\u001b[0m\u001b[1;33m.\u001b[0m\u001b[0mfloat32\u001b[0m\u001b[1;33m)\u001b[0m\u001b[1;33m,\u001b[0m\u001b[1;33m\u001b[0m\u001b[1;33m\u001b[0m\u001b[0m\n\u001b[0;32m      6\u001b[0m \u001b[1;33m\u001b[0m\u001b[0m\n\u001b[1;32m----> 7\u001b[1;33m                         \u001b[1;33m(\u001b[0m\u001b[1;34m'load_nodes'\u001b[0m\u001b[1;33m,\u001b[0m\u001b[0mint16\u001b[0m\u001b[1;33m[\u001b[0m\u001b[1;33m:\u001b[0m\u001b[1;33m]\u001b[0m\u001b[1;33m)\u001b[0m\u001b[1;33m,\u001b[0m \u001b[1;33m(\u001b[0m\u001b[1;34m'load_orientations'\u001b[0m\u001b[1;33m,\u001b[0m \u001b[0mfloat64\u001b[0m\u001b[1;33m[\u001b[0m\u001b[1;33m:\u001b[0m\u001b[1;33m]\u001b[0m\u001b[1;33m)\u001b[0m\u001b[1;33m,\u001b[0m\u001b[1;33m\u001b[0m\u001b[1;33m\u001b[0m\u001b[0m\n\u001b[0m\u001b[0;32m      8\u001b[0m \u001b[1;31m#                         ('load_intensities',numba.float64[:]), ('fixed_nodes',numba.int16[:]),\u001b[0m\u001b[1;33m\u001b[0m\u001b[1;33m\u001b[0m\u001b[1;33m\u001b[0m\u001b[0m\n\u001b[0;32m      9\u001b[0m \u001b[1;31m#                         ('final_objective_function_value', np.float64),\u001b[0m\u001b[1;33m\u001b[0m\u001b[1;33m\u001b[0m\u001b[1;33m\u001b[0m\u001b[0m\n",
      "\u001b[1;31mTypeError\u001b[0m: data type not understood"
     ]
    }
   ],
   "source": [
    "struct_dtype = np.dtype([('nx', np.int16), ('ny', np.int16), ('volume_fraction', np.float64),\n",
    "                        ('filter_rmin',np.float64), ('initial_penalty',np.float64),\n",
    "                        ('med_penalty',np.float64), ('mesh_independency_filter', np.int16),\n",
    "                        ('poisson_ratio_nu', np.float32), ('number_of_nodes', np.int16),\n",
    "                        ('Young_modulus_Emin', np.float32), ('Young_modulus_Emax', np.float32),\n",
    "                         \n",
    "                        ('load_nodes',int16[:]), ('load_orientations', float64[:]),\n",
    "#                         ('load_intensities',numba.float64[:]), ('fixed_nodes',numba.int16[:]),\n",
    "#                         ('final_objective_function_value', np.float64), \n",
    "#                          ('all_objective_function_values',numba.float64[:]),\n",
    "#                          ('design_reference',np.int16 )\n",
    "                        ])"
   ]
  },
  {
   "cell_type": "code",
   "execution_count": 25,
   "metadata": {},
   "outputs": [],
   "source": [
    "ty = numba.from_dtype(struct_dtype)"
   ]
  },
  {
   "cell_type": "code",
   "execution_count": 26,
   "metadata": {},
   "outputs": [
    {
     "data": {
      "text/plain": [
       "Record([('row', '<f8'), ('col', '<f8')])"
      ]
     },
     "execution_count": 26,
     "metadata": {},
     "output_type": "execute_result"
    }
   ],
   "source": [
    "ty"
   ]
  },
  {
   "cell_type": "code",
   "execution_count": 27,
   "metadata": {},
   "outputs": [
    {
     "data": {
      "text/plain": [
       "'Thequickbrownfox'"
      ]
     },
     "execution_count": 27,
     "metadata": {},
     "output_type": "execute_result"
    }
   ],
   "source": [
    "import re\n",
    "re.sub(' +', '', 'The     quick brown    fox')"
   ]
  },
  {
   "cell_type": "code",
   "execution_count": 3,
   "metadata": {},
   "outputs": [],
   "source": [
    "import json\n",
    "with open('test_text_file.txt', 'a') as file:\n",
    "    json.dump(data, 'test_text_file.txt')\n",
    "    file.writelines('\\nhello test 2')"
   ]
  },
  {
   "cell_type": "code",
   "execution_count": 18,
   "metadata": {},
   "outputs": [
    {
     "name": "stdout",
     "output_type": "stream",
     "text": [
      "0\n"
     ]
    }
   ],
   "source": [
    "import json\n",
    "data = {'nx':3, 'ny':3, 'volume_fraction':0.4, 'filter_rmin': 1.2, \n",
    "                                        'initial_penalty':3.0, 'med_penalty': 3.0, \n",
    "                                        'mesh_independency_filter':1,'poisson_ratio_nu':0.3, \n",
    "                                        'number_of_nodes':16, 'Young_modulus_Emin':1e-10, \n",
    "                                        'Young_modulus_Emax':3.0, 'load_nodes':[1], \n",
    "                                        'load_orientations':[90], 'load_intensities':[1],\n",
    "                                        'fixed_nodes':[0,1,2,3], 'type_fixed_nodes':'left_edge_nodes', \n",
    "                                        'final_objective_function_value':30, \n",
    "                                        'all_objective_function_values':[100,60,30], \n",
    "                                        'design_reference':'123456789', 'time_for_convergence': 3.2158}\n",
    "for i in range(2):\n",
    "    try:\n",
    "        with open('test.json') as f:\n",
    "            data_ = json.load(f)\n",
    "\n",
    "        data_.append(data)\n",
    "    except:\n",
    "        print(i)\n",
    "        data_= [data]\n",
    "\n",
    "    with open('test.json', 'w') as f:\n",
    "        json.dump(data_, f)"
   ]
  },
  {
   "cell_type": "code",
   "execution_count": 17,
   "metadata": {},
   "outputs": [
    {
     "data": {
      "text/plain": [
       "'2020-01-26'"
      ]
     },
     "execution_count": 17,
     "metadata": {},
     "output_type": "execute_result"
    }
   ],
   "source": [
    "import datetime\n",
    "str(datetime.datetime.now())[0:10]"
   ]
  },
  {
   "cell_type": "code",
   "execution_count": 21,
   "metadata": {},
   "outputs": [
    {
     "data": {
      "text/plain": [
       "[1.0, 1.0, 1.0]"
      ]
     },
     "execution_count": 21,
     "metadata": {},
     "output_type": "execute_result"
    }
   ],
   "source": [
    "import numpy as np\n",
    "np.ones(3).tolist()"
   ]
  },
  {
   "cell_type": "code",
   "execution_count": 97,
   "metadata": {},
   "outputs": [
    {
     "data": {
      "text/plain": [
       "'C:\\\\Users\\\\walmasri\\\\Documents\\\\Thèse Cifre\\\\Optimisation_Topologique\\\\TOP_OPT'"
      ]
     },
     "execution_count": 97,
     "metadata": {},
     "output_type": "execute_result"
    }
   ],
   "source": [
    "pwd"
   ]
  },
  {
   "cell_type": "code",
   "execution_count": 98,
   "metadata": {},
   "outputs": [],
   "source": []
  },
  {
   "cell_type": "code",
   "execution_count": 101,
   "metadata": {},
   "outputs": [
    {
     "data": {
      "text/plain": [
       "10.883333333333333"
      ]
     },
     "execution_count": 101,
     "metadata": {},
     "output_type": "execute_result"
    }
   ],
   "source": [
    "653/60"
   ]
  },
  {
   "cell_type": "code",
   "execution_count": 103,
   "metadata": {},
   "outputs": [],
   "source": [
    "import numpy as np\n",
    "import random\n",
    "import datetime\n",
    "import os\n",
    "import json\n",
    "\n",
    "from scipy.stats.distributions import norm, uniform, bernoulli, poisson\n",
    "from pyDOE import *\n",
    "volfractions = norm(loc=0.3, scale=0.1).ppf(lhs(50, samples=1)).reshape(50,)  # this gives the x values having y-values equal to volume_fraction\n",
    "rmins_1 = uniform(1.1, 2).ppf(lhs(50, samples=1)).reshape(50,) #  0.1 < volume fraction < 0.4 => 1.1 < Rmin < 3 ; Rmin suit la loi uniforme (1.1, 3 )\n",
    "rmins_2 = uniform(2, 3).ppf(lhs(50, samples=1)).reshape(50,) #  0.4 < volume fraction < 0.6 => 2 < Rmin < 3 ; Rmin suit la loi uniforme (2, 3 )\n",
    "rmins_3 = uniform(3, 4).ppf(lhs(50, samples=1)).reshape(50,)\n",
    "filters = bernoulli(0.5).ppf(lhs(50, samples=1)).reshape(50,) # either present (1) or absent (0)\n",
    "tetas = uniform(0, 60).ppf(lhs(10, samples=1)).reshape(10,).tolist()+  uniform(60, 130).ppf(lhs(20, samples=1)).reshape(20,).tolist() + uniform(140, 270).ppf(lhs(20, samples=1)).reshape(20,).tolist() \n",
    "nbr_loads = poisson(2).ppf(lhs(50, samples=1)).reshape(50,) # most probable nbr_loads is 2\n",
    "windows = poisson(50).ppf(lhs(50, samples=1)).reshape(50,)\n",
    "nx = 100\n",
    "ny = 100\n",
    "window = int(nx/2) #\n",
    "possible_fixed_nodes = np.arange(0, ny+1).tolist()+ [m*(ny +1)-1 for m in range(2,nx+1)] + np.sort(np.arange((ny+1)*nx, (nx+1)*(ny+1))).tolist()[::-1] + np.sort(np.asarray([m*(ny+1) for m in range(1,nx)])).tolist()[::-1]  \n",
    "\n",
    "\n",
    "total_nbr_samples = 100\n",
    "params_list = []\n",
    "for cnt in range(total_nbr_samples):\n",
    "    volfraction = random.choice(volfractions)\n",
    "    rmin = 1.2\n",
    "    if volfraction<0.4:\n",
    "        rmin = random.choice(rmins_1)\n",
    "    elif volfraction>=0.4 and volfraction<0.6:\n",
    "        rmin = random.choice(rmins_2)\n",
    "    else:\n",
    "        rmin = random.choice(rmins_3)\n",
    "    filt = random.choice(filters)\n",
    "    the_nbr_loads = int(random.choice(nbr_loads))\n",
    "    window = int(random.choice(windows))\n",
    "    if the_nbr_loads >0:\n",
    "        teta = random.sample(tetas, the_nbr_loads)\n",
    "        for i in  range(0, len(possible_fixed_nodes), int(nx/2)):\n",
    "            # fixed nodes\n",
    "            fixed_nodes = possible_fixed_nodes[i:i+window]\n",
    "            if(len(fixed_nodes) >1):\n",
    "                # opposite side nodes (load nodes)\n",
    "                # [opposite_side_nodes[0],opposite_side_nodes[params['window']],opposite_side_nodes[-1] ] here we take 3 opposite side nodes equidistant: \n",
    "                # the 1st node is the edge node, the 2nd at distance = window from the 1st chosen node, \n",
    "                # the 3rd node at distance = window from the 2nd chosen node and 2*window from the 1st chosen node \n",
    "                opposite_side_nodes = []\n",
    "                element = fixed_nodes[(len(fixed_nodes) - 1 )]\n",
    "                starting_index = (possible_fixed_nodes.index(element)+nx)%len(possible_fixed_nodes)\n",
    "                ending_index = (possible_fixed_nodes.index(element)+2*nx)%len(possible_fixed_nodes)+1\n",
    "                opposite_side_nodes = []\n",
    "                if ending_index<starting_index:\n",
    "                    opposite_side_nodes = possible_fixed_nodes[starting_index: ] + possible_fixed_nodes[0:ending_index]\n",
    "                else:\n",
    "                    opposite_side_nodes = possible_fixed_nodes[starting_index: ending_index]\n",
    "\n",
    "                opposite_side_nodes = random.sample(opposite_side_nodes, int(the_nbr_loads))\n",
    "                params_list.append( {'nx':nx, 'ny':ny, 'volfraction':volfraction, 'rmin':rmin, 'filt':filt, 'fixed_nodes':fixed_nodes,'nbr_loads':the_nbr_loads, 'load_nodes':opposite_side_nodes, 'teta':teta, 'window': window} )\n"
   ]
  },
  {
   "cell_type": "code",
   "execution_count": 104,
   "metadata": {},
   "outputs": [
    {
     "data": {
      "text/plain": [
       "648"
      ]
     },
     "execution_count": 104,
     "metadata": {},
     "output_type": "execute_result"
    }
   ],
   "source": [
    "len(params_list)"
   ]
  },
  {
   "cell_type": "code",
   "execution_count": 115,
   "metadata": {},
   "outputs": [],
   "source": [
    "kernel = np.array([[0,1,2], [2,2,0], [0,1,2]])\n",
    "in_ = np.array([[3,2,1], [0,1,3], [1,2,2]])"
   ]
  },
  {
   "cell_type": "code",
   "execution_count": 116,
   "metadata": {},
   "outputs": [
    {
     "data": {
      "text/plain": [
       "array([[0, 1, 2],\n",
       "       [2, 2, 0],\n",
       "       [0, 1, 2]])"
      ]
     },
     "execution_count": 116,
     "metadata": {},
     "output_type": "execute_result"
    }
   ],
   "source": [
    "kernel"
   ]
  },
  {
   "cell_type": "code",
   "execution_count": 117,
   "metadata": {},
   "outputs": [
    {
     "data": {
      "text/plain": [
       "array([[3, 2, 1],\n",
       "       [0, 1, 3],\n",
       "       [1, 2, 2]])"
      ]
     },
     "execution_count": 117,
     "metadata": {},
     "output_type": "execute_result"
    }
   ],
   "source": [
    "in_"
   ]
  },
  {
   "cell_type": "code",
   "execution_count": 118,
   "metadata": {},
   "outputs": [
    {
     "data": {
      "text/plain": [
       "array([[0, 2, 2],\n",
       "       [0, 2, 0],\n",
       "       [0, 2, 4]])"
      ]
     },
     "execution_count": 118,
     "metadata": {},
     "output_type": "execute_result"
    }
   ],
   "source": [
    "np.multiply(kernel, in_) "
   ]
  },
  {
   "cell_type": "code",
   "execution_count": 121,
   "metadata": {},
   "outputs": [
    {
     "data": {
      "text/plain": [
       "1.6666666666666667"
      ]
     },
     "execution_count": 121,
     "metadata": {},
     "output_type": "execute_result"
    }
   ],
   "source": [
    "15/9"
   ]
  },
  {
   "cell_type": "code",
   "execution_count": 13,
   "metadata": {},
   "outputs": [
    {
     "name": "stdout",
     "output_type": "stream",
     "text": [
      "C:\\Users\\walmasri\\Documents\\Thèse Cifre\\Optimisation_Topologique\\TOP_OPT\\sample_data\\parameters\n"
     ]
    }
   ],
   "source": [
    "cd sample_data/parameters/"
   ]
  },
  {
   "cell_type": "code",
   "execution_count": 14,
   "metadata": {},
   "outputs": [],
   "source": [
    "import json\n",
    "with open('./sampler_design_generation_2020-01-30.json') as f:\n",
    "    data_1 = json.load(f)\n",
    "with open('./sampler_design_generation_2020-01-31.json') as f:\n",
    "    data_2 = json.load(f)"
   ]
  },
  {
   "cell_type": "code",
   "execution_count": 69,
   "metadata": {},
   "outputs": [],
   "source": [
    "import json\n",
    "with open('./parameters/sampler_design_generation_2020-02-03.json') as f:\n",
    "    data_3 = json.load(f)"
   ]
  },
  {
   "cell_type": "code",
   "execution_count": 70,
   "metadata": {},
   "outputs": [
    {
     "data": {
      "text/plain": [
       "8"
      ]
     },
     "execution_count": 70,
     "metadata": {},
     "output_type": "execute_result"
    }
   ],
   "source": [
    "len(data_3)"
   ]
  },
  {
   "cell_type": "code",
   "execution_count": 71,
   "metadata": {},
   "outputs": [
    {
     "data": {
      "text/plain": [
       "343"
      ]
     },
     "execution_count": 71,
     "metadata": {},
     "output_type": "execute_result"
    }
   ],
   "source": [
    "len(data_2)+len(data_1)"
   ]
  },
  {
   "cell_type": "code",
   "execution_count": 72,
   "metadata": {},
   "outputs": [
    {
     "data": {
      "text/plain": [
       "351"
      ]
     },
     "execution_count": 72,
     "metadata": {},
     "output_type": "execute_result"
    }
   ],
   "source": [
    "data_ = data_2 + data_1 + data_3\n",
    "len(data_)"
   ]
  },
  {
   "cell_type": "code",
   "execution_count": 73,
   "metadata": {},
   "outputs": [],
   "source": [
    "import pandas as pd\n",
    "df = pd.DataFrame(data_)\n",
    "df.to_excel('generation_2020_01_30_and_31_and_02_03.xlsx', 'data')"
   ]
  },
  {
   "cell_type": "code",
   "execution_count": 20,
   "metadata": {},
   "outputs": [
    {
     "data": {
      "text/plain": [
       "343"
      ]
     },
     "execution_count": 20,
     "metadata": {},
     "output_type": "execute_result"
    }
   ],
   "source": [
    "len(set(df.design_reference))"
   ]
  },
  {
   "cell_type": "code",
   "execution_count": 21,
   "metadata": {},
   "outputs": [
    {
     "name": "stdout",
     "output_type": "stream",
     "text": [
      "C:\\Users\\walmasri\\Documents\\Thèse Cifre\\Optimisation_Topologique\\TOP_OPT\\sample_data\n"
     ]
    }
   ],
   "source": [
    "cd ../"
   ]
  },
  {
   "cell_type": "code",
   "execution_count": 22,
   "metadata": {},
   "outputs": [
    {
     "name": "stdout",
     "output_type": "stream",
     "text": [
      "C:\\Users\\walmasri\\Documents\\Thèse Cifre\\Optimisation_Topologique\\TOP_OPT\\sample_data\\sample_data\n"
     ]
    }
   ],
   "source": [
    "cd sample_data/"
   ]
  },
  {
   "cell_type": "code",
   "execution_count": 23,
   "metadata": {},
   "outputs": [],
   "source": [
    "import os\n",
    "design_refs = os.listdir('./')"
   ]
  },
  {
   "cell_type": "code",
   "execution_count": 36,
   "metadata": {},
   "outputs": [
    {
     "data": {
      "text/plain": [
       "768"
      ]
     },
     "execution_count": 36,
     "metadata": {},
     "output_type": "execute_result"
    }
   ],
   "source": [
    "design_refs = [d.replace('.png','').replace('design_', '') for d in design_refs]\n",
    "len(design_refs)"
   ]
  },
  {
   "cell_type": "code",
   "execution_count": 39,
   "metadata": {},
   "outputs": [],
   "source": [
    "left_designs = set(design_refs)-set(df.design_reference)"
   ]
  },
  {
   "cell_type": "code",
   "execution_count": 40,
   "metadata": {},
   "outputs": [
    {
     "data": {
      "text/plain": [
       "425"
      ]
     },
     "execution_count": 40,
     "metadata": {},
     "output_type": "execute_result"
    }
   ],
   "source": [
    "len(left_designs)"
   ]
  },
  {
   "cell_type": "code",
   "execution_count": 46,
   "metadata": {},
   "outputs": [
    {
     "data": {
      "text/plain": [
       "Index(['nx', 'ny', 'volume_fraction', 'filter_rmin', 'initial_penalty',\n",
       "       'med_penalty', 'mesh_independency_filter', 'poisson_ratio_nu',\n",
       "       'number_of_nodes', 'Young_modulus_Emin', 'Young_modulus_Emax',\n",
       "       'load_nodes', 'load_orientations', 'load_intensities', 'fixed_nodes',\n",
       "       'type_fixed_nodes', 'final_objective_function_value',\n",
       "       'all_objective_function_values', 'design_reference',\n",
       "       'time_for_convergence'],\n",
       "      dtype='object')"
      ]
     },
     "execution_count": 46,
     "metadata": {},
     "output_type": "execute_result"
    }
   ],
   "source": [
    "df.columns"
   ]
  },
  {
   "cell_type": "code",
   "execution_count": 57,
   "metadata": {},
   "outputs": [
    {
     "data": {
      "text/plain": [
       "<matplotlib.axes._subplots.AxesSubplot at 0x13bc0354d30>"
      ]
     },
     "execution_count": 57,
     "metadata": {},
     "output_type": "execute_result"
    },
    {
     "data": {
      "image/png": "[encoded data removed]",
      "text/plain": [
       "<Figure size 432x288 with 1 Axes>"
      ]
     },
     "metadata": {
      "needs_background": "light"
     },
     "output_type": "display_data"
    }
   ],
   "source": [
    "import matplotlib.pyplot as plt\n",
    "import seaborn as sns\n",
    "sns.distplot(df.filter_rmin, hist=True, kde=False, \n",
    "             bins=15, color = 'blue',\n",
    "             hist_kws={'edgecolor':'black'})"
   ]
  },
  {
   "cell_type": "code",
   "execution_count": 53,
   "metadata": {},
   "outputs": [
    {
     "data": {
      "text/plain": [
       "1.1439721982009186"
      ]
     },
     "execution_count": 53,
     "metadata": {},
     "output_type": "execute_result"
    }
   ],
   "source": [
    "min(df.filter_rmin)"
   ]
  },
  {
   "cell_type": "code",
   "execution_count": 58,
   "metadata": {},
   "outputs": [
    {
     "data": {
      "text/plain": [
       "2.4"
      ]
     },
     "execution_count": 58,
     "metadata": {},
     "output_type": "execute_result"
    }
   ],
   "source": [
    "4.8/2"
   ]
  },
  {
   "cell_type": "code",
   "execution_count": 59,
   "metadata": {},
   "outputs": [
    {
     "data": {
      "text/html": [
       "<div>\n",
       "<style scoped>\n",
       "    .dataframe tbody tr th:only-of-type {\n",
       "        vertical-align: middle;\n",
       "    }\n",
       "\n",
       "    .dataframe tbody tr th {\n",
       "        vertical-align: top;\n",
       "    }\n",
       "\n",
       "    .dataframe thead th {\n",
       "        text-align: right;\n",
       "    }\n",
       "</style>\n",
       "<table border=\"1\" class=\"dataframe\">\n",
       "  <thead>\n",
       "    <tr style=\"text-align: right;\">\n",
       "      <th></th>\n",
       "      <th>filter_rmin</th>\n",
       "      <th>mesh_independency_filter</th>\n",
       "      <th>design_reference</th>\n",
       "      <th>load_orientations</th>\n",
       "      <th>load_nodes</th>\n",
       "    </tr>\n",
       "  </thead>\n",
       "  <tbody>\n",
       "    <tr>\n",
       "      <td>105</td>\n",
       "      <td>1.869867</td>\n",
       "      <td>0.0</td>\n",
       "      <td>2020-01-31 13_26_49_970__1</td>\n",
       "      <td>[389.61340180670584, 255.54109300093057, 192.5...</td>\n",
       "      <td>[10147, 9696, 9595, 10123, 10112]</td>\n",
       "    </tr>\n",
       "    <tr>\n",
       "      <td>106</td>\n",
       "      <td>2.026167</td>\n",
       "      <td>1.0</td>\n",
       "      <td>2020-01-31 13_29_17_949__1</td>\n",
       "      <td>[150.83297533087077, 383.6261959759498, 67.032...</td>\n",
       "      <td>[70, 61, 62, 1110, 2019]</td>\n",
       "    </tr>\n",
       "    <tr>\n",
       "      <td>107</td>\n",
       "      <td>3.772352</td>\n",
       "      <td>0.0</td>\n",
       "      <td>2020-01-31 13_29_26_242__1</td>\n",
       "      <td>[82.90636087614764]</td>\n",
       "      <td>[10150]</td>\n",
       "    </tr>\n",
       "    <tr>\n",
       "      <td>108</td>\n",
       "      <td>1.824452</td>\n",
       "      <td>0.0</td>\n",
       "      <td>2020-01-31 13_31_11_130__1</td>\n",
       "      <td>[144.63201033761837]</td>\n",
       "      <td>[9595]</td>\n",
       "    </tr>\n",
       "    <tr>\n",
       "      <td>109</td>\n",
       "      <td>2.049866</td>\n",
       "      <td>0.0</td>\n",
       "      <td>2020-01-31 13_34_32_250__1</td>\n",
       "      <td>[179.5130041735012, 152.57902943558665]</td>\n",
       "      <td>[201, 6160]</td>\n",
       "    </tr>\n",
       "    <tr>\n",
       "      <td>110</td>\n",
       "      <td>2.189321</td>\n",
       "      <td>1.0</td>\n",
       "      <td>2020-01-31 13_37_23_721__1</td>\n",
       "      <td>[279.8105553300908, 76.65994211811908]</td>\n",
       "      <td>[2727, 2424]</td>\n",
       "    </tr>\n",
       "    <tr>\n",
       "      <td>111</td>\n",
       "      <td>3.772352</td>\n",
       "      <td>0.0</td>\n",
       "      <td>2020-01-31 13_40_21_764__1</td>\n",
       "      <td>[82.90636087614764]</td>\n",
       "      <td>[10142]</td>\n",
       "    </tr>\n",
       "    <tr>\n",
       "      <td>112</td>\n",
       "      <td>1.824452</td>\n",
       "      <td>0.0</td>\n",
       "      <td>2020-01-31 13_42_18_755__1</td>\n",
       "      <td>[144.63201033761837]</td>\n",
       "      <td>[808]</td>\n",
       "    </tr>\n",
       "    <tr>\n",
       "      <td>113</td>\n",
       "      <td>3.772352</td>\n",
       "      <td>0.0</td>\n",
       "      <td>2020-01-31 13_42_59_783__1</td>\n",
       "      <td>[82.90636087614764]</td>\n",
       "      <td>[8282]</td>\n",
       "    </tr>\n",
       "    <tr>\n",
       "      <td>114</td>\n",
       "      <td>2.881965</td>\n",
       "      <td>1.0</td>\n",
       "      <td>2020-01-31 13_45_19_424__1</td>\n",
       "      <td>[380.7885767615295, 168.0061904453832]</td>\n",
       "      <td>[9292, 2222]</td>\n",
       "    </tr>\n",
       "    <tr>\n",
       "      <td>115</td>\n",
       "      <td>3.042873</td>\n",
       "      <td>1.0</td>\n",
       "      <td>2020-01-31 13_45_53_342__1</td>\n",
       "      <td>[173.67163494351934, 32.95719275540446, 99.279...</td>\n",
       "      <td>[5655, 4847, 3837]</td>\n",
       "    </tr>\n",
       "    <tr>\n",
       "      <td>116</td>\n",
       "      <td>2.669266</td>\n",
       "      <td>1.0</td>\n",
       "      <td>2020-01-31 13_47_30_732__1</td>\n",
       "      <td>[162.27499486144276, 304.9024474216082]</td>\n",
       "      <td>[1211, 4342]</td>\n",
       "    </tr>\n",
       "    <tr>\n",
       "      <td>117</td>\n",
       "      <td>3.772352</td>\n",
       "      <td>0.0</td>\n",
       "      <td>2020-01-31 13_54_14_962__1</td>\n",
       "      <td>[82.90636087614764]</td>\n",
       "      <td>[23]</td>\n",
       "    </tr>\n",
       "    <tr>\n",
       "      <td>118</td>\n",
       "      <td>3.132716</td>\n",
       "      <td>1.0</td>\n",
       "      <td>2020-01-31 13_55_23_060__1</td>\n",
       "      <td>[144.63201033761837, 178.78914767995911, 173.6...</td>\n",
       "      <td>[9595, 10107, 10126]</td>\n",
       "    </tr>\n",
       "    <tr>\n",
       "      <td>119</td>\n",
       "      <td>2.189321</td>\n",
       "      <td>1.0</td>\n",
       "      <td>2020-01-31 13_59_06_479__1</td>\n",
       "      <td>[279.8105553300908, 76.65994211811908]</td>\n",
       "      <td>[59, 202]</td>\n",
       "    </tr>\n",
       "    <tr>\n",
       "      <td>120</td>\n",
       "      <td>2.894109</td>\n",
       "      <td>1.0</td>\n",
       "      <td>2020-01-31 14_03_52_614__1</td>\n",
       "      <td>[50.56464079586272, 82.90636087614764]</td>\n",
       "      <td>[7372, 9695]</td>\n",
       "    </tr>\n",
       "    <tr>\n",
       "      <td>121</td>\n",
       "      <td>3.772352</td>\n",
       "      <td>0.0</td>\n",
       "      <td>2020-01-31 14_05_39_736__1</td>\n",
       "      <td>[82.90636087614764]</td>\n",
       "      <td>[34]</td>\n",
       "    </tr>\n",
       "    <tr>\n",
       "      <td>122</td>\n",
       "      <td>2.881965</td>\n",
       "      <td>1.0</td>\n",
       "      <td>2020-01-31 14_07_23_150__1</td>\n",
       "      <td>[380.7885767615295, 168.0061904453832]</td>\n",
       "      <td>[25, 1616]</td>\n",
       "    </tr>\n",
       "    <tr>\n",
       "      <td>123</td>\n",
       "      <td>4.995789</td>\n",
       "      <td>0.0</td>\n",
       "      <td>2020-01-31 14_09_11_432__1</td>\n",
       "      <td>[31.592721625416228, 383.6261959759498]</td>\n",
       "      <td>[2525, 606]</td>\n",
       "    </tr>\n",
       "    <tr>\n",
       "      <td>124</td>\n",
       "      <td>3.772352</td>\n",
       "      <td>0.0</td>\n",
       "      <td>2020-01-31 14_17_11_161__1</td>\n",
       "      <td>[82.90636087614764]</td>\n",
       "      <td>[85]</td>\n",
       "    </tr>\n",
       "    <tr>\n",
       "      <td>125</td>\n",
       "      <td>3.772352</td>\n",
       "      <td>0.0</td>\n",
       "      <td>2020-01-31 14_18_49_620__1</td>\n",
       "      <td>[82.90636087614764]</td>\n",
       "      <td>[1110]</td>\n",
       "    </tr>\n",
       "    <tr>\n",
       "      <td>126</td>\n",
       "      <td>2.011414</td>\n",
       "      <td>0.0</td>\n",
       "      <td>2020-01-31 14_19_15_142__1</td>\n",
       "      <td>[383.6261959759498, 178.78914767995911, 396.98...</td>\n",
       "      <td>[7069, 10154, 5655]</td>\n",
       "    </tr>\n",
       "    <tr>\n",
       "      <td>127</td>\n",
       "      <td>1.623951</td>\n",
       "      <td>0.0</td>\n",
       "      <td>2020-01-31 14_20_02_246__1</td>\n",
       "      <td>[76.65994211811908, 380.7885767615295, 68.7613...</td>\n",
       "      <td>[5554, 5958, 10180, 8079]</td>\n",
       "    </tr>\n",
       "    <tr>\n",
       "      <td>128</td>\n",
       "      <td>2.189321</td>\n",
       "      <td>1.0</td>\n",
       "      <td>2020-01-31 14_21_56_964__1</td>\n",
       "      <td>[279.8105553300908, 76.65994211811908]</td>\n",
       "      <td>[66, 88]</td>\n",
       "    </tr>\n",
       "    <tr>\n",
       "      <td>129</td>\n",
       "      <td>2.026167</td>\n",
       "      <td>1.0</td>\n",
       "      <td>2020-01-31 14_22_23_056__1</td>\n",
       "      <td>[150.83297533087077, 383.6261959759498, 67.032...</td>\n",
       "      <td>[8786, 1413, 7574, 9190, 5958]</td>\n",
       "    </tr>\n",
       "  </tbody>\n",
       "</table>\n",
       "</div>"
      ],
      "text/plain": [
       "     filter_rmin  mesh_independency_filter            design_reference  \\\n",
       "105     1.869867                       0.0  2020-01-31 13_26_49_970__1   \n",
       "106     2.026167                       1.0  2020-01-31 13_29_17_949__1   \n",
       "107     3.772352                       0.0  2020-01-31 13_29_26_242__1   \n",
       "108     1.824452                       0.0  2020-01-31 13_31_11_130__1   \n",
       "109     2.049866                       0.0  2020-01-31 13_34_32_250__1   \n",
       "110     2.189321                       1.0  2020-01-31 13_37_23_721__1   \n",
       "111     3.772352                       0.0  2020-01-31 13_40_21_764__1   \n",
       "112     1.824452                       0.0  2020-01-31 13_42_18_755__1   \n",
       "113     3.772352                       0.0  2020-01-31 13_42_59_783__1   \n",
       "114     2.881965                       1.0  2020-01-31 13_45_19_424__1   \n",
       "115     3.042873                       1.0  2020-01-31 13_45_53_342__1   \n",
       "116     2.669266                       1.0  2020-01-31 13_47_30_732__1   \n",
       "117     3.772352                       0.0  2020-01-31 13_54_14_962__1   \n",
       "118     3.132716                       1.0  2020-01-31 13_55_23_060__1   \n",
       "119     2.189321                       1.0  2020-01-31 13_59_06_479__1   \n",
       "120     2.894109                       1.0  2020-01-31 14_03_52_614__1   \n",
       "121     3.772352                       0.0  2020-01-31 14_05_39_736__1   \n",
       "122     2.881965                       1.0  2020-01-31 14_07_23_150__1   \n",
       "123     4.995789                       0.0  2020-01-31 14_09_11_432__1   \n",
       "124     3.772352                       0.0  2020-01-31 14_17_11_161__1   \n",
       "125     3.772352                       0.0  2020-01-31 14_18_49_620__1   \n",
       "126     2.011414                       0.0  2020-01-31 14_19_15_142__1   \n",
       "127     1.623951                       0.0  2020-01-31 14_20_02_246__1   \n",
       "128     2.189321                       1.0  2020-01-31 14_21_56_964__1   \n",
       "129     2.026167                       1.0  2020-01-31 14_22_23_056__1   \n",
       "\n",
       "                                     load_orientations  \\\n",
       "105  [389.61340180670584, 255.54109300093057, 192.5...   \n",
       "106  [150.83297533087077, 383.6261959759498, 67.032...   \n",
       "107                                [82.90636087614764]   \n",
       "108                               [144.63201033761837]   \n",
       "109            [179.5130041735012, 152.57902943558665]   \n",
       "110             [279.8105553300908, 76.65994211811908]   \n",
       "111                                [82.90636087614764]   \n",
       "112                               [144.63201033761837]   \n",
       "113                                [82.90636087614764]   \n",
       "114             [380.7885767615295, 168.0061904453832]   \n",
       "115  [173.67163494351934, 32.95719275540446, 99.279...   \n",
       "116            [162.27499486144276, 304.9024474216082]   \n",
       "117                                [82.90636087614764]   \n",
       "118  [144.63201033761837, 178.78914767995911, 173.6...   \n",
       "119             [279.8105553300908, 76.65994211811908]   \n",
       "120             [50.56464079586272, 82.90636087614764]   \n",
       "121                                [82.90636087614764]   \n",
       "122             [380.7885767615295, 168.0061904453832]   \n",
       "123            [31.592721625416228, 383.6261959759498]   \n",
       "124                                [82.90636087614764]   \n",
       "125                                [82.90636087614764]   \n",
       "126  [383.6261959759498, 178.78914767995911, 396.98...   \n",
       "127  [76.65994211811908, 380.7885767615295, 68.7613...   \n",
       "128             [279.8105553300908, 76.65994211811908]   \n",
       "129  [150.83297533087077, 383.6261959759498, 67.032...   \n",
       "\n",
       "                            load_nodes  \n",
       "105  [10147, 9696, 9595, 10123, 10112]  \n",
       "106           [70, 61, 62, 1110, 2019]  \n",
       "107                            [10150]  \n",
       "108                             [9595]  \n",
       "109                        [201, 6160]  \n",
       "110                       [2727, 2424]  \n",
       "111                            [10142]  \n",
       "112                              [808]  \n",
       "113                             [8282]  \n",
       "114                       [9292, 2222]  \n",
       "115                 [5655, 4847, 3837]  \n",
       "116                       [1211, 4342]  \n",
       "117                               [23]  \n",
       "118               [9595, 10107, 10126]  \n",
       "119                          [59, 202]  \n",
       "120                       [7372, 9695]  \n",
       "121                               [34]  \n",
       "122                         [25, 1616]  \n",
       "123                        [2525, 606]  \n",
       "124                               [85]  \n",
       "125                             [1110]  \n",
       "126                [7069, 10154, 5655]  \n",
       "127          [5554, 5958, 10180, 8079]  \n",
       "128                           [66, 88]  \n",
       "129     [8786, 1413, 7574, 9190, 5958]  "
      ]
     },
     "execution_count": 59,
     "metadata": {},
     "output_type": "execute_result"
    }
   ],
   "source": [
    "df[['filter_rmin', 'mesh_independency_filter', 'design_reference', 'load_orientations', 'load_nodes']][105:130]"
   ]
  },
  {
   "cell_type": "code",
   "execution_count": 64,
   "metadata": {},
   "outputs": [
    {
     "data": {
      "text/html": [
       "<div>\n",
       "<style scoped>\n",
       "    .dataframe tbody tr th:only-of-type {\n",
       "        vertical-align: middle;\n",
       "    }\n",
       "\n",
       "    .dataframe tbody tr th {\n",
       "        vertical-align: top;\n",
       "    }\n",
       "\n",
       "    .dataframe thead th {\n",
       "        text-align: right;\n",
       "    }\n",
       "</style>\n",
       "<table border=\"1\" class=\"dataframe\">\n",
       "  <thead>\n",
       "    <tr style=\"text-align: right;\">\n",
       "      <th></th>\n",
       "      <th>nx</th>\n",
       "      <th>ny</th>\n",
       "      <th>volume_fraction</th>\n",
       "      <th>filter_rmin</th>\n",
       "      <th>initial_penalty</th>\n",
       "      <th>med_penalty</th>\n",
       "      <th>mesh_independency_filter</th>\n",
       "      <th>poisson_ratio_nu</th>\n",
       "      <th>number_of_nodes</th>\n",
       "      <th>Young_modulus_Emin</th>\n",
       "      <th>Young_modulus_Emax</th>\n",
       "      <th>load_nodes</th>\n",
       "      <th>load_orientations</th>\n",
       "      <th>load_intensities</th>\n",
       "      <th>fixed_nodes</th>\n",
       "      <th>type_fixed_nodes</th>\n",
       "      <th>final_objective_function_value</th>\n",
       "      <th>all_objective_function_values</th>\n",
       "      <th>design_reference</th>\n",
       "      <th>time_for_convergence</th>\n",
       "    </tr>\n",
       "  </thead>\n",
       "  <tbody>\n",
       "    <tr>\n",
       "      <td>129</td>\n",
       "      <td>100</td>\n",
       "      <td>100</td>\n",
       "      <td>0.26667</td>\n",
       "      <td>2.026167</td>\n",
       "      <td>3.0</td>\n",
       "      <td>3.0</td>\n",
       "      <td>1.0</td>\n",
       "      <td>0.3</td>\n",
       "      <td>20402</td>\n",
       "      <td>1.000000e-09</td>\n",
       "      <td>1.0</td>\n",
       "      <td>[8786, 1413, 7574, 9190, 5958]</td>\n",
       "      <td>[150.83297533087077, 383.6261959759498, 67.032...</td>\n",
       "      <td>[1.0, 1.0, 1.0, 1.0, 1.0]</td>\n",
       "      <td>[5050, 4949, 4848, 4747, 4646, 4545, 4444, 434...</td>\n",
       "      <td></td>\n",
       "      <td>309.88961</td>\n",
       "      <td>[4757.4996723659515, 2099.8659495087713, 1577....</td>\n",
       "      <td>2020-01-31 14_22_23_056__1</td>\n",
       "      <td>3184.173023</td>\n",
       "    </tr>\n",
       "  </tbody>\n",
       "</table>\n",
       "</div>"
      ],
      "text/plain": [
       "      nx   ny  volume_fraction  filter_rmin  initial_penalty  med_penalty  \\\n",
       "129  100  100          0.26667     2.026167              3.0          3.0   \n",
       "\n",
       "     mesh_independency_filter  poisson_ratio_nu  number_of_nodes  \\\n",
       "129                       1.0               0.3            20402   \n",
       "\n",
       "     Young_modulus_Emin  Young_modulus_Emax                      load_nodes  \\\n",
       "129        1.000000e-09                 1.0  [8786, 1413, 7574, 9190, 5958]   \n",
       "\n",
       "                                     load_orientations  \\\n",
       "129  [150.83297533087077, 383.6261959759498, 67.032...   \n",
       "\n",
       "              load_intensities  \\\n",
       "129  [1.0, 1.0, 1.0, 1.0, 1.0]   \n",
       "\n",
       "                                           fixed_nodes type_fixed_nodes  \\\n",
       "129  [5050, 4949, 4848, 4747, 4646, 4545, 4444, 434...                    \n",
       "\n",
       "     final_objective_function_value  \\\n",
       "129                       309.88961   \n",
       "\n",
       "                         all_objective_function_values  \\\n",
       "129  [4757.4996723659515, 2099.8659495087713, 1577....   \n",
       "\n",
       "               design_reference  time_for_convergence  \n",
       "129  2020-01-31 14_22_23_056__1           3184.173023  "
      ]
     },
     "execution_count": 64,
     "metadata": {},
     "output_type": "execute_result"
    }
   ],
   "source": [
    "df[df.design_reference == '2020-01-31 14_22_23_056__1']"
   ]
  },
  {
   "cell_type": "code",
   "execution_count": 61,
   "metadata": {},
   "outputs": [
    {
     "name": "stdout",
     "output_type": "stream",
     "text": [
      " Le volume dans le lecteur C s'appelle OSDisk\n",
      " Le num‚ro de s‚rie du volume est C42C-110A\n",
      "\n",
      " R‚pertoire de C:\\Users\\walmasri\\Documents\\ThŠse Cifre\\Optimisation_Topologique\\TOP_OPT\\sample_data\\sample_data\n",
      "\n",
      "03/02/2020  09:50    <DIR>          .\n",
      "03/02/2020  09:50    <DIR>          ..\n",
      "03/02/2020  09:48             2ÿ109 design_2020-01-30 12_33_08_077__1.png\n",
      "03/02/2020  09:48             2ÿ991 design_2020-01-30 12_33_28_940__1.png\n",
      "03/02/2020  09:48             4ÿ742 design_2020-01-30 12_33_35_487__1.png\n",
      "03/02/2020  09:48             2ÿ191 design_2020-01-30 12_33_46_348__1.png\n",
      "03/02/2020  09:48             3ÿ257 design_2020-01-30 12_44_17_796__1.png\n",
      "03/02/2020  09:48             2ÿ565 design_2020-01-30 12_44_46_839__1.png\n",
      "03/02/2020  09:48             1ÿ684 design_2020-01-30 12_44_49_303__1.png\n",
      "03/02/2020  09:48             5ÿ479 design_2020-01-30 12_44_58_702__1.png\n",
      "03/02/2020  09:48             1ÿ370 design_2020-01-30 12_45_20_035__1.png\n",
      "03/02/2020  09:48             3ÿ629 design_2020-01-30 12_55_41_686__1.png\n",
      "03/02/2020  09:48             1ÿ204 design_2020-01-30 12_56_08_910__1.png\n",
      "03/02/2020  09:48             5ÿ707 design_2020-01-30 12_56_29_770__1.png\n",
      "03/02/2020  09:48             1ÿ891 design_2020-01-30 12_56_55_334__1.png\n",
      "03/02/2020  09:48             3ÿ873 design_2020-01-30 13_05_04_826__1.png\n",
      "03/02/2020  09:48             4ÿ168 design_2020-01-30 13_05_20_960__1.png\n",
      "03/02/2020  09:48             4ÿ884 design_2020-01-30 13_06_24_957__1.png\n",
      "03/02/2020  09:48             2ÿ917 design_2020-01-30 13_06_35_483__1.png\n",
      "03/02/2020  09:48             2ÿ878 design_2020-01-30 13_06_59_378__1.png\n",
      "03/02/2020  09:48             1ÿ662 design_2020-01-30 13_07_17_798__1.png\n",
      "03/02/2020  09:48             2ÿ307 design_2020-01-30 13_08_00_106__1.png\n",
      "03/02/2020  09:48             2ÿ281 design_2020-01-30 13_08_25_793__1.png\n",
      "03/02/2020  09:48             3ÿ895 design_2020-01-30 13_15_36_182__1.png\n",
      "03/02/2020  09:48             4ÿ108 design_2020-01-30 13_15_46_564__1.png\n",
      "03/02/2020  09:48             2ÿ397 design_2020-01-30 13_18_53_256__1.png\n",
      "03/02/2020  09:48             3ÿ083 design_2020-01-30 13_19_24_856__1.png\n",
      "03/02/2020  09:48             4ÿ163 design_2020-01-30 13_28_40_642__1.png\n",
      "03/02/2020  09:48             4ÿ136 design_2020-01-30 13_29_20_062__1.png\n",
      "03/02/2020  09:48             2ÿ584 design_2020-01-30 13_29_59_221__1.png\n",
      "03/02/2020  09:48             1ÿ388 design_2020-01-30 13_31_02_075__1.png\n",
      "03/02/2020  09:48             3ÿ637 design_2020-01-30 13_40_17_648__1.png\n",
      "03/02/2020  09:48             5ÿ717 design_2020-01-30 13_41_23_475__1.png\n",
      "03/02/2020  09:48             1ÿ912 design_2020-01-30 13_42_12_640__1.png\n",
      "03/02/2020  09:48             2ÿ573 design_2020-01-30 13_48_02_957__1.png\n",
      "03/02/2020  09:48             3ÿ363 design_2020-01-30 13_48_52_717__1.png\n",
      "03/02/2020  09:48             3ÿ253 design_2020-01-30 13_49_48_398__1.png\n",
      "03/02/2020  09:48             3ÿ308 design_2020-01-30 13_50_16_462__1.png\n",
      "03/02/2020  09:48             2ÿ183 design_2020-01-30 13_51_16_624__1.png\n",
      "03/02/2020  09:48             2ÿ549 design_2020-01-30 13_52_26_507__1.png\n",
      "03/02/2020  09:48             2ÿ929 design_2020-01-30 13_53_04_015__1.png\n",
      "03/02/2020  09:48             3ÿ475 design_2020-01-30 14_09_18_964__1.png\n",
      "03/02/2020  09:48             3ÿ350 design_2020-01-30 14_10_47_485__1.png\n",
      "03/02/2020  09:48             2ÿ847 design_2020-01-30 14_12_05_510__1.png\n",
      "03/02/2020  09:48             2ÿ751 design_2020-01-30 14_12_34_221__1.png\n",
      "03/02/2020  09:48             2ÿ225 design_2020-01-30 14_13_38_236__1.png\n",
      "03/02/2020  09:48             2ÿ238 design_2020-01-30 14_14_12_017__1.png\n",
      "03/02/2020  09:48             3ÿ055 design_2020-01-30 14_14_41_017__1.png\n",
      "03/02/2020  09:48             4ÿ704 design_2020-01-30 14_31_00_951__1.png\n",
      "03/02/2020  09:48             2ÿ342 design_2020-01-30 14_31_32_375__1.png\n",
      "03/02/2020  09:48             3ÿ876 design_2020-01-30 14_32_37_097__1.png\n",
      "03/02/2020  09:48             4ÿ183 design_2020-01-30 14_33_37_882__1.png\n",
      "03/02/2020  09:48             3ÿ801 design_2020-01-30 14_34_23_919__1.png\n",
      "03/02/2020  09:48             2ÿ717 design_2020-01-30 14_36_35_020__1.png\n",
      "03/02/2020  09:48             2ÿ332 design_2020-01-30 14_37_15_936__1.png\n",
      "03/02/2020  09:48             3ÿ764 design_2020-01-30 14_48_05_305__1.png\n",
      "03/02/2020  09:48             4ÿ369 design_2020-01-30 14_54_53_763__1.png\n",
      "03/02/2020  09:48             3ÿ866 design_2020-01-30 14_56_38_223__1.png\n",
      "03/02/2020  09:48             3ÿ615 design_2020-01-30 14_58_38_381__1.png\n",
      "03/02/2020  09:48             2ÿ424 design_2020-01-30 14_58_42_119__1.png\n",
      "03/02/2020  09:48             3ÿ843 design_2020-01-30 15_03_03_791__1.png\n",
      "03/02/2020  09:48             4ÿ364 design_2020-01-30 15_04_26_024__1.png\n",
      "03/02/2020  09:48             4ÿ186 design_2020-01-30 15_12_16_027__1.png\n",
      "03/02/2020  09:48             4ÿ327 design_2020-01-30 15_14_48_626__1.png\n",
      "03/02/2020  09:48             3ÿ540 design_2020-01-30 15_16_30_931__1.png\n",
      "03/02/2020  09:48             4ÿ264 design_2020-01-30 15_16_41_719__1.png\n",
      "03/02/2020  09:48             2ÿ671 design_2020-01-30 15_18_29_593__1.png\n",
      "03/02/2020  09:48             3ÿ380 design_2020-01-30 15_21_01_121__1.png\n",
      "03/02/2020  09:48             3ÿ149 design_2020-01-30 15_21_32_536__1.png\n",
      "03/02/2020  09:48             2ÿ619 design_2020-01-30 15_21_40_075__1.png\n",
      "03/02/2020  09:48             3ÿ114 design_2020-01-30 15_38_56_963__1.png\n",
      "03/02/2020  09:48             2ÿ638 design_2020-01-30 15_40_25_781__1.png\n",
      "03/02/2020  09:48             2ÿ335 design_2020-01-30 15_43_31_980__1.png\n",
      "03/02/2020  09:48             3ÿ275 design_2020-01-30 15_43_40_907__1.png\n",
      "03/02/2020  09:48             3ÿ775 design_2020-01-30 15_54_52_899__1.png\n",
      "03/02/2020  09:48             3ÿ284 design_2020-01-30 15_56_26_640__1.png\n",
      "03/02/2020  09:48             2ÿ851 design_2020-01-30 15_59_06_201__1.png\n",
      "03/02/2020  09:48             4ÿ279 design_2020-01-30 15_59_52_562__1.png\n",
      "03/02/2020  09:48             4ÿ637 design_2020-01-30 16_00_10_026__1.png\n",
      "03/02/2020  09:48             3ÿ390 design_2020-01-30 16_00_55_136__1.png\n",
      "03/02/2020  09:48             3ÿ588 design_2020-01-30 16_02_02_979__1.png\n",
      "03/02/2020  09:48             2ÿ800 design_2020-01-30 16_06_26_233__1.png\n",
      "03/02/2020  09:48             3ÿ306 design_2020-01-30 16_06_30_215__1.png\n",
      "03/02/2020  09:48             4ÿ017 design_2020-01-30 16_07_48_359__1.png\n",
      "03/02/2020  09:48             2ÿ881 design_2020-01-30 16_18_32_025__1.png\n",
      "03/02/2020  09:48             4ÿ620 design_2020-01-30 16_22_44_068__1.png\n",
      "03/02/2020  09:48             3ÿ096 design_2020-01-30 16_27_49_599__1.png\n",
      "03/02/2020  09:48             3ÿ257 design_2020-01-30 16_28_13_855__1.png\n",
      "03/02/2020  09:48             3ÿ606 design_2020-01-30 16_28_14_741__1.png\n",
      "03/02/2020  09:48             3ÿ047 design_2020-01-30 16_35_55_930__1.png\n",
      "03/02/2020  09:48             2ÿ277 design_2020-01-30 16_40_07_602__1.png\n",
      "03/02/2020  09:48             3ÿ955 design_2020-01-30 16_42_34_696__1.png\n",
      "03/02/2020  09:48             3ÿ382 design_2020-01-30 16_42_44_114__1.png\n",
      "03/02/2020  09:48             3ÿ644 design_2020-01-30 16_43_43_289__1.png\n",
      "03/02/2020  09:48             3ÿ156 design_2020-01-30 16_49_28_372__1.png\n",
      "03/02/2020  09:48             2ÿ857 design_2020-01-30 16_49_35_109__1.png\n",
      "03/02/2020  09:48             3ÿ076 design_2020-01-30 16_54_03_825__1.png\n",
      "03/02/2020  09:48             2ÿ467 design_2020-01-30 17_00_41_698__1.png\n",
      "03/02/2020  09:48             3ÿ356 design_2020-01-30 17_01_12_226__1.png\n",
      "03/02/2020  09:48             3ÿ785 design_2020-01-30 17_01_23_339__1.png\n",
      "03/02/2020  09:48             3ÿ936 design_2020-01-30 17_01_31_083__1.png\n",
      "03/02/2020  09:48             3ÿ892 design_2020-01-30 17_02_19_485__1.png\n",
      "03/02/2020  09:48             2ÿ532 design_2020-01-30 17_08_57_249__1.png\n",
      "03/02/2020  09:48             1ÿ817 design_2020-01-30 17_11_46_582__1.png\n",
      "03/02/2020  09:48               964 design_2020-01-30 17_12_29_406__1.png\n",
      "03/02/2020  09:48             1ÿ563 design_2020-01-30 17_22_45_163__1.png\n",
      "03/02/2020  09:48             4ÿ439 design_2020-01-30 17_22_48_177__1.png\n",
      "03/02/2020  09:48             3ÿ592 design_2020-01-30 17_23_51_688__1.png\n",
      "03/02/2020  09:48             4ÿ209 design_2020-01-30 17_25_27_364__1.png\n",
      "03/02/2020  09:48             4ÿ521 design_2020-01-30 17_27_32_625__1.png\n",
      "03/02/2020  09:48             3ÿ522 design_2020-01-30 17_28_21_564__1.png\n",
      "03/02/2020  09:48             3ÿ939 design_2020-01-30 17_33_05_517__1.png\n",
      "03/02/2020  09:48             1ÿ196 design_2020-01-30 17_33_58_724__1.png\n",
      "03/02/2020  09:48             3ÿ485 design_2020-01-30 17_34_47_202__1.png\n",
      "03/02/2020  09:48             2ÿ999 design_2020-01-30 17_41_08_327__1.png\n",
      "03/02/2020  09:48             2ÿ336 design_2020-01-30 17_44_10_524__1.png\n",
      "03/02/2020  09:48             4ÿ061 design_2020-01-30 17_44_20_731__1.png\n",
      "03/02/2020  09:48             4ÿ292 design_2020-01-30 17_49_20_968__1.png\n",
      "03/02/2020  09:48             3ÿ873 design_2020-01-30 17_55_31_532__1.png\n",
      "03/02/2020  09:48             3ÿ353 design_2020-01-30 17_55_49_404__1.png\n",
      "03/02/2020  09:48             3ÿ341 design_2020-01-30 18_06_08_323__1.png\n",
      "03/02/2020  09:48             3ÿ599 design_2020-01-30 18_07_17_158__1.png\n",
      "03/02/2020  09:48             4ÿ352 design_2020-01-30 18_07_18_525__1.png\n",
      "03/02/2020  09:48             3ÿ513 design_2020-01-30 18_07_32_430__1.png\n",
      "03/02/2020  09:48             3ÿ368 design_2020-01-30 18_09_14_613__1.png\n",
      "03/02/2020  09:48             2ÿ654 design_2020-01-30 18_12_23_445__1.png\n",
      "03/02/2020  09:48             1ÿ450 design_2020-01-30 18_12_29_088__1.png\n",
      "03/02/2020  09:48             3ÿ388 design_2020-01-30 18_13_46_972__1.png\n",
      "03/02/2020  09:48             3ÿ725 design_2020-01-30 18_18_14_038__1.png\n",
      "03/02/2020  09:48             2ÿ334 design_2020-01-30 18_23_36_146__1.png\n",
      "03/02/2020  09:48             3ÿ200 design_2020-01-30 18_27_42_118__1.png\n",
      "03/02/2020  09:48             3ÿ369 design_2020-01-30 18_35_03_772__1.png\n",
      "03/02/2020  09:48             3ÿ013 design_2020-01-30 18_39_17_037__1.png\n",
      "03/02/2020  09:48             3ÿ067 design_2020-01-30 18_39_48_524__1.png\n",
      "03/02/2020  09:48             4ÿ101 design_2020-01-30 18_41_17_951__1.png\n",
      "03/02/2020  09:48             4ÿ269 design_2020-01-30 18_42_46_424__1.png\n",
      "03/02/2020  09:48             3ÿ602 design_2020-01-30 18_46_15_691__1.png\n",
      "03/02/2020  09:48             3ÿ312 design_2020-01-30 18_46_38_031__1.png\n",
      "03/02/2020  09:48             1ÿ325 design_2020-01-30 18_48_59_181__1.png\n",
      "03/02/2020  09:48             3ÿ234 design_2020-01-30 18_49_20_545__1.png\n",
      "03/02/2020  09:48             2ÿ963 design_2020-01-30 18_49_50_523__1.png\n",
      "03/02/2020  09:48             3ÿ115 design_2020-01-30 18_55_06_317__1.png\n",
      "03/02/2020  09:48             2ÿ904 design_2020-01-30 18_55_47_399__1.png\n",
      "03/02/2020  09:48             2ÿ949 design_2020-01-30 19_11_00_423__1.png\n",
      "03/02/2020  09:48             3ÿ996 design_2020-01-30 19_12_18_142__1.png\n",
      "03/02/2020  09:48             2ÿ224 design_2020-01-30 19_12_46_998__1.png\n",
      "03/02/2020  09:48             3ÿ593 design_2020-01-30 19_15_27_833__1.png\n",
      "03/02/2020  09:48             2ÿ322 design_2020-01-30 19_18_52_477__1.png\n",
      "03/02/2020  09:48             2ÿ774 design_2020-01-30 19_32_14_034__1.png\n",
      "03/02/2020  09:48             3ÿ397 design_2020-01-30 19_34_21_316__1.png\n",
      "03/02/2020  09:48             4ÿ142 design_2020-01-30 19_35_51_138__1.png\n",
      "03/02/2020  09:48             4ÿ633 design_2020-01-30 19_38_46_254__1.png\n",
      "03/02/2020  09:48             3ÿ113 design_2020-01-30 19_38_54_428__1.png\n",
      "03/02/2020  09:48             3ÿ231 design_2020-01-30 19_43_33_219__1.png\n",
      "03/02/2020  09:48             4ÿ662 design_2020-01-30 19_44_09_397__1.png\n",
      "03/02/2020  09:48             3ÿ773 design_2020-01-30 19_44_58_332__1.png\n",
      "03/02/2020  09:48             3ÿ589 design_2020-01-30 19_47_44_683__1.png\n",
      "03/02/2020  09:48             3ÿ302 design_2020-01-30 19_51_01_103__1.png\n",
      "03/02/2020  09:48             4ÿ031 design_2020-01-30 19_54_11_701__1.png\n",
      "03/02/2020  09:48             4ÿ073 design_2020-01-30 19_57_17_806__1.png\n",
      "03/02/2020  09:48             2ÿ651 design_2020-01-30 20_06_10_087__1.png\n",
      "03/02/2020  09:48             2ÿ051 design_2020-01-30 20_16_23_299__1.png\n",
      "03/02/2020  09:48             3ÿ196 design_2020-01-30 20_17_45_733__1.png\n",
      "03/02/2020  09:48             1ÿ629 design_2020-01-30 20_18_03_048__1.png\n",
      "03/02/2020  09:48             3ÿ108 design_2020-01-30 20_20_10_862__1.png\n",
      "03/02/2020  09:48             4ÿ226 design_2020-01-30 20_21_57_011__1.png\n",
      "03/02/2020  09:48             3ÿ305 design_2020-01-30 20_22_10_654__1.png\n",
      "03/02/2020  09:48             3ÿ940 design_2020-01-30 20_22_28_729__1.png\n",
      "03/02/2020  09:48             3ÿ080 design_2020-01-30 20_22_43_030__1.png\n",
      "03/02/2020  09:48             1ÿ377 design_2020-01-30 20_28_45_054__1.png\n",
      "03/02/2020  09:48             2ÿ927 design_2020-01-30 20_37_22_225__1.png\n",
      "03/02/2020  09:48             2ÿ133 design_2020-01-30 20_38_03_005__1.png\n",
      "03/02/2020  09:48             3ÿ369 design_2020-01-30 20_41_42_067__1.png\n",
      "03/02/2020  09:48             2ÿ423 design_2020-01-30 20_44_41_998__1.png\n",
      "03/02/2020  09:48             2ÿ825 design_2020-01-30 20_50_22_593__1.png\n",
      "03/02/2020  09:48             3ÿ413 design_2020-01-30 20_50_59_594__1.png\n",
      "03/02/2020  09:48             3ÿ150 design_2020-01-30 20_54_34_627__1.png\n",
      "03/02/2020  09:48             2ÿ953 design_2020-01-30 20_59_59_850__1.png\n",
      "03/02/2020  09:48             2ÿ693 design_2020-01-30 21_00_30_319__1.png\n",
      "03/02/2020  09:48             3ÿ958 design_2020-01-30 21_04_31_104__1.png\n",
      "03/02/2020  09:48             4ÿ706 design_2020-01-30 21_05_12_264__1.png\n",
      "03/02/2020  09:48             1ÿ973 design_2020-01-30 21_05_16_731__1.png\n",
      "03/02/2020  09:48             2ÿ297 design_2020-01-30 21_07_07_462__1.png\n",
      "03/02/2020  09:48             3ÿ100 design_2020-01-30 21_13_31_081__1.png\n",
      "03/02/2020  09:48             3ÿ191 design_2020-01-30 21_21_45_988__1.png\n",
      "03/02/2020  09:48             2ÿ969 design_2020-01-30 21_22_56_387__1.png\n",
      "03/02/2020  09:48             2ÿ564 design_2020-01-30 21_26_05_141__1.png\n",
      "03/02/2020  09:48             2ÿ160 design_2020-01-30 21_28_25_321__1.png\n",
      "03/02/2020  09:48             2ÿ210 design_2020-01-30 21_28_50_331__1.png\n",
      "03/02/2020  09:48             3ÿ312 design_2020-01-30 21_31_06_673__1.png\n",
      "03/02/2020  09:48             2ÿ875 design_2020-01-30 21_35_21_813__1.png\n",
      "03/02/2020  09:48             2ÿ923 design_2020-01-30 21_42_49_755__1.png\n",
      "03/02/2020  09:48             2ÿ364 design_2020-01-30 21_43_51_651__1.png\n",
      "03/02/2020  09:48             3ÿ954 design_2020-01-30 21_48_08_169__1.png\n",
      "03/02/2020  09:48             3ÿ435 design_2020-01-30 21_48_29_113__1.png\n",
      "03/02/2020  09:48             3ÿ383 design_2020-01-30 21_49_11_553__1.png\n",
      "03/02/2020  09:48             2ÿ648 design_2020-01-30 21_50_47_668__1.png\n",
      "03/02/2020  09:48             1ÿ206 design_2020-01-30 21_54_24_736__1.png\n",
      "03/02/2020  09:48             3ÿ652 design_2020-01-30 21_56_30_453__1.png\n",
      "03/02/2020  09:48             2ÿ043 design_2020-01-30 21_58_18_834__1.png\n",
      "03/02/2020  09:48             2ÿ775 design_2020-01-30 22_00_10_354__1.png\n",
      "03/02/2020  09:48             2ÿ839 design_2020-01-30 22_05_45_992__1.png\n",
      "03/02/2020  09:48             3ÿ945 design_2020-01-30 22_11_03_000__1.png\n",
      "03/02/2020  09:48             2ÿ780 design_2020-01-30 22_13_20_596__1.png\n",
      "03/02/2020  09:48             4ÿ402 design_2020-01-30 22_16_37_568__1.png\n",
      "03/02/2020  09:48             3ÿ139 design_2020-01-30 22_20_00_163__1.png\n",
      "03/02/2020  09:48             3ÿ836 design_2020-01-30 22_24_50_269__1.png\n",
      "03/02/2020  09:48             2ÿ804 design_2020-01-30 22_27_17_940__1.png\n",
      "03/02/2020  09:48             2ÿ944 design_2020-01-30 22_27_57_077__1.png\n",
      "03/02/2020  09:48             3ÿ442 design_2020-01-30 22_28_12_193__1.png\n",
      "03/02/2020  09:48             4ÿ339 design_2020-01-30 22_30_35_081__1.png\n",
      "03/02/2020  09:48             3ÿ620 design_2020-01-30 22_31_28_863__1.png\n",
      "03/02/2020  09:48             4ÿ210 design_2020-01-30 22_31_53_752__1.png\n",
      "03/02/2020  09:48             3ÿ870 design_2020-01-30 22_32_26_536__1.png\n",
      "03/02/2020  09:48             2ÿ717 design_2020-01-30 22_35_08_580__1.png\n",
      "03/02/2020  09:48             2ÿ724 design_2020-01-30 22_36_19_281__1.png\n",
      "03/02/2020  09:48             2ÿ183 design_2020-01-30 22_39_18_283__1.png\n",
      "03/02/2020  09:48             2ÿ998 design_2020-01-30 22_41_43_207__1.png\n",
      "03/02/2020  09:48             2ÿ797 design_2020-01-30 22_47_33_979__1.png\n",
      "03/02/2020  09:48             2ÿ020 design_2020-01-30 22_50_38_007__1.png\n",
      "03/02/2020  09:48             2ÿ874 design_2020-01-30 22_53_10_341__1.png\n",
      "03/02/2020  09:48             2ÿ683 design_2020-01-30 22_54_11_791__1.png\n",
      "03/02/2020  09:48             3ÿ033 design_2020-01-30 22_56_56_627__1.png\n",
      "03/02/2020  09:48             4ÿ436 design_2020-01-30 22_58_37_982__1.png\n",
      "03/02/2020  09:48             4ÿ658 design_2020-01-30 23_01_45_005__1.png\n",
      "03/02/2020  09:48             3ÿ008 design_2020-01-30 23_04_16_568__1.png\n",
      "03/02/2020  09:48             1ÿ301 design_2020-01-30 23_04_30_490__1.png\n",
      "03/02/2020  09:48             2ÿ978 design_2020-01-30 23_10_05_231__1.png\n",
      "03/02/2020  09:48             2ÿ058 design_2020-01-30 23_10_05_807__1.png\n",
      "03/02/2020  09:48             4ÿ423 design_2020-01-30 23_12_35_567__1.png\n",
      "03/02/2020  09:48             3ÿ401 design_2020-01-30 23_12_44_398__1.png\n",
      "03/02/2020  09:48             4ÿ416 design_2020-01-30 23_12_51_988__1.png\n",
      "03/02/2020  09:48             1ÿ249 design_2020-01-30 23_15_31_807__1.png\n",
      "03/02/2020  09:48             2ÿ434 design_2020-01-30 23_16_33_077__1.png\n",
      "03/02/2020  09:48             2ÿ451 design_2020-01-30 23_18_42_435__1.png\n",
      "03/02/2020  09:48             2ÿ597 design_2020-01-30 23_21_32_726__1.png\n",
      "03/02/2020  09:48             3ÿ993 design_2020-01-30 23_25_42_599__1.png\n",
      "03/02/2020  09:48             2ÿ772 design_2020-01-30 23_27_13_589__1.png\n",
      "03/02/2020  09:48             2ÿ676 design_2020-01-30 23_32_37_668__1.png\n",
      "03/02/2020  09:48             2ÿ261 design_2020-01-30 23_34_26_822__1.png\n",
      "03/02/2020  09:48             4ÿ511 design_2020-01-30 23_34_36_544__1.png\n",
      "03/02/2020  09:48             3ÿ227 design_2020-01-30 23_36_53_387__1.png\n",
      "03/02/2020  09:48             4ÿ397 design_2020-01-30 23_38_16_024__1.png\n",
      "03/02/2020  09:48             4ÿ422 design_2020-01-30 23_38_50_916__1.png\n",
      "03/02/2020  09:48             3ÿ515 design_2020-01-30 23_40_40_814__1.png\n",
      "03/02/2020  09:48             3ÿ290 design_2020-01-30 23_43_42_813__1.png\n",
      "03/02/2020  09:48             1ÿ264 design_2020-01-30 23_49_13_981__1.png\n",
      "03/02/2020  09:48             2ÿ963 design_2020-01-30 23_53_41_963__1.png\n",
      "03/02/2020  09:48             3ÿ290 design_2020-01-30 23_54_48_218__1.png\n",
      "03/02/2020  09:48             2ÿ964 design_2020-01-30 23_56_34_483__1.png\n",
      "03/02/2020  09:48             3ÿ171 design_2020-01-30 23_56_54_982__1.png\n",
      "03/02/2020  09:48             1ÿ738 design_2020-01-30 23_56_58_182__1.png\n",
      "03/02/2020  09:48             1ÿ199 design_2020-01-31 00_00_28_587__1.png\n",
      "03/02/2020  09:48             3ÿ339 design_2020-01-31 00_01_20_217__1.png\n",
      "03/02/2020  09:48             3ÿ592 design_2020-01-31 00_02_24_286__1.png\n",
      "03/02/2020  09:48             1ÿ511 design_2020-01-31 00_05_55_527__1.png\n",
      "03/02/2020  09:48             3ÿ664 design_2020-01-31 00_08_53_420__1.png\n",
      "03/02/2020  09:48             2ÿ744 design_2020-01-31 00_11_11_736__1.png\n",
      "03/02/2020  09:48             2ÿ453 design_2020-01-31 00_16_58_053__1.png\n",
      "03/02/2020  09:48             4ÿ313 design_2020-01-31 00_18_41_489__1.png\n",
      "03/02/2020  09:48             2ÿ712 design_2020-01-31 00_19_01_455__1.png\n",
      "03/02/2020  09:48             3ÿ422 design_2020-01-31 00_19_08_530__1.png\n",
      "03/02/2020  09:48             4ÿ289 design_2020-01-31 00_23_29_064__1.png\n",
      "03/02/2020  09:48             4ÿ686 design_2020-01-31 00_24_08_637__1.png\n",
      "03/02/2020  09:48             2ÿ160 design_2020-01-31 00_28_47_027__1.png\n",
      "03/02/2020  09:48             3ÿ083 design_2020-01-31 00_33_44_401__1.png\n",
      "03/02/2020  09:48             2ÿ094 design_2020-01-31 00_35_34_221__1.png\n",
      "03/02/2020  09:48             4ÿ594 design_2020-01-31 00_39_21_100__1.png\n",
      "03/02/2020  09:48             2ÿ550 design_2020-01-31 00_39_38_766__1.png\n",
      "03/02/2020  09:48             3ÿ311 design_2020-01-31 00_40_32_716__1.png\n",
      "03/02/2020  09:48             2ÿ950 design_2020-01-31 00_41_22_568__1.png\n",
      "03/02/2020  09:48             3ÿ388 design_2020-01-31 00_41_34_582__1.png\n",
      "03/02/2020  09:48             3ÿ805 design_2020-01-31 00_45_10_410__1.png\n",
      "03/02/2020  09:48             3ÿ383 design_2020-01-31 00_45_50_445__1.png\n",
      "03/02/2020  09:48             3ÿ392 design_2020-01-31 00_50_44_596__1.png\n",
      "03/02/2020  09:48             2ÿ350 design_2020-01-31 00_52_21_201__1.png\n",
      "03/02/2020  09:48             4ÿ089 design_2020-01-31 00_55_02_117__1.png\n",
      "03/02/2020  09:48             2ÿ318 design_2020-01-31 00_56_51_218__1.png\n",
      "03/02/2020  09:48             4ÿ516 design_2020-01-31 01_01_44_069__1.png\n",
      "03/02/2020  09:48             2ÿ812 design_2020-01-31 01_01_48_093__1.png\n",
      "03/02/2020  09:48             2ÿ191 design_2020-01-31 01_03_17_059__1.png\n",
      "03/02/2020  09:48             4ÿ994 design_2020-01-31 01_06_30_868__1.png\n",
      "03/02/2020  09:48             1ÿ398 design_2020-01-31 01_07_38_945__1.png\n",
      "03/02/2020  09:48             4ÿ250 design_2020-01-31 01_11_51_566__1.png\n",
      "03/02/2020  09:48             1ÿ823 design_2020-01-31 01_12_53_958__1.png\n",
      "03/02/2020  09:48             3ÿ050 design_2020-01-31 01_12_57_489__1.png\n",
      "03/02/2020  09:48             4ÿ733 design_2020-01-31 01_17_33_077__1.png\n",
      "03/02/2020  09:48             1ÿ844 design_2020-01-31 01_18_30_972__1.png\n",
      "03/02/2020  09:48             2ÿ342 design_2020-01-31 01_18_38_424__1.png\n",
      "03/02/2020  09:48             3ÿ923 design_2020-01-31 01_22_21_920__1.png\n",
      "03/02/2020  09:48             3ÿ712 design_2020-01-31 01_23_07_652__1.png\n",
      "03/02/2020  09:48             1ÿ147 design_2020-01-31 01_24_37_297__1.png\n",
      "03/02/2020  09:48             3ÿ438 design_2020-01-31 01_28_16_073__1.png\n",
      "03/02/2020  09:48             4ÿ562 design_2020-01-31 01_28_35_990__1.png\n",
      "03/02/2020  09:48             3ÿ785 design_2020-01-31 01_35_36_680__1.png\n",
      "03/02/2020  09:48             4ÿ057 design_2020-01-31 01_38_52_113__1.png\n",
      "03/02/2020  09:48             3ÿ416 design_2020-01-31 01_41_05_558__1.png\n",
      "03/02/2020  09:48             4ÿ844 design_2020-01-31 01_45_01_804__1.png\n",
      "03/02/2020  09:48             2ÿ781 design_2020-01-31 01_46_06_645__1.png\n",
      "03/02/2020  09:48             3ÿ460 design_2020-01-31 01_47_13_086__1.png\n",
      "03/02/2020  09:48             3ÿ406 design_2020-01-31 01_49_41_001__1.png\n",
      "03/02/2020  09:48             2ÿ968 design_2020-01-31 01_50_07_315__1.png\n",
      "03/02/2020  09:48             3ÿ342 design_2020-01-31 01_58_09_079__1.png\n",
      "03/02/2020  09:48             2ÿ954 design_2020-01-31 02_03_44_361__1.png\n",
      "03/02/2020  09:48             3ÿ262 design_2020-01-31 02_05_56_379__1.png\n",
      "03/02/2020  09:48             2ÿ816 design_2020-01-31 02_06_26_330__1.png\n",
      "03/02/2020  09:48             3ÿ854 design_2020-01-31 02_06_34_739__1.png\n",
      "03/02/2020  09:48             1ÿ795 design_2020-01-31 02_09_14_357__1.png\n",
      "03/02/2020  09:48             2ÿ168 design_2020-01-31 02_11_17_638__1.png\n",
      "03/02/2020  09:48             4ÿ989 design_2020-01-31 02_13_35_981__1.png\n",
      "03/02/2020  09:48             1ÿ725 design_2020-01-31 02_18_03_408__1.png\n",
      "03/02/2020  09:48             4ÿ034 design_2020-01-31 02_18_31_321__1.png\n",
      "03/02/2020  09:48             3ÿ063 design_2020-01-31 02_20_31_476__1.png\n",
      "03/02/2020  09:48             3ÿ656 design_2020-01-31 02_22_57_817__1.png\n",
      "03/02/2020  09:48             4ÿ800 design_2020-01-31 02_24_15_278__1.png\n",
      "03/02/2020  09:48             3ÿ073 design_2020-01-31 02_25_35_446__1.png\n",
      "03/02/2020  09:48             2ÿ968 design_2020-01-31 02_29_52_676__1.png\n",
      "03/02/2020  09:48             1ÿ362 design_2020-01-31 02_32_20_450__1.png\n",
      "03/02/2020  09:48             4ÿ605 design_2020-01-31 02_33_30_658__1.png\n",
      "03/02/2020  09:48             3ÿ338 design_2020-01-31 02_40_47_180__1.png\n",
      "03/02/2020  09:48             3ÿ813 design_2020-01-31 02_40_57_317__1.png\n",
      "03/02/2020  09:48             1ÿ518 design_2020-01-31 02_43_35_353__1.png\n",
      "03/02/2020  09:48             1ÿ771 design_2020-01-31 02_48_28_202__1.png\n",
      "03/02/2020  09:48             2ÿ509 design_2020-01-31 02_49_26_439__1.png\n",
      "03/02/2020  09:48             3ÿ919 design_2020-01-31 02_50_44_728__1.png\n",
      "03/02/2020  09:48             1ÿ421 design_2020-01-31 02_52_04_214__1.png\n",
      "03/02/2020  09:48             3ÿ569 design_2020-01-31 02_54_59_394__1.png\n",
      "03/02/2020  09:48             3ÿ190 design_2020-01-31 02_54_59_435__1.png\n",
      "03/02/2020  09:48             3ÿ996 design_2020-01-31 02_55_50_665__1.png\n",
      "03/02/2020  09:48             4ÿ909 design_2020-01-31 02_58_43_299__1.png\n",
      "03/02/2020  09:48             2ÿ573 design_2020-01-31 03_02_53_683__1.png\n",
      "03/02/2020  09:48             2ÿ822 design_2020-01-31 03_06_10_540__1.png\n",
      "03/02/2020  09:48             3ÿ339 design_2020-01-31 03_07_36_673__1.png\n",
      "03/02/2020  09:48             3ÿ445 design_2020-01-31 03_10_42_109__1.png\n",
      "03/02/2020  09:48             3ÿ706 design_2020-01-31 03_13_01_447__1.png\n",
      "03/02/2020  09:48             3ÿ373 design_2020-01-31 03_14_14_773__1.png\n",
      "03/02/2020  09:48             3ÿ526 design_2020-01-31 03_14_37_048__1.png\n",
      "03/02/2020  09:48             1ÿ708 design_2020-01-31 03_17_39_952__1.png\n",
      "03/02/2020  09:48             3ÿ912 design_2020-01-31 03_25_39_101__1.png\n",
      "03/02/2020  09:48             3ÿ404 design_2020-01-31 03_27_38_055__1.png\n",
      "03/02/2020  09:48             3ÿ629 design_2020-01-31 03_27_44_772__1.png\n",
      "03/02/2020  09:48             1ÿ542 design_2020-01-31 03_29_06_692__1.png\n",
      "03/02/2020  09:48             1ÿ587 design_2020-01-31 03_30_28_319__1.png\n",
      "03/02/2020  09:48             3ÿ063 design_2020-01-31 03_32_27_738__1.png\n",
      "03/02/2020  09:48             2ÿ371 design_2020-01-31 03_32_43_348__1.png\n",
      "03/02/2020  09:48             2ÿ877 design_2020-01-31 03_34_59_747__1.png\n",
      "03/02/2020  09:48             3ÿ881 design_2020-01-31 03_40_01_983__1.png\n",
      "03/02/2020  09:48             1ÿ702 design_2020-01-31 03_41_22_904__1.png\n",
      "03/02/2020  09:48             4ÿ644 design_2020-01-31 03_43_34_955__1.png\n",
      "03/02/2020  09:48             1ÿ833 design_2020-01-31 03_43_40_615__1.png\n",
      "03/02/2020  09:48             3ÿ687 design_2020-01-31 03_46_43_799__1.png\n",
      "03/02/2020  09:48             4ÿ006 design_2020-01-31 03_50_01_348__1.png\n",
      "03/02/2020  09:48             3ÿ687 design_2020-01-31 03_53_06_968__1.png\n",
      "03/02/2020  09:48             3ÿ063 design_2020-01-31 03_54_57_638__1.png\n",
      "03/02/2020  09:48             1ÿ695 design_2020-01-31 03_56_48_075__1.png\n",
      "03/02/2020  09:48             3ÿ623 design_2020-01-31 03_59_48_990__1.png\n",
      "03/02/2020  09:48             4ÿ538 design_2020-01-31 04_00_26_437__1.png\n",
      "03/02/2020  09:48             4ÿ005 design_2020-01-31 04_04_15_599__1.png\n",
      "03/02/2020  09:48             5ÿ299 design_2020-01-31 04_06_03_140__1.png\n",
      "03/02/2020  09:48             1ÿ734 design_2020-01-31 04_06_24_135__1.png\n",
      "03/02/2020  09:48             1ÿ578 design_2020-01-31 04_06_53_279__1.png\n",
      "03/02/2020  09:48             3ÿ052 design_2020-01-31 04_16_38_566__1.png\n",
      "03/02/2020  09:48             1ÿ805 design_2020-01-31 04_17_08_100__1.png\n",
      "03/02/2020  09:48             3ÿ604 design_2020-01-31 04_17_53_778__1.png\n",
      "03/02/2020  09:48             4ÿ215 design_2020-01-31 04_19_19_285__1.png\n",
      "03/02/2020  09:48             3ÿ867 design_2020-01-31 04_23_29_217__1.png\n",
      "03/02/2020  09:48             5ÿ894 design_2020-01-31 04_27_07_753__1.png\n",
      "03/02/2020  09:48             1ÿ864 design_2020-01-31 04_28_07_367__1.png\n",
      "03/02/2020  09:48             3ÿ065 design_2020-01-31 04_28_12_107__1.png\n",
      "03/02/2020  09:48             1ÿ276 design_2020-01-31 04_29_16_106__1.png\n",
      "03/02/2020  09:48             4ÿ387 design_2020-01-31 04_32_10_564__1.png\n",
      "03/02/2020  09:48             5ÿ001 design_2020-01-31 04_32_47_139__1.png\n",
      "03/02/2020  09:48             3ÿ618 design_2020-01-31 04_33_43_438__1.png\n",
      "03/02/2020  09:48             3ÿ902 design_2020-01-31 04_38_49_274__1.png\n",
      "03/02/2020  09:48             1ÿ288 design_2020-01-31 04_40_22_131__1.png\n",
      "03/02/2020  09:48             2ÿ719 design_2020-01-31 04_50_18_256__1.png\n",
      "03/02/2020  09:48             2ÿ780 design_2020-01-31 04_50_38_327__1.png\n",
      "03/02/2020  09:48             3ÿ822 design_2020-01-31 04_52_04_205__1.png\n",
      "03/02/2020  09:48             3ÿ851 design_2020-01-31 04_52_10_433__1.png\n",
      "03/02/2020  09:48             2ÿ682 design_2020-01-31 04_59_52_799__1.png\n",
      "03/02/2020  09:48             2ÿ195 design_2020-01-31 05_01_33_698__1.png\n",
      "03/02/2020  09:48             3ÿ783 design_2020-01-31 05_03_02_150__1.png\n",
      "03/02/2020  09:48             3ÿ525 design_2020-01-31 05_05_15_251__1.png\n",
      "03/02/2020  09:48             3ÿ761 design_2020-01-31 05_06_03_293__1.png\n",
      "03/02/2020  09:48             4ÿ014 design_2020-01-31 05_06_12_822__1.png\n",
      "03/02/2020  09:48             3ÿ560 design_2020-01-31 05_12_37_068__1.png\n",
      "03/02/2020  09:48             2ÿ571 design_2020-01-31 05_12_39_376__1.png\n",
      "03/02/2020  09:48             3ÿ174 design_2020-01-31 05_12_42_782__1.png\n",
      "03/02/2020  09:48             1ÿ380 design_2020-01-31 05_14_45_465__1.png\n",
      "03/02/2020  09:48             4ÿ460 design_2020-01-31 05_17_33_047__1.png\n",
      "03/02/2020  09:48             2ÿ236 design_2020-01-31 05_23_48_580__1.png\n",
      "03/02/2020  09:48             1ÿ559 design_2020-01-31 05_24_58_979__1.png\n",
      "03/02/2020  09:48             1ÿ359 design_2020-01-31 05_25_38_515__1.png\n",
      "03/02/2020  09:48             4ÿ172 design_2020-01-31 05_34_03_439__1.png\n",
      "03/02/2020  09:48             1ÿ982 design_2020-01-31 05_34_32_447__1.png\n",
      "03/02/2020  09:48             4ÿ313 design_2020-01-31 05_36_39_605__1.png\n",
      "03/02/2020  09:48             2ÿ678 design_2020-01-31 05_37_03_682__1.png\n",
      "03/02/2020  09:48             4ÿ496 design_2020-01-31 05_37_11_300__1.png\n",
      "03/02/2020  09:48             2ÿ106 design_2020-01-31 05_43_47_534__1.png\n",
      "03/02/2020  09:48             1ÿ310 design_2020-01-31 05_45_04_327__1.png\n",
      "03/02/2020  09:48             2ÿ690 design_2020-01-31 05_45_34_869__1.png\n",
      "03/02/2020  09:48             4ÿ996 design_2020-01-31 05_48_55_227__1.png\n",
      "03/02/2020  09:48             5ÿ599 design_2020-01-31 05_55_25_627__1.png\n",
      "03/02/2020  09:48             1ÿ156 design_2020-01-31 05_56_32_251__1.png\n",
      "03/02/2020  09:48             2ÿ545 design_2020-01-31 05_56_33_549__1.png\n",
      "03/02/2020  09:48             3ÿ556 design_2020-01-31 05_57_10_105__1.png\n",
      "03/02/2020  09:48             4ÿ171 design_2020-01-31 05_59_53_268__1.png\n",
      "03/02/2020  09:48             2ÿ119 design_2020-01-31 06_07_26_978__1.png\n",
      "03/02/2020  09:48             2ÿ997 design_2020-01-31 06_07_52_890__1.png\n",
      "03/02/2020  09:48             3ÿ031 design_2020-01-31 06_08_50_493__1.png\n",
      "03/02/2020  09:48             3ÿ852 design_2020-01-31 06_08_54_578__1.png\n",
      "03/02/2020  09:48             2ÿ545 design_2020-01-31 06_09_04_646__1.png\n",
      "03/02/2020  09:48             1ÿ666 design_2020-01-31 06_18_45_205__1.png\n",
      "03/02/2020  09:48             3ÿ219 design_2020-01-31 06_19_18_180__1.png\n",
      "03/02/2020  09:48             3ÿ099 design_2020-01-31 06_26_47_395__1.png\n",
      "03/02/2020  09:48             3ÿ266 design_2020-01-31 06_29_25_975__1.png\n",
      "03/02/2020  09:48             2ÿ527 design_2020-01-31 06_30_24_084__1.png\n",
      "03/02/2020  09:48             4ÿ222 design_2020-01-31 06_32_18_886__1.png\n",
      "03/02/2020  09:48             5ÿ758 design_2020-01-31 06_38_28_455__1.png\n",
      "03/02/2020  09:48             2ÿ621 design_2020-01-31 06_40_11_870__1.png\n",
      "03/02/2020  09:48             1ÿ632 design_2020-01-31 06_42_03_766__1.png\n",
      "03/02/2020  09:48             3ÿ272 design_2020-01-31 06_42_09_393__1.png\n",
      "03/02/2020  09:48             5ÿ273 design_2020-01-31 06_42_30_271__1.png\n",
      "03/02/2020  09:48             4ÿ347 design_2020-01-31 06_44_17_590__1.png\n",
      "03/02/2020  09:48             2ÿ710 design_2020-01-31 06_52_04_755__1.png\n",
      "03/02/2020  09:48             3ÿ774 design_2020-01-31 06_52_15_034__1.png\n",
      "03/02/2020  09:48             2ÿ668 design_2020-01-31 07_03_10_411__1.png\n",
      "03/02/2020  09:48             3ÿ390 design_2020-01-31 07_09_32_419__1.png\n",
      "03/02/2020  09:48             3ÿ873 design_2020-01-31 07_13_59_704__1.png\n",
      "03/02/2020  09:48             4ÿ088 design_2020-01-31 07_14_02_458__1.png\n",
      "03/02/2020  09:48             3ÿ029 design_2020-01-31 07_14_41_555__1.png\n",
      "03/02/2020  09:48             3ÿ608 design_2020-01-31 07_15_07_570__1.png\n",
      "03/02/2020  09:48             4ÿ222 design_2020-01-31 07_15_16_206__1.png\n",
      "03/02/2020  09:48             4ÿ879 design_2020-01-31 07_15_48_946__1.png\n",
      "03/02/2020  09:48             3ÿ487 design_2020-01-31 07_21_43_567__1.png\n",
      "03/02/2020  09:48             3ÿ010 design_2020-01-31 07_25_25_833__1.png\n",
      "03/02/2020  09:48             4ÿ059 design_2020-01-31 07_25_48_090__1.png\n",
      "03/02/2020  09:48             3ÿ613 design_2020-01-31 07_26_15_668__1.png\n",
      "03/02/2020  09:48             4ÿ038 design_2020-01-31 07_36_11_850__1.png\n",
      "03/02/2020  09:48             2ÿ678 design_2020-01-31 07_37_51_569__1.png\n",
      "03/02/2020  09:48             1ÿ714 design_2020-01-31 07_40_32_519__1.png\n",
      "03/02/2020  09:48             3ÿ358 design_2020-01-31 07_48_32_616__1.png\n",
      "03/02/2020  09:48             5ÿ693 design_2020-01-31 07_49_31_905__1.png\n",
      "03/02/2020  09:48             3ÿ369 design_2020-01-31 07_51_39_753__1.png\n",
      "03/02/2020  09:48             3ÿ703 design_2020-01-31 07_57_36_540__1.png\n",
      "03/02/2020  09:48             4ÿ340 design_2020-01-31 07_57_44_420__1.png\n",
      "03/02/2020  09:48             3ÿ723 design_2020-01-31 07_57_51_227__1.png\n",
      "03/02/2020  09:48             4ÿ216 design_2020-01-31 07_58_36_559__1.png\n",
      "03/02/2020  09:48             4ÿ348 design_2020-01-31 08_04_42_102__1.png\n",
      "03/02/2020  09:48             3ÿ006 design_2020-01-31 08_04_42_431__1.png\n",
      "03/02/2020  09:48             5ÿ375 design_2020-01-31 08_08_51_971__1.png\n",
      "03/02/2020  09:48             3ÿ113 design_2020-01-31 08_21_17_421__1.png\n",
      "03/02/2020  09:48             4ÿ971 design_2020-01-31 08_21_32_861__1.png\n",
      "03/02/2020  09:48             5ÿ225 design_2020-01-31 08_22_09_382__1.png\n",
      "03/02/2020  09:48             3ÿ793 design_2020-01-31 08_24_41_805__1.png\n",
      "03/02/2020  09:48             3ÿ331 design_2020-01-31 08_30_40_089__1.png\n",
      "03/02/2020  09:48             4ÿ398 design_2020-01-31 08_39_40_745__1.png\n",
      "03/02/2020  09:48             5ÿ118 design_2020-01-31 08_41_07_903__1.png\n",
      "03/02/2020  09:48             4ÿ847 design_2020-01-31 08_44_26_120__1.png\n",
      "03/02/2020  09:48             3ÿ291 design_2020-01-31 08_47_59_988__1.png\n",
      "03/02/2020  09:48             4ÿ463 design_2020-01-31 08_53_30_854__1.png\n",
      "03/02/2020  09:48             2ÿ253 design_2020-01-31 08_55_34_228__1.png\n",
      "03/02/2020  09:48             3ÿ994 design_2020-01-31 08_56_39_808__1.png\n",
      "03/02/2020  09:48             2ÿ971 design_2020-01-31 08_59_01_301__1.png\n",
      "03/02/2020  09:48             2ÿ698 design_2020-01-31 08_59_55_740__1.png\n",
      "03/02/2020  09:48             3ÿ581 design_2020-01-31 09_03_40_167__1.png\n",
      "03/02/2020  09:48             3ÿ613 design_2020-01-31 09_16_35_912__1.png\n",
      "03/02/2020  09:48             3ÿ812 design_2020-01-31 09_23_27_533__1.png\n",
      "03/02/2020  09:48             4ÿ307 design_2020-01-31 09_24_22_854__1.png\n",
      "03/02/2020  09:48             3ÿ543 design_2020-01-31 09_27_23_196__1.png\n",
      "03/02/2020  09:48             4ÿ860 design_2020-01-31 09_28_56_465__1.png\n",
      "03/02/2020  09:48             3ÿ667 design_2020-01-31 09_29_32_839__1.png\n",
      "03/02/2020  09:48             3ÿ791 design_2020-01-31 09_32_52_625__1.png\n",
      "03/02/2020  09:48             3ÿ017 design_2020-01-31 09_35_26_822__1.png\n",
      "03/02/2020  09:48             5ÿ515 design_2020-01-31 09_36_45_550__1.png\n",
      "03/02/2020  09:48             1ÿ572 design_2020-01-31 09_40_52_907__1.png\n",
      "03/02/2020  09:48             3ÿ560 design_2020-01-31 09_50_20_571__1.png\n",
      "03/02/2020  09:48             1ÿ790 design_2020-01-31 09_51_56_634__1.png\n",
      "03/02/2020  09:48             4ÿ311 design_2020-01-31 09_53_49_486__1.png\n",
      "03/02/2020  09:48             3ÿ467 design_2020-01-31 09_56_40_533__1.png\n",
      "03/02/2020  09:48             3ÿ953 design_2020-01-31 09_59_00_157__1.png\n",
      "03/02/2020  09:48             5ÿ599 design_2020-01-31 10_00_43_634__1.png\n",
      "03/02/2020  09:48             2ÿ805 design_2020-01-31 10_02_51_640__1.png\n",
      "03/02/2020  09:48             4ÿ323 design_2020-01-31 10_05_26_965__1.png\n",
      "03/02/2020  09:48             3ÿ847 design_2020-01-31 10_06_33_535__1.png\n",
      "03/02/2020  09:48             2ÿ998 design_2020-01-31 10_07_53_643__1.png\n",
      "03/02/2020  09:48             3ÿ198 design_2020-01-31 10_10_16_429__1.png\n",
      "03/02/2020  09:48             3ÿ096 design_2020-01-31 10_13_58_935__1.png\n",
      "03/02/2020  09:48             1ÿ489 design_2020-01-31 10_17_47_992__1.png\n",
      "03/02/2020  09:48             2ÿ274 design_2020-01-31 10_21_51_870__1.png\n",
      "03/02/2020  09:48             3ÿ719 design_2020-01-31 10_22_05_482__1.png\n",
      "03/02/2020  09:48             3ÿ888 design_2020-01-31 10_22_30_714__1.png\n",
      "03/02/2020  09:48             5ÿ078 design_2020-01-31 10_22_32_082__1.png\n",
      "03/02/2020  09:48             2ÿ524 design_2020-01-31 10_29_09_816__1.png\n",
      "03/02/2020  09:48             3ÿ081 design_2020-01-31 10_29_59_752__1.png\n",
      "03/02/2020  09:48             2ÿ233 design_2020-01-31 10_33_02_078__1.png\n",
      "03/02/2020  09:48             2ÿ761 design_2020-01-31 10_38_03_573__1.png\n",
      "03/02/2020  09:48             3ÿ121 design_2020-01-31 10_39_19_644__1.png\n",
      "03/02/2020  09:48             2ÿ970 design_2020-01-31 10_40_15_816__1.png\n",
      "03/02/2020  09:48             2ÿ705 design_2020-01-31 10_44_03_211__1.png\n",
      "03/02/2020  09:48             3ÿ043 design_2020-01-31 10_45_13_082__1.png\n",
      "03/02/2020  09:48             4ÿ113 design_2020-01-31 10_48_23_922__1.png\n",
      "03/02/2020  09:48             3ÿ496 design_2020-01-31 10_49_27_000__1.png\n",
      "03/02/2020  09:48             3ÿ278 design_2020-01-31 10_51_31_212__1.png\n",
      "03/02/2020  09:48             3ÿ853 design_2020-01-31 10_56_21_457__1.png\n",
      "03/02/2020  09:48             2ÿ829 design_2020-01-31 11_01_59_439__1.png\n",
      "03/02/2020  09:48             5ÿ109 design_2020-01-31 11_02_17_933__1.png\n",
      "03/02/2020  09:48             5ÿ106 design_2020-01-31 11_05_30_468__1.png\n",
      "03/02/2020  09:48             2ÿ647 design_2020-01-31 11_07_01_537__1.png\n",
      "03/02/2020  09:48             2ÿ857 design_2020-01-31 11_10_38_167__1.png\n",
      "03/02/2020  09:48             2ÿ430 design_2020-01-31 11_13_49_436__1.png\n",
      "03/02/2020  09:48             2ÿ304 design_2020-01-31 11_24_35_876__1.png\n",
      "03/02/2020  09:48             3ÿ127 design_2020-01-31 11_29_16_210__1.png\n",
      "03/02/2020  09:48             2ÿ523 design_2020-01-31 11_30_37_958__1.png\n",
      "03/02/2020  09:48             4ÿ595 design_2020-01-31 11_33_09_328__1.png\n",
      "03/02/2020  09:48             3ÿ136 design_2020-01-31 11_35_17_980__1.png\n",
      "03/02/2020  09:48             4ÿ536 design_2020-01-31 11_36_03_927__1.png\n",
      "03/02/2020  09:48             3ÿ895 design_2020-01-31 11_37_50_971__1.png\n",
      "03/02/2020  09:48             4ÿ431 design_2020-01-31 11_42_28_555__1.png\n",
      "03/02/2020  09:48             3ÿ093 design_2020-01-31 11_44_15_968__1.png\n",
      "03/02/2020  09:48             3ÿ401 design_2020-01-31 11_46_28_457__1.png\n",
      "03/02/2020  09:48             4ÿ740 design_2020-01-31 11_50_08_188__1.png\n",
      "03/02/2020  09:48             3ÿ473 design_2020-01-31 11_52_51_651__1.png\n",
      "03/02/2020  09:48             2ÿ957 design_2020-01-31 11_57_20_610__1.png\n",
      "03/02/2020  09:48             3ÿ259 design_2020-01-31 12_03_04_160__1.png\n",
      "03/02/2020  09:48             3ÿ103 design_2020-01-31 12_08_15_987__1.png\n",
      "03/02/2020  09:48             4ÿ233 design_2020-01-31 12_08_39_420__1.png\n",
      "03/02/2020  09:48             2ÿ766 design_2020-01-31 12_16_02_158__1.png\n",
      "03/02/2020  09:48             4ÿ383 design_2020-01-31 12_16_08_575__1.png\n",
      "03/02/2020  09:48             3ÿ640 design_2020-01-31 12_16_12_252__1.png\n",
      "03/02/2020  09:48             3ÿ048 design_2020-01-31 12_20_04_105__1.png\n",
      "03/02/2020  09:48             2ÿ520 design_2020-01-31 12_30_13_323__1.png\n",
      "03/02/2020  09:48             3ÿ187 design_2020-01-31 12_33_19_462__1.png\n",
      "03/02/2020  09:48             3ÿ929 design_2020-01-31 12_33_30_196__1.png\n",
      "03/02/2020  09:48             3ÿ435 design_2020-01-31 12_34_44_462__1.png\n",
      "03/02/2020  09:48             3ÿ078 design_2020-01-31 12_36_00_754__1.png\n",
      "03/02/2020  09:48             2ÿ463 design_2020-01-31 12_37_55_418__1.png\n",
      "03/02/2020  09:48             3ÿ891 design_2020-01-31 12_38_05_174__1.png\n",
      "03/02/2020  09:48             1ÿ681 design_2020-01-31 12_42_05_434__1.png\n",
      "03/02/2020  09:48             3ÿ892 design_2020-01-31 12_42_18_226__1.png\n",
      "03/02/2020  09:48             4ÿ508 design_2020-01-31 12_50_44_662__1.png\n",
      "03/02/2020  09:48             3ÿ140 design_2020-01-31 12_51_47_395__1.png\n",
      "03/02/2020  09:48             3ÿ662 design_2020-01-31 12_59_18_606__1.png\n",
      "03/02/2020  09:48             3ÿ244 design_2020-01-31 13_00_58_589__1.png\n",
      "03/02/2020  09:48             2ÿ384 design_2020-01-31 13_04_10_374__1.png\n",
      "03/02/2020  09:48             4ÿ183 design_2020-01-31 13_06_33_491__1.png\n",
      "03/02/2020  09:48             1ÿ125 design_2020-01-31 13_08_00_224__1.png\n",
      "03/02/2020  09:48             3ÿ771 design_2020-01-31 13_13_25_990__1.png\n",
      "03/02/2020  09:48             5ÿ040 design_2020-01-31 13_14_21_954__1.png\n",
      "03/02/2020  09:48             3ÿ900 design_2020-01-31 13_15_46_712__1.png\n",
      "03/02/2020  09:48             3ÿ920 design_2020-01-31 13_18_06_302__1.png\n",
      "03/02/2020  09:48             2ÿ272 design_2020-01-31 13_19_46_452__1.png\n",
      "03/02/2020  09:48             4ÿ743 design_2020-01-31 13_22_49_150__1.png\n",
      "03/02/2020  09:48             4ÿ182 design_2020-01-31 13_23_22_351__1.png\n",
      "03/02/2020  09:48             4ÿ381 design_2020-01-31 13_26_22_263__1.png\n",
      "03/02/2020  09:48             3ÿ544 design_2020-01-31 13_26_49_970__1.png\n",
      "03/02/2020  09:48             4ÿ441 design_2020-01-31 13_29_17_949__1.png\n",
      "03/02/2020  09:48             3ÿ215 design_2020-01-31 13_29_26_242__1.png\n",
      "03/02/2020  09:48             3ÿ410 design_2020-01-31 13_31_11_130__1.png\n",
      "03/02/2020  09:48             2ÿ834 design_2020-01-31 13_34_32_250__1.png\n",
      "03/02/2020  09:48             2ÿ868 design_2020-01-31 13_37_23_721__1.png\n",
      "03/02/2020  09:48             3ÿ394 design_2020-01-31 13_40_21_764__1.png\n",
      "03/02/2020  09:48             1ÿ957 design_2020-01-31 13_42_18_755__1.png\n",
      "03/02/2020  09:48             1ÿ628 design_2020-01-31 13_42_59_783__1.png\n",
      "03/02/2020  09:48             3ÿ655 design_2020-01-31 13_45_19_424__1.png\n",
      "03/02/2020  09:48             3ÿ767 design_2020-01-31 13_45_53_342__1.png\n",
      "03/02/2020  09:48             2ÿ934 design_2020-01-31 13_47_30_732__1.png\n",
      "03/02/2020  09:48             3ÿ738 design_2020-01-31 13_54_14_962__1.png\n",
      "03/02/2020  09:48             4ÿ547 design_2020-01-31 13_55_23_060__1.png\n",
      "03/02/2020  09:48             2ÿ886 design_2020-01-31 13_59_06_479__1.png\n",
      "03/02/2020  09:48             4ÿ792 design_2020-01-31 14_03_52_614__1.png\n",
      "03/02/2020  09:48             2ÿ710 design_2020-01-31 14_05_39_736__1.png\n",
      "03/02/2020  09:48             3ÿ153 design_2020-01-31 14_07_23_150__1.png\n",
      "03/02/2020  09:48             4ÿ401 design_2020-01-31 14_09_11_432__1.png\n",
      "03/02/2020  09:48             4ÿ412 design_2020-01-31 14_17_11_161__1.png\n",
      "03/02/2020  09:48               986 design_2020-01-31 14_18_49_620__1.png\n",
      "03/02/2020  09:48             3ÿ197 design_2020-01-31 14_19_15_142__1.png\n",
      "03/02/2020  09:48             3ÿ629 design_2020-01-31 14_20_02_246__1.png\n",
      "03/02/2020  09:48             2ÿ699 design_2020-01-31 14_21_56_964__1.png\n",
      "03/02/2020  09:48             4ÿ057 design_2020-01-31 14_22_23_056__1.png\n",
      "03/02/2020  09:48             3ÿ411 design_2020-01-31 14_22_33_995__1.png\n",
      "03/02/2020  09:48             3ÿ236 design_2020-01-31 14_25_54_378__1.png\n",
      "03/02/2020  09:48             3ÿ391 design_2020-01-31 14_28_34_121__1.png\n",
      "03/02/2020  09:48             2ÿ957 design_2020-01-31 14_29_48_472__1.png\n",
      "03/02/2020  09:48             2ÿ258 design_2020-01-31 14_30_12_950__1.png\n",
      "03/02/2020  09:48             3ÿ225 design_2020-01-31 14_30_46_010__1.png\n",
      "03/02/2020  09:48             1ÿ982 design_2020-01-31 14_33_28_530__1.png\n",
      "03/02/2020  09:48             2ÿ684 design_2020-01-31 14_41_18_850__1.png\n",
      "03/02/2020  09:48             3ÿ431 design_2020-01-31 14_42_53_838__1.png\n",
      "03/02/2020  09:48             2ÿ677 design_2020-01-31 14_44_22_990__1.png\n",
      "03/02/2020  09:48             3ÿ327 design_2020-01-31 14_44_36_810__1.png\n",
      "03/02/2020  09:48             4ÿ124 design_2020-01-31 14_47_24_926__1.png\n",
      "03/02/2020  09:48             2ÿ212 design_2020-01-31 14_52_03_020__1.png\n",
      "03/02/2020  09:48             3ÿ589 design_2020-01-31 14_52_15_591__1.png\n",
      "03/02/2020  09:48             2ÿ306 design_2020-01-31 14_52_24_378__1.png\n",
      "03/02/2020  09:48             3ÿ757 design_2020-01-31 14_55_31_969__1.png\n",
      "03/02/2020  09:48             4ÿ239 design_2020-01-31 15_01_07_795__1.png\n",
      "03/02/2020  09:48             1ÿ327 design_2020-01-31 15_03_30_224__1.png\n",
      "03/02/2020  09:48             2ÿ257 design_2020-01-31 15_04_00_636__1.png\n",
      "03/02/2020  09:48             2ÿ648 design_2020-01-31 15_04_53_251__1.png\n",
      "03/02/2020  09:48             4ÿ827 design_2020-01-31 15_05_50_619__1.png\n",
      "03/02/2020  09:48             1ÿ221 design_2020-01-31 15_06_57_190__1.png\n",
      "03/02/2020  09:48             3ÿ119 design_2020-01-31 15_09_19_189__1.png\n",
      "03/02/2020  09:48             4ÿ027 design_2020-01-31 15_13_59_632__1.png\n",
      "03/02/2020  09:48             3ÿ458 design_2020-01-31 15_16_44_083__1.png\n",
      "03/02/2020  09:48             3ÿ761 design_2020-01-31 15_17_04_446__1.png\n",
      "03/02/2020  09:48             2ÿ473 design_2020-01-31 15_17_52_729__1.png\n",
      "03/02/2020  09:48             1ÿ199 design_2020-01-31 15_21_11_349__1.png\n",
      "03/02/2020  09:48             3ÿ168 design_2020-01-31 15_23_53_844__1.png\n",
      "03/02/2020  09:48             2ÿ324 design_2020-01-31 15_26_50_585__1.png\n",
      "03/02/2020  09:48             2ÿ081 design_2020-01-31 15_28_47_874__1.png\n",
      "03/02/2020  09:48             3ÿ590 design_2020-01-31 15_30_43_070__1.png\n",
      "03/02/2020  09:48             2ÿ337 design_2020-01-31 15_32_47_543__1.png\n",
      "03/02/2020  09:48             3ÿ110 design_2020-01-31 15_32_57_761__1.png\n",
      "03/02/2020  09:48             3ÿ473 design_2020-01-31 15_36_14_236__1.png\n",
      "03/02/2020  09:48             3ÿ187 design_2020-01-31 15_37_10_140__1.png\n",
      "03/02/2020  09:48             3ÿ837 design_2020-01-31 15_40_20_497__1.png\n",
      "03/02/2020  09:48             4ÿ442 design_2020-01-31 15_44_46_291__1.png\n",
      "03/02/2020  09:48             3ÿ533 design_2020-01-31 15_46_53_367__1.png\n",
      "03/02/2020  09:48             3ÿ743 design_2020-01-31 15_48_44_572__1.png\n",
      "03/02/2020  09:48             3ÿ002 design_2020-01-31 15_51_19_024__1.png\n",
      "03/02/2020  09:48             2ÿ702 design_2020-01-31 15_52_06_478__1.png\n",
      "03/02/2020  09:48             2ÿ107 design_2020-01-31 15_55_54_493__1.png\n",
      "03/02/2020  09:48             3ÿ412 design_2020-01-31 15_56_21_250__1.png\n",
      "03/02/2020  09:48             2ÿ763 design_2020-01-31 15_58_07_433__1.png\n",
      "03/02/2020  09:48             4ÿ304 design_2020-01-31 16_05_42_533__1.png\n",
      "03/02/2020  09:48             1ÿ439 design_2020-01-31 16_07_08_259__1.png\n",
      "03/02/2020  09:48             3ÿ045 design_2020-01-31 16_09_39_409__1.png\n",
      "03/02/2020  09:48             3ÿ263 design_2020-01-31 16_10_51_501__1.png\n",
      "03/02/2020  09:48             2ÿ724 design_2020-01-31 16_11_41_900__1.png\n",
      "03/02/2020  09:48             4ÿ000 design_2020-01-31 16_14_01_686__1.png\n",
      "03/02/2020  09:48             4ÿ486 design_2020-01-31 16_17_44_063__1.png\n",
      "03/02/2020  09:48             3ÿ131 design_2020-01-31 16_18_12_580__1.png\n",
      "03/02/2020  09:48             3ÿ578 design_2020-01-31 16_19_23_799__1.png\n",
      "03/02/2020  09:48             4ÿ565 design_2020-01-31 16_29_23_884__1.png\n",
      "03/02/2020  09:48             4ÿ046 design_2020-01-31 16_30_28_829__1.png\n",
      "03/02/2020  09:48             2ÿ281 design_2020-01-31 16_32_53_011__1.png\n",
      "03/02/2020  09:48             2ÿ972 design_2020-01-31 16_34_50_718__1.png\n",
      "03/02/2020  09:48             3ÿ002 design_2020-01-31 16_35_23_742__1.png\n",
      "03/02/2020  09:48             3ÿ697 design_2020-01-31 16_37_29_788__1.png\n",
      "03/02/2020  09:48             3ÿ642 design_2020-01-31 16_39_46_403__1.png\n",
      "03/02/2020  09:48             3ÿ768 design_2020-01-31 16_41_00_851__1.png\n",
      "03/02/2020  09:48             3ÿ460 design_2020-01-31 16_41_37_779__1.png\n",
      "03/02/2020  09:48             3ÿ716 design_2020-01-31 16_41_41_784__1.png\n",
      "03/02/2020  09:48             2ÿ768 design_2020-01-31 16_53_12_569__1.png\n",
      "03/02/2020  09:48             2ÿ865 design_2020-01-31 16_54_34_044__1.png\n",
      "03/02/2020  09:48             2ÿ039 design_2020-01-31 16_57_51_689__1.png\n",
      "03/02/2020  09:48             2ÿ546 design_2020-01-31 17_01_42_386__1.png\n",
      "03/02/2020  09:48             3ÿ652 design_2020-01-31 17_01_52_295__1.png\n",
      "03/02/2020  09:48             3ÿ636 design_2020-01-31 17_02_53_097__1.png\n",
      "03/02/2020  09:48             3ÿ845 design_2020-01-31 17_04_07_363__1.png\n",
      "03/02/2020  09:48             1ÿ770 design_2020-01-31 17_04_43_196__1.png\n",
      "03/02/2020  09:48             3ÿ052 design_2020-01-31 17_10_16_405__1.png\n",
      "03/02/2020  09:48             3ÿ495 design_2020-01-31 17_14_47_446__1.png\n",
      "03/02/2020  09:48             2ÿ869 design_2020-01-31 17_15_44_335__1.png\n",
      "03/02/2020  09:48             2ÿ676 design_2020-01-31 17_17_07_287__1.png\n",
      "03/02/2020  09:48             3ÿ230 design_2020-01-31 17_18_00_449__1.png\n",
      "03/02/2020  09:48             3ÿ448 design_2020-01-31 17_20_02_263__1.png\n",
      "03/02/2020  09:48             4ÿ137 design_2020-01-31 17_23_46_352__1.png\n",
      "03/02/2020  09:48             3ÿ706 design_2020-01-31 17_24_50_132__1.png\n",
      "03/02/2020  09:48             3ÿ014 design_2020-01-31 17_33_50_424__1.png\n",
      "03/02/2020  09:48             2ÿ004 design_2020-01-31 17_38_21_247__1.png\n",
      "03/02/2020  09:48             3ÿ960 design_2020-01-31 17_42_06_883__1.png\n",
      "03/02/2020  09:48             2ÿ763 design_2020-01-31 17_42_41_569__1.png\n",
      "03/02/2020  09:48             4ÿ557 design_2020-01-31 17_45_54_258__1.png\n",
      "03/02/2020  09:48             4ÿ396 design_2020-01-31 17_46_46_062__1.png\n",
      "03/02/2020  09:48             3ÿ147 design_2020-01-31 17_47_03_302__1.png\n",
      "03/02/2020  09:48             3ÿ485 design_2020-01-31 17_57_13_657__1.png\n",
      "03/02/2020  09:48             3ÿ337 design_2020-01-31 18_00_03_632__1.png\n",
      "03/02/2020  09:48             3ÿ790 design_2020-01-31 18_00_32_950__1.png\n",
      "03/02/2020  09:48             4ÿ135 design_2020-01-31 18_02_39_621__1.png\n",
      "03/02/2020  09:48             3ÿ193 design_2020-01-31 18_04_17_435__1.png\n",
      "03/02/2020  09:48             3ÿ524 design_2020-01-31 18_07_37_482__1.png\n",
      "03/02/2020  09:48             2ÿ800 design_2020-01-31 18_07_44_187__1.png\n",
      "03/02/2020  09:48             3ÿ120 design_2020-01-31 18_08_13_545__1.png\n",
      "03/02/2020  09:48             3ÿ709 design_2020-01-31 18_14_28_813__1.png\n",
      "03/02/2020  09:48             2ÿ861 design_2020-01-31 18_18_55_647__1.png\n",
      "03/02/2020  09:48             2ÿ798 design_2020-01-31 18_19_48_490__1.png\n",
      "03/02/2020  09:48             3ÿ978 design_2020-01-31 18_22_06_277__1.png\n",
      "03/02/2020  09:48             2ÿ965 design_2020-01-31 18_25_55_495__1.png\n",
      "03/02/2020  09:48             3ÿ308 design_2020-01-31 18_30_09_210__1.png\n",
      "03/02/2020  09:48             2ÿ102 design_2020-01-31 18_30_46_016__1.png\n",
      "03/02/2020  09:48             3ÿ061 design_2020-01-31 18_40_12_161__1.png\n",
      "03/02/2020  09:48             2ÿ964 design_2020-01-31 18_41_30_553__1.png\n",
      "03/02/2020  09:48             3ÿ738 design_2020-01-31 18_43_30_988__1.png\n",
      "03/02/2020  09:48             2ÿ481 design_2020-01-31 18_44_16_572__1.png\n",
      "03/02/2020  09:48             4ÿ479 design_2020-01-31 18_46_03_996__1.png\n",
      "03/02/2020  09:48             2ÿ046 design_2020-01-31 18_47_14_396__1.png\n",
      "03/02/2020  09:48             3ÿ091 design_2020-01-31 18_47_35_520__1.png\n",
      "03/02/2020  09:48             4ÿ331 design_2020-01-31 18_51_57_070__1.png\n",
      "03/02/2020  09:48             3ÿ756 design_2020-01-31 18_52_15_941__1.png\n",
      "03/02/2020  09:48             3ÿ516 design_2020-01-31 18_52_28_831__1.png\n",
      "03/02/2020  09:48             3ÿ720 design_2020-01-31 19_02_37_943__1.png\n",
      "03/02/2020  09:48             2ÿ692 design_2020-01-31 19_05_17_857__1.png\n",
      "03/02/2020  09:48             3ÿ881 design_2020-01-31 19_09_27_816__1.png\n",
      "03/02/2020  09:48             2ÿ141 design_2020-01-31 19_12_23_830__1.png\n",
      "03/02/2020  09:48             3ÿ001 design_2020-01-31 19_14_21_434__1.png\n",
      "03/02/2020  09:48             3ÿ034 design_2020-01-31 19_19_30_400__1.png\n",
      "03/02/2020  09:48             3ÿ447 design_2020-01-31 19_24_08_654__1.png\n",
      "03/02/2020  09:48             4ÿ328 design_2020-01-31 19_24_38_778__1.png\n",
      "03/02/2020  09:48             4ÿ158 design_2020-01-31 19_24_56_227__1.png\n",
      "03/02/2020  09:48             2ÿ992 design_2020-01-31 19_26_22_401__1.png\n",
      "03/02/2020  09:48             3ÿ291 design_2020-01-31 19_26_50_288__1.png\n",
      "03/02/2020  09:48             3ÿ031 design_2020-01-31 19_29_25_983__1.png\n",
      "03/02/2020  09:48             3ÿ331 design_2020-01-31 19_30_32_344__1.png\n",
      "03/02/2020  09:48             2ÿ504 design_2020-01-31 19_36_21_739__1.png\n",
      "03/02/2020  09:48             2ÿ259 design_2020-01-31 19_43_23_933__1.png\n",
      "03/02/2020  09:48             4ÿ248 design_2020-01-31 19_45_00_379__1.png\n",
      "03/02/2020  09:48             3ÿ305 design_2020-01-31 19_47_11_130__1.png\n",
      "03/02/2020  09:48             2ÿ712 design_2020-01-31 19_50_27_072__1.png\n",
      "03/02/2020  09:48             3ÿ996 design_2020-01-31 19_51_36_730__1.png\n",
      "03/02/2020  09:48             3ÿ891 design_2020-01-31 19_55_06_794__1.png\n",
      "03/02/2020  09:48             2ÿ831 design_2020-01-31 19_55_36_970__1.png\n",
      "03/02/2020  09:48             2ÿ854 design_2020-01-31 20_05_25_707__1.png\n",
      "03/02/2020  09:48             2ÿ718 design_2020-01-31 20_05_58_558__1.png\n",
      "03/02/2020  09:48             2ÿ786 design_2020-01-31 20_07_00_299__1.png\n",
      "03/02/2020  09:48             3ÿ539 design_2020-01-31 20_09_30_490__1.png\n",
      "03/02/2020  09:48             2ÿ275 design_2020-01-31 20_11_33_468__1.png\n",
      "03/02/2020  09:48             3ÿ176 design_2020-01-31 20_13_17_150__1.png\n",
      "03/02/2020  09:48             3ÿ590 design_2020-01-31 20_19_29_039__1.png\n",
      "03/02/2020  09:48             2ÿ708 design_2020-01-31 20_24_22_285__1.png\n",
      "03/02/2020  09:48             3ÿ004 design_2020-01-31 20_24_43_514__1.png\n",
      "03/02/2020  09:48             4ÿ397 design_2020-01-31 20_25_01_663__1.png\n",
      "03/02/2020  09:48             2ÿ438 design_2020-01-31 20_25_39_847__1.png\n",
      "03/02/2020  09:48             4ÿ038 design_2020-01-31 20_30_27_116__1.png\n",
      "03/02/2020  09:48             3ÿ820 design_2020-01-31 20_40_25_416__1.png\n",
      "03/02/2020  09:48             2ÿ721 design_2020-01-31 20_42_05_410__1.png\n",
      "03/02/2020  09:48             3ÿ044 design_2020-01-31 20_42_19_361__1.png\n",
      "03/02/2020  09:48             3ÿ036 design_2020-01-31 20_45_04_267__1.png\n",
      "03/02/2020  09:48             3ÿ138 design_2020-01-31 20_45_34_286__1.png\n",
      "03/02/2020  09:48             3ÿ535 design_2020-01-31 20_46_21_008__1.png\n",
      "03/02/2020  09:48             4ÿ515 design_2020-01-31 20_47_39_256__1.png\n",
      "03/02/2020  09:48             2ÿ803 design_2020-01-31 20_47_42_223__1.png\n",
      "03/02/2020  09:48             3ÿ216 design_2020-01-31 21_01_04_227__1.png\n",
      "03/02/2020  09:48             3ÿ828 design_2020-01-31 21_01_17_768__1.png\n",
      "03/02/2020  09:48             2ÿ599 design_2020-01-31 21_01_29_553__1.png\n",
      "03/02/2020  09:48             4ÿ067 design_2020-01-31 21_03_15_442__1.png\n",
      "03/02/2020  09:48             3ÿ651 design_2020-01-31 21_14_34_069__1.png\n",
      "03/02/2020  09:48             2ÿ775 design_2020-01-31 21_14_47_094__1.png\n",
      "03/02/2020  09:48             4ÿ216 design_2020-01-31 21_16_30_398__1.png\n",
      "03/02/2020  09:48             3ÿ477 design_2020-01-31 21_19_27_288__1.png\n",
      "03/02/2020  09:48             4ÿ215 design_2020-01-31 21_27_48_150__1.png\n",
      "03/02/2020  09:48             2ÿ263 design_2020-01-31 21_28_14_884__1.png\n",
      "03/02/2020  09:48             3ÿ172 design_2020-01-31 21_29_58_183__1.png\n",
      "03/02/2020  09:48             3ÿ284 design_2020-01-31 21_36_46_748__1.png\n",
      "03/02/2020  09:48             4ÿ187 design_2020-01-31 21_41_06_479__1.png\n",
      "03/02/2020  09:48             3ÿ708 design_2020-01-31 21_41_27_965__1.png\n",
      "03/02/2020  09:48             4ÿ110 design_2020-01-31 21_43_14_681__1.png\n",
      "03/02/2020  09:48             4ÿ239 design_2020-01-31 21_45_44_946__1.png\n",
      "03/02/2020  09:48             2ÿ773 design_2020-01-31 21_50_32_258__1.png\n",
      "03/02/2020  09:48             4ÿ882 design_2020-01-31 21_54_31_422__1.png\n",
      "03/02/2020  09:48             3ÿ046 design_2020-01-31 21_54_41_445__1.png\n",
      "03/02/2020  09:48             2ÿ653 design_2020-01-31 21_55_09_013__1.png\n",
      "03/02/2020  09:48             3ÿ053 design_2020-01-31 21_56_41_265__1.png\n",
      "03/02/2020  09:48             1ÿ421 design_2020-01-31 21_59_28_500__1.png\n",
      "03/02/2020  09:48             4ÿ872 design_2020-01-31 21_59_57_765__1.png\n",
      "03/02/2020  09:48               843 design_2020-01-31 22_02_56_586__1.png\n",
      "03/02/2020  09:48             3ÿ527 design_2020-01-31 22_06_08_618__1.png\n",
      "03/02/2020  09:48             3ÿ121 design_2020-01-31 22_07_15_357__1.png\n",
      "03/02/2020  09:48             4ÿ169 design_2020-01-31 22_08_50_679__1.png\n",
      "03/02/2020  09:48             3ÿ414 design_2020-01-31 22_09_24_642__1.png\n",
      "03/02/2020  09:48             3ÿ439 design_2020-01-31 22_13_52_402__1.png\n",
      "03/02/2020  09:48             5ÿ012 design_2020-01-31 22_16_47_234__1.png\n",
      "03/02/2020  09:48             3ÿ141 design_2020-01-31 22_19_45_243__1.png\n",
      "03/02/2020  09:48             4ÿ142 design_2020-01-31 22_24_37_133__1.png\n",
      "03/02/2020  09:48             2ÿ836 design_2020-01-31 22_25_22_885__1.png\n",
      "03/02/2020  09:48             4ÿ926 design_2020-01-31 22_29_37_113__1.png\n",
      "03/02/2020  09:48             2ÿ957 design_2020-01-31 22_34_08_856__1.png\n",
      "03/02/2020  09:48             5ÿ012 design_2020-01-31 22_38_50_358__1.png\n",
      "03/02/2020  09:48             4ÿ017 design_2020-01-31 22_43_21_313__1.png\n",
      "             768 fichier(s)        2ÿ511ÿ008 octets\n",
      "               2 R‚p(s)  340ÿ857ÿ581ÿ568 octets libres\n"
     ]
    }
   ],
   "source": [
    "ls "
   ]
  },
  {
   "cell_type": "code",
   "execution_count": 62,
   "metadata": {},
   "outputs": [],
   "source": [
    "import cv2\n",
    "img = cv2.imread('./design_2020-01-30 12_33_08_077__1.png')"
   ]
  },
  {
   "cell_type": "code",
   "execution_count": 1,
   "metadata": {},
   "outputs": [
    {
     "data": {
      "text/plain": [
       "'C:\\\\Users\\\\walmasri\\\\Documents\\\\Thèse Cifre\\\\Optimisation_Topologique\\\\TOP_OPT'"
      ]
     },
     "execution_count": 1,
     "metadata": {},
     "output_type": "execute_result"
    }
   ],
   "source": [
    "pwd"
   ]
  },
  {
   "cell_type": "code",
   "execution_count": 3,
   "metadata": {},
   "outputs": [],
   "source": [
    "import pandas as pd\n",
    "df = pd.read_excel('./sample_data/parameters/design_parameters_until_220-02-04.xlsx', 'data')"
   ]
  },
  {
   "cell_type": "code",
   "execution_count": 8,
   "metadata": {},
   "outputs": [
    {
     "data": {
      "text/plain": [
       "Index(['nx', 'ny', 'volume_fraction', 'filter_rmin', 'initial_penalty',\n",
       "       'med_penalty', 'mesh_independency_filter', 'poisson_ratio_nu',\n",
       "       'number_of_nodes', 'Young_modulus_Emin', 'Young_modulus_Emax',\n",
       "       'load_nodes', 'load_orientations', 'load_intensities', 'fixed_nodes',\n",
       "       'type_fixed_nodes', 'final_objective_function_value',\n",
       "       'all_objective_function_values', 'design_reference',\n",
       "       'time_for_convergence'],\n",
       "      dtype='object')"
      ]
     },
     "execution_count": 8,
     "metadata": {},
     "output_type": "execute_result"
    }
   ],
   "source": [
    "df.columns"
   ]
  },
  {
   "cell_type": "code",
   "execution_count": 6,
   "metadata": {},
   "outputs": [],
   "source": [
    "import numpy as np\n",
    "nx = 100\n",
    "ny = 100\n",
    "possible_fixed_nodes = np.arange(0, ny+1).tolist()+ [m*(ny +1)-1 for m in range(2,nx+1)] + np.sort(np.arange((ny+1)*nx, (nx+1)*(ny+1))).tolist()[::-1] + np.sort(np.asarray([m*(ny+1) for m in range(1,nx)])).tolist()[::-1]  "
   ]
  },
  {
   "cell_type": "code",
   "execution_count": 15,
   "metadata": {},
   "outputs": [],
   "source": [
    "# df.fixed_nodes[0].replace('[', '').replace(']', '').split(', ')"
   ]
  },
  {
   "cell_type": "code",
   "execution_count": 17,
   "metadata": {},
   "outputs": [],
   "source": [
    "\n",
    "# d1 is the distance between node0 and the 1st fixed node\n",
    "# d1 = index of 1st fixed node in the possible_fixed_nodes list / perimeter of the volume such that the perimeter of the volume = 2*(nx+ny) = len(possible_fixed_nodes)\n",
    "df['d1'] = [ possible_fixed_nodes.index(int(f.replace('[', '').replace(']', '').split(', ')[0]))/len(possible_fixed_nodes) for f in df.fixed_nodes ]\n",
    "# d2 is the distance between node0 and the last fixed node\n",
    "# d2 = index of lasst fixed node in the possible_fixed_nodes list / perimeter of the volume such that the perimeter of the volume = 2*(nx+ny) = len(possible_fixed_nodes)\n",
    "df['d2'] = [possible_fixed_nodes.index(int(f.replace('[', '').replace(']', '').split(', ')[-1]))/len(possible_fixed_nodes) for f in df.fixed_nodes]\n",
    "# d3 is the distance between node0 and the load node\n",
    "# NB: a load node here is an edge node\n",
    "# d3 = index of load node in the possible_fixed_nodes list / perimeter of the volume such that the perimeter of the volume = 2*(nx+ny) = len(possible_fixed_nodes)\n",
    "# Since there could be N load nodes, d3 is a list of distances\n",
    "df['d3'] = [[possible_fixed_nodes.index(int(l0))/len(possible_fixed_nodes) for l0 in l.replace('[', '').replace(']', '').split(', ')] for l in df.load_nodes]\n",
    "# d1, d2 and d3 are now borned parameters => GAN can easily learn to recreate them"
   ]
  },
  {
   "cell_type": "code",
   "execution_count": 19,
   "metadata": {},
   "outputs": [
    {
     "data": {
      "text/html": [
       "<div>\n",
       "<style scoped>\n",
       "    .dataframe tbody tr th:only-of-type {\n",
       "        vertical-align: middle;\n",
       "    }\n",
       "\n",
       "    .dataframe tbody tr th {\n",
       "        vertical-align: top;\n",
       "    }\n",
       "\n",
       "    .dataframe thead th {\n",
       "        text-align: right;\n",
       "    }\n",
       "</style>\n",
       "<table border=\"1\" class=\"dataframe\">\n",
       "  <thead>\n",
       "    <tr style=\"text-align: right;\">\n",
       "      <th></th>\n",
       "      <th>fixed_nodes</th>\n",
       "      <th>load_nodes</th>\n",
       "      <th>d1</th>\n",
       "      <th>d2</th>\n",
       "      <th>d3</th>\n",
       "    </tr>\n",
       "  </thead>\n",
       "  <tbody>\n",
       "    <tr>\n",
       "      <th>0</th>\n",
       "      <td>[0, 1, 2, 3, 4, 5, 6, 7, 8, 9, 10, 11, 12, 13,...</td>\n",
       "      <td>[10198, 7170, 9897, 8281]</td>\n",
       "      <td>0.000</td>\n",
       "      <td>0.1100</td>\n",
       "      <td>[0.505, 0.425, 0.4925, 0.4525]</td>\n",
       "    </tr>\n",
       "    <tr>\n",
       "      <th>1</th>\n",
       "      <td>[5050, 4949, 4848, 4747, 4646, 4545, 4444, 434...</td>\n",
       "      <td>[605]</td>\n",
       "      <td>0.875</td>\n",
       "      <td>0.9975</td>\n",
       "      <td>[0.2625]</td>\n",
       "    </tr>\n",
       "    <tr>\n",
       "      <th>2</th>\n",
       "      <td>[5050, 4949, 4848, 4747, 4646, 4545, 4444, 434...</td>\n",
       "      <td>[6160, 8483, 1817, 7675]</td>\n",
       "      <td>0.875</td>\n",
       "      <td>0.9925</td>\n",
       "      <td>[0.4, 0.4575, 0.2925, 0.4375]</td>\n",
       "    </tr>\n",
       "    <tr>\n",
       "      <th>3</th>\n",
       "      <td>[100, 201, 302, 403, 504, 605, 706, 807, 908, ...</td>\n",
       "      <td>[10146]</td>\n",
       "      <td>0.250</td>\n",
       "      <td>0.3650</td>\n",
       "      <td>[0.635]</td>\n",
       "    </tr>\n",
       "    <tr>\n",
       "      <th>4</th>\n",
       "      <td>[50, 51, 52, 53, 54, 55, 56, 57, 58, 59, 60, 6...</td>\n",
       "      <td>[10152, 10146]</td>\n",
       "      <td>0.125</td>\n",
       "      <td>0.2650</td>\n",
       "      <td>[0.62, 0.635]</td>\n",
       "    </tr>\n",
       "  </tbody>\n",
       "</table>\n",
       "</div>"
      ],
      "text/plain": [
       "                                         fixed_nodes  \\\n",
       "0  [0, 1, 2, 3, 4, 5, 6, 7, 8, 9, 10, 11, 12, 13,...   \n",
       "1  [5050, 4949, 4848, 4747, 4646, 4545, 4444, 434...   \n",
       "2  [5050, 4949, 4848, 4747, 4646, 4545, 4444, 434...   \n",
       "3  [100, 201, 302, 403, 504, 605, 706, 807, 908, ...   \n",
       "4  [50, 51, 52, 53, 54, 55, 56, 57, 58, 59, 60, 6...   \n",
       "\n",
       "                  load_nodes     d1      d2                              d3  \n",
       "0  [10198, 7170, 9897, 8281]  0.000  0.1100  [0.505, 0.425, 0.4925, 0.4525]  \n",
       "1                      [605]  0.875  0.9975                        [0.2625]  \n",
       "2   [6160, 8483, 1817, 7675]  0.875  0.9925   [0.4, 0.4575, 0.2925, 0.4375]  \n",
       "3                    [10146]  0.250  0.3650                         [0.635]  \n",
       "4             [10152, 10146]  0.125  0.2650                   [0.62, 0.635]  "
      ]
     },
     "execution_count": 19,
     "metadata": {},
     "output_type": "execute_result"
    }
   ],
   "source": [
    "df.head()[['fixed_nodes', 'load_nodes', 'd1', 'd2', 'd3']]"
   ]
  },
  {
   "cell_type": "code",
   "execution_count": 21,
   "metadata": {},
   "outputs": [
    {
     "data": {
      "text/plain": [
       "0.505"
      ]
     },
     "execution_count": 21,
     "metadata": {},
     "output_type": "execute_result"
    }
   ],
   "source": [
    "possible_fixed_nodes.index(10198)/len(possible_fixed_nodes)"
   ]
  },
  {
   "cell_type": "code",
   "execution_count": 22,
   "metadata": {},
   "outputs": [],
   "source": [
    "df.to_excel('./sample_data/parameters/design_parameters_until_220-02-04_v2.0.xlsx', 'data')"
   ]
  },
  {
   "cell_type": "code",
   "execution_count": null,
   "metadata": {},
   "outputs": [],
   "source": []
  }
 ],
 "metadata": {
  "kernelspec": {
   "display_name": "Python 3",
   "language": "python",
   "name": "python3"
  },
  "language_info": {
   "codemirror_mode": {
    "name": "ipython",
    "version": 3
   },
   "file_extension": ".py",
   "mimetype": "text/x-python",
   "name": "python",
   "nbconvert_exporter": "python",
   "pygments_lexer": "ipython3",
   "version": "3.7.1"
  }
 },
 "nbformat": 4,
 "nbformat_minor": 2
}
