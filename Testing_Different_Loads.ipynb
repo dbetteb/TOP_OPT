{
 "cells": [
  {
   "cell_type": "code",
   "execution_count": 2,
   "metadata": {},
   "outputs": [],
   "source": [
    "from SetTopol import TopolSettings\n",
    "import numpy as np"
   ]
  },
  {
   "cell_type": "code",
   "execution_count": 3,
   "metadata": {},
   "outputs": [],
   "source": [
    "top = TopolSettings(nx = 50, ny = 50, vol = 0.5, rmin = 5.4, penalinit = 3.0, penalmed = 3.0, filt = 0, nu=0.3)"
   ]
  },
  {
   "cell_type": "code",
   "execution_count": 5,
   "metadata": {},
   "outputs": [],
   "source": [
    "# fixed on the left side + load on upper right downward\n",
    "top.setf(value=1, node=51*50, teta=270)\n",
    "top.setfixed(list_nodes=np.arange(0,51))\n",
    "top.optimize(store=True)\n",
    "top.plot()"
   ]
  },
  {
   "cell_type": "code",
   "execution_count": 13,
   "metadata": {
    "scrolled": true
   },
   "outputs": [
    {
     "name": "stdout",
     "output_type": "stream",
     "text": [
      "it.: 1 , obj.: 122.849 Vol.: 0.500, ch.: 0.200\n",
      "it.: 2 , obj.: 67.225 Vol.: 0.500, ch.: 0.200\n",
      "it.: 3 , obj.: 44.583 Vol.: 0.500, ch.: 0.200\n",
      "it.: 4 , obj.: 34.375 Vol.: 0.500, ch.: 0.200\n",
      "it.: 5 , obj.: 29.718 Vol.: 0.500, ch.: 0.171\n",
      "it.: 6 , obj.: 27.110 Vol.: 0.500, ch.: 0.137\n",
      "it.: 7 , obj.: 25.887 Vol.: 0.500, ch.: 0.100\n",
      "it.: 8 , obj.: 25.250 Vol.: 0.500, ch.: 0.073\n",
      "it.: 9 , obj.: 24.872 Vol.: 0.500, ch.: 0.053\n",
      "it.: 10 , obj.: 24.617 Vol.: 0.500, ch.: 0.049\n",
      "it.: 11 , obj.: 24.430 Vol.: 0.500, ch.: 0.043\n",
      "it.: 12 , obj.: 24.290 Vol.: 0.500, ch.: 0.035\n",
      "it.: 13 , obj.: 24.186 Vol.: 0.500, ch.: 0.027\n",
      "it.: 14 , obj.: 24.113 Vol.: 0.500, ch.: 0.019\n",
      "it.: 15 , obj.: 24.062 Vol.: 0.500, ch.: 0.014\n",
      "it.: 16 , obj.: 24.026 Vol.: 0.500, ch.: 0.011\n",
      "it.: 17 , obj.: 24.001 Vol.: 0.500, ch.: 0.010\n",
      "it.: 18 , obj.: 23.982 Vol.: 0.500, ch.: 0.008\n",
      "it.: 19 , obj.: 23.968 Vol.: 0.500, ch.: 0.008\n",
      "it.: 20 , obj.: 23.958 Vol.: 0.500, ch.: 0.007\n",
      "it.: 21 , obj.: 23.949 Vol.: 0.500, ch.: 0.006\n",
      "it.: 22 , obj.: 23.943 Vol.: 0.500, ch.: 0.006\n",
      "it.: 23 , obj.: 23.937 Vol.: 0.500, ch.: 0.005\n",
      "it.: 24 , obj.: 23.933 Vol.: 0.500, ch.: 0.005\n",
      "it.: 25 , obj.: 23.930 Vol.: 0.500, ch.: 0.004\n",
      "it.: 26 , obj.: 23.927 Vol.: 0.500, ch.: 0.004\n",
      "it.: 27 , obj.: 23.924 Vol.: 0.500, ch.: 0.004\n",
      "it.: 28 , obj.: 23.922 Vol.: 0.500, ch.: 0.003\n",
      "it.: 29 , obj.: 23.921 Vol.: 0.500, ch.: 0.003\n",
      "it.: 30 , obj.: 23.919 Vol.: 0.500, ch.: 0.003\n",
      "it.: 31 , obj.: 23.918 Vol.: 0.500, ch.: 0.003\n",
      "it.: 32 , obj.: 23.917 Vol.: 0.500, ch.: 0.002\n",
      "it.: 33 , obj.: 23.916 Vol.: 0.500, ch.: 0.002\n",
      "it.: 34 , obj.: 23.915 Vol.: 0.500, ch.: 0.002\n",
      "it.: 35 , obj.: 23.914 Vol.: 0.500, ch.: 0.002\n",
      "it.: 36 , obj.: 23.913 Vol.: 0.500, ch.: 0.002\n",
      "it.: 37 , obj.: 23.913 Vol.: 0.500, ch.: 0.002\n",
      "it.: 38 , obj.: 23.912 Vol.: 0.500, ch.: 0.002\n",
      "it.: 39 , obj.: 23.912 Vol.: 0.500, ch.: 0.002\n",
      "it.: 40 , obj.: 23.911 Vol.: 0.500, ch.: 0.001\n",
      "it.: 41 , obj.: 23.911 Vol.: 0.500, ch.: 0.001\n",
      "it.: 42 , obj.: 23.911 Vol.: 0.500, ch.: 0.001\n",
      "it.: 43 , obj.: 23.911 Vol.: 0.500, ch.: 0.001\n",
      "it.: 44 , obj.: 23.911 Vol.: 0.500, ch.: 0.001\n",
      "it.: 45 , obj.: 23.911 Vol.: 0.500, ch.: 0.001\n",
      "it.: 46 , obj.: 23.910 Vol.: 0.500, ch.: 0.001\n",
      "it.: 47 , obj.: 23.910 Vol.: 0.500, ch.: 0.001\n",
      "it.: 48 , obj.: 23.910 Vol.: 0.500, ch.: 0.001\n",
      "it.: 49 , obj.: 23.910 Vol.: 0.500, ch.: 0.001\n",
      "it.: 50 , obj.: 23.910 Vol.: 0.500, ch.: 0.001\n",
      "it.: 51 , obj.: 23.910 Vol.: 0.500, ch.: 0.001\n",
      "it.: 52 , obj.: 23.910 Vol.: 0.500, ch.: 0.001\n",
      "it.: 53 , obj.: 23.910 Vol.: 0.500, ch.: 0.001\n",
      "it.: 54 , obj.: 23.910 Vol.: 0.500, ch.: 0.001\n",
      "it.: 55 , obj.: 23.910 Vol.: 0.500, ch.: 0.001\n",
      "it.: 56 , obj.: 23.910 Vol.: 0.500, ch.: 0.001\n",
      "it.: 57 , obj.: 23.910 Vol.: 0.500, ch.: 0.001\n",
      "it.: 58 , obj.: 23.910 Vol.: 0.500, ch.: 0.001\n",
      "it.: 59 , obj.: 23.910 Vol.: 0.500, ch.: 0.001\n",
      "it.: 60 , obj.: 23.910 Vol.: 0.500, ch.: 0.001\n",
      "Elapsed time : 4.5069661140441895 s\n",
      "Saving plot ... \n"
     ]
    },
    {
     "data": {
      "image/png": "[encoded data removed]",
      "text/plain": [
       "<Figure size 432x288 with 2 Axes>"
      ]
     },
     "execution_count": 13,
     "metadata": {},
     "output_type": "execute_result"
    },
    {
     "data": {
      "image/png": "[encoded data removed]",
      "text/plain": [
       "<Figure size 432x288 with 2 Axes>"
      ]
     },
     "metadata": {
      "needs_background": "light"
     },
     "output_type": "display_data"
    }
   ],
   "source": [
    "# fixed on the left side + load on bottom right downward\n",
    "top.setf(value=1, node=51*51-1, teta=270)\n",
    "top.setfixed(list_nodes=np.arange(0,51))\n",
    "top.optimize(store=True)\n",
    "top.plot()"
   ]
  },
  {
   "cell_type": "code",
   "execution_count": 12,
   "metadata": {
    "scrolled": true
   },
   "outputs": [
    {
     "name": "stdout",
     "output_type": "stream",
     "text": [
      "it.: 1 , obj.: 168.767 Vol.: 0.500, ch.: 0.200\n",
      "it.: 2 , obj.: 80.664 Vol.: 0.500, ch.: 0.200\n",
      "it.: 3 , obj.: 48.506 Vol.: 0.500, ch.: 0.200\n",
      "it.: 4 , obj.: 36.776 Vol.: 0.500, ch.: 0.200\n",
      "it.: 5 , obj.: 33.039 Vol.: 0.500, ch.: 0.200\n",
      "it.: 6 , obj.: 30.736 Vol.: 0.500, ch.: 0.189\n",
      "it.: 7 , obj.: 29.655 Vol.: 0.500, ch.: 0.154\n",
      "it.: 8 , obj.: 29.149 Vol.: 0.500, ch.: 0.106\n",
      "it.: 9 , obj.: 28.878 Vol.: 0.500, ch.: 0.071\n",
      "it.: 10 , obj.: 28.715 Vol.: 0.500, ch.: 0.048\n",
      "it.: 11 , obj.: 28.607 Vol.: 0.500, ch.: 0.040\n",
      "it.: 12 , obj.: 28.532 Vol.: 0.500, ch.: 0.035\n",
      "it.: 13 , obj.: 28.477 Vol.: 0.500, ch.: 0.031\n",
      "it.: 14 , obj.: 28.436 Vol.: 0.500, ch.: 0.027\n",
      "it.: 15 , obj.: 28.403 Vol.: 0.500, ch.: 0.024\n",
      "it.: 16 , obj.: 28.377 Vol.: 0.500, ch.: 0.022\n",
      "it.: 17 , obj.: 28.355 Vol.: 0.500, ch.: 0.019\n",
      "it.: 18 , obj.: 28.336 Vol.: 0.500, ch.: 0.017\n",
      "it.: 19 , obj.: 28.320 Vol.: 0.500, ch.: 0.015\n",
      "it.: 20 , obj.: 28.306 Vol.: 0.500, ch.: 0.014\n",
      "it.: 21 , obj.: 28.294 Vol.: 0.500, ch.: 0.013\n",
      "it.: 22 , obj.: 28.283 Vol.: 0.500, ch.: 0.012\n",
      "it.: 23 , obj.: 28.274 Vol.: 0.500, ch.: 0.011\n",
      "it.: 24 , obj.: 28.265 Vol.: 0.500, ch.: 0.010\n",
      "it.: 25 , obj.: 28.258 Vol.: 0.500, ch.: 0.009\n",
      "it.: 26 , obj.: 28.252 Vol.: 0.500, ch.: 0.008\n",
      "it.: 27 , obj.: 28.246 Vol.: 0.500, ch.: 0.007\n",
      "it.: 28 , obj.: 28.241 Vol.: 0.500, ch.: 0.007\n",
      "it.: 29 , obj.: 28.237 Vol.: 0.500, ch.: 0.006\n",
      "it.: 30 , obj.: 28.233 Vol.: 0.500, ch.: 0.006\n",
      "it.: 31 , obj.: 28.229 Vol.: 0.500, ch.: 0.005\n",
      "it.: 32 , obj.: 28.226 Vol.: 0.500, ch.: 0.005\n",
      "it.: 33 , obj.: 28.223 Vol.: 0.500, ch.: 0.004\n",
      "it.: 34 , obj.: 28.221 Vol.: 0.500, ch.: 0.004\n",
      "it.: 35 , obj.: 28.219 Vol.: 0.500, ch.: 0.003\n",
      "it.: 36 , obj.: 28.217 Vol.: 0.500, ch.: 0.003\n",
      "it.: 37 , obj.: 28.215 Vol.: 0.500, ch.: 0.003\n",
      "it.: 38 , obj.: 28.213 Vol.: 0.500, ch.: 0.003\n",
      "it.: 39 , obj.: 28.212 Vol.: 0.500, ch.: 0.002\n",
      "it.: 40 , obj.: 28.211 Vol.: 0.500, ch.: 0.002\n",
      "it.: 41 , obj.: 28.210 Vol.: 0.500, ch.: 0.002\n",
      "it.: 42 , obj.: 28.209 Vol.: 0.500, ch.: 0.002\n",
      "it.: 43 , obj.: 28.208 Vol.: 0.500, ch.: 0.002\n",
      "it.: 44 , obj.: 28.207 Vol.: 0.500, ch.: 0.002\n",
      "it.: 45 , obj.: 28.206 Vol.: 0.500, ch.: 0.001\n",
      "it.: 46 , obj.: 28.206 Vol.: 0.500, ch.: 0.001\n",
      "it.: 47 , obj.: 28.205 Vol.: 0.500, ch.: 0.001\n",
      "it.: 48 , obj.: 28.205 Vol.: 0.500, ch.: 0.001\n",
      "it.: 49 , obj.: 28.204 Vol.: 0.500, ch.: 0.001\n",
      "Elapsed time : 4.465506553649902 s\n",
      "Saving plot ... \n"
     ]
    },
    {
     "data": {
      "image/png": "[encoded data removed]",
      "text/plain": [
       "<Figure size 432x288 with 2 Axes>"
      ]
     },
     "execution_count": 12,
     "metadata": {},
     "output_type": "execute_result"
    },
    {
     "data": {
      "image/png": "[encoded data removed]",
      "text/plain": [
       "<Figure size 432x288 with 2 Axes>"
      ]
     },
     "metadata": {
      "needs_background": "light"
     },
     "output_type": "display_data"
    }
   ],
   "source": [
    "# fixed on the left side + load on bottom right with 45 degrees of inclination\n",
    "top.setf(value=1, node=51*51-1, teta=45+180)\n",
    "top.setfixed(list_nodes=np.arange(0,51))\n",
    "top.optimize(store=True)\n",
    "top.plot()"
   ]
  },
  {
   "cell_type": "code",
   "execution_count": null,
   "metadata": {},
   "outputs": [],
   "source": [
    "# the plots are saved in the folder"
   ]
  },
  {
   "cell_type": "markdown",
   "metadata": {},
   "source": [
    "### Generating the Dataset"
   ]
  },
  {
   "cell_type": "code",
   "execution_count": 35,
   "metadata": {},
   "outputs": [],
   "source": [
    "top = TopolSettings(nx = 4, ny = 2, vol = 0.5, rmin = 5.4, penalinit = 3.0, penalmed = 3.0, filt = 0, nu=0.3)\n",
    "possible_fixed_nodes = np.arange(0, top.ny+1).tolist()+ [m*(top.ny +1)-1 for m in range(2,top.nx+1)] + [m*(top.ny+1) for m in range(1,top.nx)] + np.arange((top.ny+1)*top.nx, (top.nx+1)*(top.ny+1)).tolist() \n",
    "count = 0\n",
    "fixed_part = \"\"\n",
    "for node in possible_fixed_nodes:\n",
    "    for list_nodes in [np.arange(0,top.ny+1).tolist(), [m*(top.ny+1) for m in range(0,top.nx+1)], [m*(top.ny +1)-1 for m in range(1,top.nx+2)], np.arange((top.ny+1)*top.nx, (top.nx+1)*(top.ny+1)).tolist()]:\n",
    "        for teta in [180+90]: # [45,90,180,180+45,180+90] with teta = 180+90 only we have 596 output_plot\n",
    "            if node not in list_nodes: # i do not want to put load on a fixed edge\n",
    "                count+=1\n",
    "                top.setf(value=1, node=node, teta=teta)\n",
    "                top.setfixed(list_nodes=list_nodes)\n",
    "                top.optimize(store=True)\n",
    "                top.plot()"
   ]
  },
  {
   "cell_type": "code",
   "execution_count": 27,
   "metadata": {},
   "outputs": [
    {
     "data": {
      "text/plain": [
       "596"
      ]
     },
     "execution_count": 27,
     "metadata": {},
     "output_type": "execute_result"
    }
   ],
   "source": [
    "count"
   ]
  },
  {
   "cell_type": "code",
   "execution_count": null,
   "metadata": {},
   "outputs": [],
   "source": []
  }
 ],
 "metadata": {
  "kernelspec": {
   "display_name": "Python 3",
   "language": "python",
   "name": "python3"
  },
  "language_info": {
   "codemirror_mode": {
    "name": "ipython",
    "version": 3
   },
   "file_extension": ".py",
   "mimetype": "text/x-python",
   "name": "python",
   "nbconvert_exporter": "python",
   "pygments_lexer": "ipython3",
   "version": "3.7.1"
  }
 },
 "nbformat": 4,
 "nbformat_minor": 2
}
